{
  "nbformat": 4,
  "nbformat_minor": 0,
  "metadata": {
    "colab": {
      "name": "multiclass_neural.ipynb",
      "provenance": [],
      "collapsed_sections": []
    },
    "kernelspec": {
      "name": "python3",
      "display_name": "Python 3"
    },
    "accelerator": "GPU"
  },
  "cells": [
    {
      "cell_type": "markdown",
      "metadata": {
        "collapsed": true,
        "id": "s-eV5CsdQQwz",
        "colab_type": "text"
      },
      "source": [
        "## Метод на нейронной сети"
      ]
    },
    {
      "cell_type": "markdown",
      "metadata": {
        "id": "DDaEs29iQQw2",
        "colab_type": "text"
      },
      "source": [
        "Подключаемые модули"
      ]
    },
    {
      "cell_type": "code",
      "metadata": {
        "id": "SuWgDGaZQQw2",
        "colab_type": "code",
        "colab": {}
      },
      "source": [
        "import pandas as pd\n",
        "import numpy as np\n",
        "import pickle\n",
        "import math"
      ],
      "execution_count": 0,
      "outputs": []
    },
    {
      "cell_type": "markdown",
      "metadata": {
        "id": "dVv09eQpQQw7",
        "colab_type": "text"
      },
      "source": [
        "Подгрузка данных о доменных именах с диска "
      ]
    },
    {
      "cell_type": "code",
      "metadata": {
        "id": "UEYGs7TBRGcZ",
        "colab_type": "code",
        "outputId": "f9a72b23-6147-4074-bb4d-85c567900c13",
        "colab": {
          "base_uri": "https://localhost:8080/",
          "height": 34
        }
      },
      "source": [
        "from google.colab import drive\n",
        "drive.mount('/content/gdrive')"
      ],
      "execution_count": 2,
      "outputs": [
        {
          "output_type": "stream",
          "text": [
            "Drive already mounted at /content/gdrive; to attempt to forcibly remount, call drive.mount(\"/content/gdrive\", force_remount=True).\n"
          ],
          "name": "stdout"
        }
      ]
    },
    {
      "cell_type": "code",
      "metadata": {
        "id": "CR3e-OXeQQw9",
        "colab_type": "code",
        "colab": {}
      },
      "source": [
        "with open('/content/gdrive/My Drive/Colab Notebooks/Res/input data/training_data.pkl', 'rb') as f:\n",
        "  training_data = pickle.load(f)"
      ],
      "execution_count": 0,
      "outputs": []
    },
    {
      "cell_type": "markdown",
      "metadata": {
        "id": "O7tVwOQRQQxL",
        "colab_type": "text"
      },
      "source": [
        "Общая коллекция данных"
      ]
    },
    {
      "cell_type": "code",
      "metadata": {
        "id": "PnTpLfkid8Jo",
        "colab_type": "code",
        "colab": {}
      },
      "source": [
        "family_dict = {idx+1:x for idx, x in enumerate(training_data['dga']['family'].unique())}"
      ],
      "execution_count": 0,
      "outputs": []
    },
    {
      "cell_type": "code",
      "metadata": {
        "id": "KyPb93rBc2qP",
        "colab_type": "code",
        "colab": {}
      },
      "source": [
        "classes = len(family_dict)"
      ],
      "execution_count": 0,
      "outputs": []
    },
    {
      "cell_type": "code",
      "metadata": {
        "id": "oK-QAnD5eBnC",
        "colab_type": "code",
        "colab": {
          "base_uri": "https://localhost:8080/",
          "height": 958
        },
        "outputId": "026d98ec-21dc-46ca-bb45-2c5873caecf3"
      },
      "source": [
        "family_dict"
      ],
      "execution_count": 6,
      "outputs": [
        {
          "output_type": "execute_result",
          "data": {
            "text/plain": [
              "{1: 'Cryptolocker',\n",
              " 2: 'Post',\n",
              " 3: 'geodo',\n",
              " 4: 'dyre',\n",
              " 5: 'corebot',\n",
              " 6: 'symmi',\n",
              " 7: 'nymaim',\n",
              " 8: 'padcrypt',\n",
              " 9: 'virut',\n",
              " 10: 'matsnu',\n",
              " 11: 'tinba',\n",
              " 12: 'pushdo',\n",
              " 13: 'P2P',\n",
              " 14: 'shifu',\n",
              " 15: 'shiotob/urlzone/bebloh',\n",
              " 16: 'banjori',\n",
              " 17: 'hesperbot',\n",
              " 18: 'cryptowall',\n",
              " 19: 'ramnit',\n",
              " 20: 'dircrypt',\n",
              " 21: 'ranbyus',\n",
              " 22: 'simda',\n",
              " 23: 'pykspa',\n",
              " 24: 'murofet',\n",
              " 25: 'locky',\n",
              " 26: 'Volatile',\n",
              " 27: 'beebone',\n",
              " 28: 'bedep',\n",
              " 29: 'suppobox',\n",
              " 30: 'fobber',\n",
              " 31: 'necurs',\n",
              " 32: 'qakbot',\n",
              " 33: 'mydoom',\n",
              " 34: 'tempedreve',\n",
              " 35: 'ramdo',\n",
              " 36: 'kraken',\n",
              " 37: 'bamital',\n",
              " 38: 'vawtrak',\n",
              " 39: 'sisron',\n",
              " 40: 'chinad',\n",
              " 41: 'gozi',\n",
              " 42: 'sphinx',\n",
              " 43: 'proslikefan',\n",
              " 44: 'vidro',\n",
              " 45: 'madmax',\n",
              " 46: 'dromedan',\n",
              " 47: 'g01',\n",
              " 48: 'pandabanker',\n",
              " 49: 'pizd',\n",
              " 50: 'mirai',\n",
              " 51: 'tofsee',\n",
              " 52: 'unknownjs',\n",
              " 53: 'unknowndropper'}"
            ]
          },
          "metadata": {
            "tags": []
          },
          "execution_count": 6
        }
      ]
    },
    {
      "cell_type": "code",
      "metadata": {
        "id": "itBrrCEZQQxP",
        "colab_type": "code",
        "colab": {
          "base_uri": "https://localhost:8080/",
          "height": 158
        },
        "outputId": "e540f3d3-7da0-405e-a9f7-081cf79785ff"
      },
      "source": [
        "all_data_dict = pd.concat([training_data['legit'], training_data['dga']], ignore_index=True)\n",
        "dga_data_dict = pd.concat([training_data['dga']], ignore_index=True)"
      ],
      "execution_count": 7,
      "outputs": [
        {
          "output_type": "stream",
          "text": [
            "/usr/local/lib/python3.6/dist-packages/ipykernel_launcher.py:1: FutureWarning: Sorting because non-concatenation axis is not aligned. A future version\n",
            "of pandas will change to not sort by default.\n",
            "\n",
            "To accept the future behavior, pass 'sort=False'.\n",
            "\n",
            "To retain the current behavior and silence the warning, pass 'sort=True'.\n",
            "\n",
            "  \"\"\"Entry point for launching an IPython kernel.\n"
          ],
          "name": "stderr"
        }
      ]
    },
    {
      "cell_type": "code",
      "metadata": {
        "id": "34WsXHS150Po",
        "colab_type": "code",
        "outputId": "d09c349b-c913-439c-877d-9893fb7b2fbc",
        "colab": {
          "base_uri": "https://localhost:8080/",
          "height": 406
        }
      },
      "source": [
        "all_data_dict"
      ],
      "execution_count": 8,
      "outputs": [
        {
          "output_type": "execute_result",
          "data": {
            "text/html": [
              "<div>\n",
              "<style scoped>\n",
              "    .dataframe tbody tr th:only-of-type {\n",
              "        vertical-align: middle;\n",
              "    }\n",
              "\n",
              "    .dataframe tbody tr th {\n",
              "        vertical-align: top;\n",
              "    }\n",
              "\n",
              "    .dataframe thead th {\n",
              "        text-align: right;\n",
              "    }\n",
              "</style>\n",
              "<table border=\"1\" class=\"dataframe\">\n",
              "  <thead>\n",
              "    <tr style=\"text-align: right;\">\n",
              "      <th></th>\n",
              "      <th>data</th>\n",
              "      <th>domain</th>\n",
              "      <th>family</th>\n",
              "      <th>subtype</th>\n",
              "      <th>type</th>\n",
              "    </tr>\n",
              "  </thead>\n",
              "  <tbody>\n",
              "    <tr>\n",
              "      <th>0</th>\n",
              "      <td>NaN</td>\n",
              "      <td>netflix</td>\n",
              "      <td>NaN</td>\n",
              "      <td>NaN</td>\n",
              "      <td>0</td>\n",
              "    </tr>\n",
              "    <tr>\n",
              "      <th>1</th>\n",
              "      <td>NaN</td>\n",
              "      <td>netflix</td>\n",
              "      <td>NaN</td>\n",
              "      <td>NaN</td>\n",
              "      <td>0</td>\n",
              "    </tr>\n",
              "    <tr>\n",
              "      <th>2</th>\n",
              "      <td>NaN</td>\n",
              "      <td>netflix</td>\n",
              "      <td>NaN</td>\n",
              "      <td>NaN</td>\n",
              "      <td>0</td>\n",
              "    </tr>\n",
              "    <tr>\n",
              "      <th>3</th>\n",
              "      <td>NaN</td>\n",
              "      <td>netflix</td>\n",
              "      <td>NaN</td>\n",
              "      <td>NaN</td>\n",
              "      <td>0</td>\n",
              "    </tr>\n",
              "    <tr>\n",
              "      <th>4</th>\n",
              "      <td>NaN</td>\n",
              "      <td>google</td>\n",
              "      <td>NaN</td>\n",
              "      <td>NaN</td>\n",
              "      <td>0</td>\n",
              "    </tr>\n",
              "    <tr>\n",
              "      <th>...</th>\n",
              "      <td>...</td>\n",
              "      <td>...</td>\n",
              "      <td>...</td>\n",
              "      <td>...</td>\n",
              "      <td>...</td>\n",
              "    </tr>\n",
              "    <tr>\n",
              "      <th>1817626</th>\n",
              "      <td>2019-11-16</td>\n",
              "      <td>tkdnd</td>\n",
              "      <td>unknowndropper</td>\n",
              "      <td>52.0</td>\n",
              "      <td>1</td>\n",
              "    </tr>\n",
              "    <tr>\n",
              "      <th>1817627</th>\n",
              "      <td>2019-11-16</td>\n",
              "      <td>tkndd</td>\n",
              "      <td>unknowndropper</td>\n",
              "      <td>52.0</td>\n",
              "      <td>1</td>\n",
              "    </tr>\n",
              "    <tr>\n",
              "      <th>1817628</th>\n",
              "      <td>2019-11-16</td>\n",
              "      <td>tnddk</td>\n",
              "      <td>unknowndropper</td>\n",
              "      <td>52.0</td>\n",
              "      <td>1</td>\n",
              "    </tr>\n",
              "    <tr>\n",
              "      <th>1817629</th>\n",
              "      <td>2019-11-16</td>\n",
              "      <td>tndkd</td>\n",
              "      <td>unknowndropper</td>\n",
              "      <td>52.0</td>\n",
              "      <td>1</td>\n",
              "    </tr>\n",
              "    <tr>\n",
              "      <th>1817630</th>\n",
              "      <td>2019-11-16</td>\n",
              "      <td>tnkdd</td>\n",
              "      <td>unknowndropper</td>\n",
              "      <td>52.0</td>\n",
              "      <td>1</td>\n",
              "    </tr>\n",
              "  </tbody>\n",
              "</table>\n",
              "<p>1817631 rows × 5 columns</p>\n",
              "</div>"
            ],
            "text/plain": [
              "               data   domain          family  subtype  type\n",
              "0               NaN  netflix             NaN      NaN     0\n",
              "1               NaN  netflix             NaN      NaN     0\n",
              "2               NaN  netflix             NaN      NaN     0\n",
              "3               NaN  netflix             NaN      NaN     0\n",
              "4               NaN   google             NaN      NaN     0\n",
              "...             ...      ...             ...      ...   ...\n",
              "1817626  2019-11-16    tkdnd  unknowndropper     52.0     1\n",
              "1817627  2019-11-16    tkndd  unknowndropper     52.0     1\n",
              "1817628  2019-11-16    tnddk  unknowndropper     52.0     1\n",
              "1817629  2019-11-16    tndkd  unknowndropper     52.0     1\n",
              "1817630  2019-11-16    tnkdd  unknowndropper     52.0     1\n",
              "\n",
              "[1817631 rows x 5 columns]"
            ]
          },
          "metadata": {
            "tags": []
          },
          "execution_count": 8
        }
      ]
    },
    {
      "cell_type": "markdown",
      "metadata": {
        "id": "TN5dTFRVQQxd",
        "colab_type": "text"
      },
      "source": [
        "Массивы обучения"
      ]
    },
    {
      "cell_type": "code",
      "metadata": {
        "id": "R39RaDUqQQxf",
        "colab_type": "code",
        "colab": {}
      },
      "source": [
        "# Массив x хранит образцы обучения\n",
        "# В массиве y хранятся целевые значения (метки типов) для образцов обучения\n",
        "X = np.array(all_data_dict['domain'].tolist())\n",
        "y = np.array(all_data_dict['type'].tolist())\n",
        "X_dga = np.array(dga_data_dict['domain'].tolist())\n",
        "y_dga = np.array(dga_data_dict['subtype'].tolist())"
      ],
      "execution_count": 0,
      "outputs": []
    },
    {
      "cell_type": "code",
      "metadata": {
        "id": "T4ry34wkp1hv",
        "colab_type": "code",
        "outputId": "02227c1a-c9fb-4653-ca81-f0ca89fb8633",
        "colab": {
          "base_uri": "https://localhost:8080/",
          "height": 52
        }
      },
      "source": [
        "X_dga"
      ],
      "execution_count": 10,
      "outputs": [
        {
          "output_type": "execute_result",
          "data": {
            "text/plain": [
              "array(['yfxihttvspowlj', 'ibontoytrpwule', 'vnnvwjuhiroolh', ..., 'tnddk',\n",
              "       'tndkd', 'tnkdd'], dtype='<U44')"
            ]
          },
          "metadata": {
            "tags": []
          },
          "execution_count": 10
        }
      ]
    },
    {
      "cell_type": "code",
      "metadata": {
        "id": "H7nG1eQZp2h6",
        "colab_type": "code",
        "outputId": "d18cb4cc-fd98-48b8-dabe-5d7cf6ef7603",
        "colab": {
          "base_uri": "https://localhost:8080/",
          "height": 34
        }
      },
      "source": [
        "y_dga"
      ],
      "execution_count": 11,
      "outputs": [
        {
          "output_type": "execute_result",
          "data": {
            "text/plain": [
              "array([ 0,  0,  0, ..., 52, 52, 52])"
            ]
          },
          "metadata": {
            "tags": []
          },
          "execution_count": 11
        }
      ]
    },
    {
      "cell_type": "code",
      "metadata": {
        "id": "LShZWT6TQQxu",
        "colab_type": "code",
        "colab": {
          "base_uri": "https://localhost:8080/",
          "height": 63
        },
        "outputId": "b388eac8-578e-4c2c-b886-155f9f3915db"
      },
      "source": [
        "from tensorflow.keras.preprocessing import sequence"
      ],
      "execution_count": 12,
      "outputs": [
        {
          "output_type": "display_data",
          "data": {
            "text/html": [
              "<p style=\"color: red;\">\n",
              "The default version of TensorFlow in Colab will soon switch to TensorFlow 2.x.<br>\n",
              "We recommend you <a href=\"https://www.tensorflow.org/guide/migrate\" target=\"_blank\">upgrade</a> now \n",
              "or ensure your notebook will continue to use TensorFlow 1.x via the <code>%tensorflow_version 1.x</code> magic:\n",
              "<a href=\"https://colab.research.google.com/notebooks/tensorflow_version.ipynb\" target=\"_blank\">more info</a>.</p>\n"
            ],
            "text/plain": [
              "<IPython.core.display.HTML object>"
            ]
          },
          "metadata": {
            "tags": []
          }
        }
      ]
    },
    {
      "cell_type": "code",
      "metadata": {
        "id": "ngv8Qy1eQQxx",
        "colab_type": "code",
        "colab": {}
      },
      "source": [
        "# Создание словаря действительных символов\n",
        "valid_chars = {x:idx+1 for idx, x in enumerate(set(''.join(X)))}"
      ],
      "execution_count": 0,
      "outputs": []
    },
    {
      "cell_type": "code",
      "metadata": {
        "id": "-JkGMGXPpzG-",
        "colab_type": "code",
        "outputId": "66940555-5d51-4fe9-c4b2-0dc87542a3f2",
        "colab": {
          "base_uri": "https://localhost:8080/",
          "height": 674
        }
      },
      "source": [
        "valid_chars"
      ],
      "execution_count": 14,
      "outputs": [
        {
          "output_type": "execute_result",
          "data": {
            "text/plain": [
              "{'-': 32,\n",
              " '0': 17,\n",
              " '1': 14,\n",
              " '2': 16,\n",
              " '3': 21,\n",
              " '4': 30,\n",
              " '5': 8,\n",
              " '6': 4,\n",
              " '7': 13,\n",
              " '8': 19,\n",
              " '9': 33,\n",
              " 'a': 31,\n",
              " 'b': 27,\n",
              " 'c': 23,\n",
              " 'd': 37,\n",
              " 'e': 6,\n",
              " 'f': 12,\n",
              " 'g': 34,\n",
              " 'h': 3,\n",
              " 'i': 5,\n",
              " 'j': 18,\n",
              " 'k': 36,\n",
              " 'l': 11,\n",
              " 'm': 9,\n",
              " 'n': 35,\n",
              " 'o': 29,\n",
              " 'p': 2,\n",
              " 'q': 25,\n",
              " 'r': 22,\n",
              " 's': 26,\n",
              " 't': 7,\n",
              " 'u': 1,\n",
              " 'v': 20,\n",
              " 'w': 15,\n",
              " 'x': 24,\n",
              " 'y': 28,\n",
              " 'z': 10}"
            ]
          },
          "metadata": {
            "tags": []
          },
          "execution_count": 14
        }
      ]
    },
    {
      "cell_type": "code",
      "metadata": {
        "id": "pQbdNJXhQQx7",
        "colab_type": "code",
        "colab": {
          "base_uri": "https://localhost:8080/",
          "height": 34
        },
        "outputId": "cb47eff0-68ad-4d6d-e1ba-aa769eafa286"
      },
      "source": [
        "# Количество уникальных символов\n",
        "max_features = len(valid_chars) + 1\n",
        "max_features"
      ],
      "execution_count": 15,
      "outputs": [
        {
          "output_type": "execute_result",
          "data": {
            "text/plain": [
              "38"
            ]
          },
          "metadata": {
            "tags": []
          },
          "execution_count": 15
        }
      ]
    },
    {
      "cell_type": "code",
      "metadata": {
        "id": "KqMpgC50QQyE",
        "colab_type": "code",
        "outputId": "d38b0a6d-0d28-4d01-fa29-5305e515480b",
        "colab": {
          "base_uri": "https://localhost:8080/",
          "height": 34
        }
      },
      "source": [
        "# Макс последовательность символов\n",
        "maxlen = np.max([len(x) for x in X])\n",
        "maxlen"
      ],
      "execution_count": 16,
      "outputs": [
        {
          "output_type": "execute_result",
          "data": {
            "text/plain": [
              "53"
            ]
          },
          "metadata": {
            "tags": []
          },
          "execution_count": 16
        }
      ]
    },
    {
      "cell_type": "code",
      "metadata": {
        "id": "bQKNtWqlQQyM",
        "colab_type": "code",
        "colab": {}
      },
      "source": [
        "# Преобразование символов в int и pad (последовательности одиннаковой длины)\n",
        "X = [[valid_chars[y] for y in x] for x in X]\n",
        "X = sequence.pad_sequences(X, maxlen=maxlen)\n",
        "\n",
        "X_dga = [[valid_chars[y] for y in x] for x in X_dga]\n",
        "X_dga = sequence.pad_sequences(X_dga, maxlen=maxlen)"
      ],
      "execution_count": 0,
      "outputs": []
    },
    {
      "cell_type": "code",
      "metadata": {
        "id": "Qo6EH5LCp4RS",
        "colab_type": "code",
        "outputId": "2ac9a29a-1a73-428d-ebf9-366427a36efc",
        "colab": {
          "base_uri": "https://localhost:8080/",
          "height": 141
        }
      },
      "source": [
        "X"
      ],
      "execution_count": 18,
      "outputs": [
        {
          "output_type": "execute_result",
          "data": {
            "text/plain": [
              "array([[ 0,  0,  0, ..., 11,  5, 24],\n",
              "       [ 0,  0,  0, ..., 11,  5, 24],\n",
              "       [ 0,  0,  0, ..., 11,  5, 24],\n",
              "       ...,\n",
              "       [ 0,  0,  0, ..., 37, 37, 36],\n",
              "       [ 0,  0,  0, ..., 37, 36, 37],\n",
              "       [ 0,  0,  0, ..., 36, 37, 37]], dtype=int32)"
            ]
          },
          "metadata": {
            "tags": []
          },
          "execution_count": 18
        }
      ]
    },
    {
      "cell_type": "markdown",
      "metadata": {
        "id": "QkT1o9IWvw25",
        "colab_type": "text"
      },
      "source": [
        "Построение модели"
      ]
    },
    {
      "cell_type": "code",
      "metadata": {
        "id": "pvqshzI7DxPI",
        "colab_type": "code",
        "colab": {}
      },
      "source": [
        "from tensorflow.keras.models import Sequential\n",
        "from tensorflow.keras.layers import Dense, Dropout, Activation, Embedding, LSTM, SimpleRNN, GRU, Convolution1D, GlobalMaxPooling1D\n",
        "from sklearn.model_selection import train_test_split\n",
        "from tensorflow.keras.callbacks import EarlyStopping"
      ],
      "execution_count": 0,
      "outputs": []
    },
    {
      "cell_type": "code",
      "metadata": {
        "id": "0wbT82dE0b91",
        "colab_type": "code",
        "colab": {}
      },
      "source": [
        "# 33% для теста\n",
        "X_train, X_test, y_train, y_test = train_test_split(X, y, test_size=0.01, random_state=42)\n",
        "\n",
        "X_dga_train, X_dga_test, y_dga_train, y_dga_test = train_test_split(X_dga, y_dga, test_size=0.01, random_state=42)"
      ],
      "execution_count": 0,
      "outputs": []
    },
    {
      "cell_type": "code",
      "metadata": {
        "id": "k0O4sJGRQQym",
        "colab_type": "code",
        "colab": {
          "base_uri": "https://localhost:8080/",
          "height": 516
        },
        "outputId": "438ebae7-8257-4f2f-8bfd-cb697de09298"
      },
      "source": [
        "model = Sequential()\n",
        "model.add(Embedding(max_features, 128, input_length=maxlen))\n",
        "model.add(LSTM(128))\n",
        "model.add(Dropout(rate=0.2))\n",
        "model.add(Dense(1))\n",
        "model.add(Activation('sigmoid'))\n",
        "model.compile(loss='binary_crossentropy', optimizer='rmsprop', metrics=['accuracy'])\n",
        "model.summary()"
      ],
      "execution_count": 21,
      "outputs": [
        {
          "output_type": "stream",
          "text": [
            "WARNING:tensorflow:From /usr/local/lib/python3.6/dist-packages/tensorflow_core/python/keras/initializers.py:119: calling RandomUniform.__init__ (from tensorflow.python.ops.init_ops) with dtype is deprecated and will be removed in a future version.\n",
            "Instructions for updating:\n",
            "Call initializer instance with the dtype argument instead of passing it to the constructor\n",
            "WARNING:tensorflow:From /usr/local/lib/python3.6/dist-packages/tensorflow_core/python/ops/resource_variable_ops.py:1630: calling BaseResourceVariable.__init__ (from tensorflow.python.ops.resource_variable_ops) with constraint is deprecated and will be removed in a future version.\n",
            "Instructions for updating:\n",
            "If using Keras pass *_constraint arguments to layers.\n",
            "WARNING:tensorflow:From /usr/local/lib/python3.6/dist-packages/tensorflow_core/python/ops/nn_impl.py:183: where (from tensorflow.python.ops.array_ops) is deprecated and will be removed in a future version.\n",
            "Instructions for updating:\n",
            "Use tf.where in 2.0, which has the same broadcast rule as np.where\n",
            "Model: \"sequential\"\n",
            "_________________________________________________________________\n",
            "Layer (type)                 Output Shape              Param #   \n",
            "=================================================================\n",
            "embedding (Embedding)        (None, 53, 128)           4864      \n",
            "_________________________________________________________________\n",
            "lstm (LSTM)                  (None, 128)               131584    \n",
            "_________________________________________________________________\n",
            "dropout (Dropout)            (None, 128)               0         \n",
            "_________________________________________________________________\n",
            "dense (Dense)                (None, 1)                 129       \n",
            "_________________________________________________________________\n",
            "activation (Activation)      (None, 1)                 0         \n",
            "=================================================================\n",
            "Total params: 136,577\n",
            "Trainable params: 136,577\n",
            "Non-trainable params: 0\n",
            "_________________________________________________________________\n"
          ],
          "name": "stdout"
        }
      ]
    },
    {
      "cell_type": "code",
      "metadata": {
        "id": "HdaBcSVtx--I",
        "colab_type": "code",
        "colab": {
          "base_uri": "https://localhost:8080/",
          "height": 336
        },
        "outputId": "ed10dcb6-1876-46fd-f726-54c30e8f8403"
      },
      "source": [
        "model_dga = Sequential()\n",
        "model_dga.add(Embedding(max_features, 128, input_length=maxlen))\n",
        "model_dga.add(LSTM(128))\n",
        "model_dga.add(Dropout(rate=0.2))\n",
        "model_dga.add(Dense(classes))\n",
        "model_dga.add(Activation('sigmoid'))\n",
        "model_dga.compile(loss='sparse_categorical_crossentropy', optimizer='rmsprop', metrics=['sparse_categorical_accuracy'])\n",
        "model_dga.summary()"
      ],
      "execution_count": 22,
      "outputs": [
        {
          "output_type": "stream",
          "text": [
            "Model: \"sequential_1\"\n",
            "_________________________________________________________________\n",
            "Layer (type)                 Output Shape              Param #   \n",
            "=================================================================\n",
            "embedding_1 (Embedding)      (None, 53, 128)           4864      \n",
            "_________________________________________________________________\n",
            "lstm_1 (LSTM)                (None, 128)               131584    \n",
            "_________________________________________________________________\n",
            "dropout_1 (Dropout)          (None, 128)               0         \n",
            "_________________________________________________________________\n",
            "dense_1 (Dense)              (None, 53)                6837      \n",
            "_________________________________________________________________\n",
            "activation_1 (Activation)    (None, 53)                0         \n",
            "=================================================================\n",
            "Total params: 143,285\n",
            "Trainable params: 143,285\n",
            "Non-trainable params: 0\n",
            "_________________________________________________________________\n"
          ],
          "name": "stdout"
        }
      ]
    },
    {
      "cell_type": "code",
      "metadata": {
        "id": "j5AnIw2EJURu",
        "colab_type": "code",
        "colab": {
          "base_uri": "https://localhost:8080/",
          "height": 644
        },
        "outputId": "1f7f9547-7399-440a-8c93-de971bbbf551"
      },
      "source": [
        "from tensorflow.keras.utils import plot_model\n",
        "plot_model(model, to_file='model_plot4a.png', show_shapes=True, show_layer_names=True)"
      ],
      "execution_count": 23,
      "outputs": [
        {
          "output_type": "execute_result",
          "data": {
            "image/png": "[encoded data removed]",
            "text/plain": [
              "<IPython.core.display.Image object>"
            ]
          },
          "metadata": {
            "tags": []
          },
          "execution_count": 23
        }
      ]
    },
    {
      "cell_type": "code",
      "metadata": {
        "id": "Yz2Zx1ytyXW5",
        "colab_type": "code",
        "colab": {
          "base_uri": "https://localhost:8080/",
          "height": 644
        },
        "outputId": "0bbe6a60-1d27-4174-fa81-fb18ad785ee4"
      },
      "source": [
        "from tensorflow.keras.utils import plot_model\n",
        "plot_model(model_dga, to_file='model_plot4a.png', show_shapes=True, show_layer_names=True)"
      ],
      "execution_count": 24,
      "outputs": [
        {
          "output_type": "execute_result",
          "data": {
            "image/png": "[encoded data removed]",
            "text/plain": [
              "<IPython.core.display.Image object>"
            ]
          },
          "metadata": {
            "tags": []
          },
          "execution_count": 24
        }
      ]
    },
    {
      "cell_type": "code",
      "metadata": {
        "id": "ypZd01Kb1lcF",
        "colab_type": "code",
        "colab": {}
      },
      "source": [
        "# Игнорирование предостережения о нехватке памяти\n",
        "import warnings\n",
        "warnings.filterwarnings('ignore')"
      ],
      "execution_count": 0,
      "outputs": []
    },
    {
      "cell_type": "markdown",
      "metadata": {
        "id": "i7caSo4Sv3WF",
        "colab_type": "text"
      },
      "source": [
        "Обучение + кросс-валидация"
      ]
    },
    {
      "cell_type": "code",
      "metadata": {
        "id": "GGPCotEyaQNH",
        "colab_type": "code",
        "outputId": "49ff7d42-494f-44d5-957e-3fa85883ad66",
        "colab": {
          "base_uri": "https://localhost:8080/",
          "height": 230
        }
      },
      "source": [
        "model.fit(X_train, y_train, validation_data=(X_test,y_test), epochs=5, batch_size=1024, callbacks=[EarlyStopping(monitor='val_loss',min_delta=0.0001)])"
      ],
      "execution_count": 22,
      "outputs": [
        {
          "output_type": "stream",
          "text": [
            "Train on 1799454 samples, validate on 18177 samples\n",
            "Epoch 1/5\n",
            "1799454/1799454 [==============================] - 160s 89us/sample - loss: 0.1387 - acc: 0.9521 - val_loss: 0.0864 - val_acc: 0.9721\n",
            "Epoch 2/5\n",
            "1799454/1799454 [==============================] - 167s 93us/sample - loss: 0.0744 - acc: 0.9767 - val_loss: 0.0661 - val_acc: 0.9792\n",
            "Epoch 3/5\n",
            "1799454/1799454 [==============================] - 166s 92us/sample - loss: 0.0608 - acc: 0.9809 - val_loss: 0.0570 - val_acc: 0.9832\n",
            "Epoch 4/5\n",
            "1799454/1799454 [==============================] - 165s 91us/sample - loss: 0.0533 - acc: 0.9835 - val_loss: 0.0546 - val_acc: 0.9841\n",
            "Epoch 5/5\n",
            "1799454/1799454 [==============================] - 164s 91us/sample - loss: 0.0482 - acc: 0.9849 - val_loss: 0.0495 - val_acc: 0.9856\n"
          ],
          "name": "stdout"
        },
        {
          "output_type": "execute_result",
          "data": {
            "text/plain": [
              "<tensorflow.python.keras.callbacks.History at 0x7f395bb39eb8>"
            ]
          },
          "metadata": {
            "tags": []
          },
          "execution_count": 22
        }
      ]
    },
    {
      "cell_type": "code",
      "metadata": {
        "id": "8wX4SKHAyddR",
        "colab_type": "code",
        "colab": {
          "base_uri": "https://localhost:8080/",
          "height": 427
        },
        "outputId": "241138c3-835f-49e9-b929-2d3d44ea93c2"
      },
      "source": [
        "model_dga.fit(X_dga_train, y_dga_train, validation_data=(X_dga_test,y_dga_test), epochs=10, batch_size=1024, callbacks=[EarlyStopping(monitor='val_loss',min_delta=0.0001)])"
      ],
      "execution_count": 27,
      "outputs": [
        {
          "output_type": "stream",
          "text": [
            "Train on 809454 samples, validate on 8177 samples\n",
            "Epoch 1/10\n",
            "809454/809454 [==============================] - 75s 93us/sample - loss: 0.8846 - sparse_categorical_accuracy: 0.7518 - val_loss: 0.5273 - val_sparse_categorical_accuracy: 0.8375\n",
            "Epoch 2/10\n",
            "809454/809454 [==============================] - 76s 93us/sample - loss: 0.4830 - sparse_categorical_accuracy: 0.8519 - val_loss: 0.4130 - val_sparse_categorical_accuracy: 0.8727\n",
            "Epoch 3/10\n",
            "809454/809454 [==============================] - 75s 92us/sample - loss: 0.4232 - sparse_categorical_accuracy: 0.8669 - val_loss: 0.3878 - val_sparse_categorical_accuracy: 0.8797\n",
            "Epoch 4/10\n",
            "809454/809454 [==============================] - 74s 92us/sample - loss: 0.3976 - sparse_categorical_accuracy: 0.8724 - val_loss: 0.3715 - val_sparse_categorical_accuracy: 0.8792\n",
            "Epoch 5/10\n",
            "809454/809454 [==============================] - 74s 92us/sample - loss: 0.3804 - sparse_categorical_accuracy: 0.8766 - val_loss: 0.3629 - val_sparse_categorical_accuracy: 0.8817\n",
            "Epoch 6/10\n",
            "809454/809454 [==============================] - 75s 92us/sample - loss: 0.3675 - sparse_categorical_accuracy: 0.8800 - val_loss: 0.3558 - val_sparse_categorical_accuracy: 0.8875\n",
            "Epoch 7/10\n",
            "809454/809454 [==============================] - 74s 92us/sample - loss: 0.3590 - sparse_categorical_accuracy: 0.8824 - val_loss: 0.3471 - val_sparse_categorical_accuracy: 0.8854\n",
            "Epoch 8/10\n",
            "809454/809454 [==============================] - 74s 92us/sample - loss: 0.3526 - sparse_categorical_accuracy: 0.8837 - val_loss: 0.3439 - val_sparse_categorical_accuracy: 0.8879\n",
            "Epoch 9/10\n",
            "809454/809454 [==============================] - 74s 92us/sample - loss: 0.3482 - sparse_categorical_accuracy: 0.8849 - val_loss: 0.3386 - val_sparse_categorical_accuracy: 0.8899\n",
            "Epoch 10/10\n",
            "809454/809454 [==============================] - 74s 92us/sample - loss: 0.3445 - sparse_categorical_accuracy: 0.8857 - val_loss: 0.3372 - val_sparse_categorical_accuracy: 0.8896\n"
          ],
          "name": "stdout"
        },
        {
          "output_type": "execute_result",
          "data": {
            "text/plain": [
              "<tensorflow.python.keras.callbacks.History at 0x7f1998a25208>"
            ]
          },
          "metadata": {
            "tags": []
          },
          "execution_count": 27
        }
      ]
    },
    {
      "cell_type": "markdown",
      "metadata": {
        "id": "nfv1-vvcvndM",
        "colab_type": "text"
      },
      "source": [
        "Тестирование на отложенной выборке"
      ]
    },
    {
      "cell_type": "code",
      "metadata": {
        "id": "UYwHAGjWlFT1",
        "colab_type": "code",
        "colab": {}
      },
      "source": [
        "import matplotlib.pyplot as plt\n",
        "%matplotlib inline\n",
        "from sklearn.metrics import accuracy_score, precision_score, recall_score, f1_score, \\\n",
        "    confusion_matrix, roc_curve, roc_auc_score, precision_recall_curve, average_precision_score, matthews_corrcoef\n",
        "from itertools import product"
      ],
      "execution_count": 0,
      "outputs": []
    },
    {
      "cell_type": "code",
      "metadata": {
        "id": "E-d1PDXY44CP",
        "colab_type": "code",
        "colab": {}
      },
      "source": [
        "y_score = model.predict_proba(X_test)\n",
        "y_pred = y_score.round()"
      ],
      "execution_count": 0,
      "outputs": []
    },
    {
      "cell_type": "code",
      "metadata": {
        "id": "atAKPB2pPYEc",
        "colab_type": "code",
        "colab": {
          "base_uri": "https://localhost:8080/",
          "height": 52
        },
        "outputId": "878ef8f4-5bb6-4ef7-e778-a6593ebcdf61"
      },
      "source": [
        "seq = 'wodtwytwuxmrsi'\n",
        "X_pred = [valid_chars[y] for y in seq]\n",
        "X_pred = sequence.pad_sequences([X_pred], maxlen=maxlen)\n",
        "pred_class = model.predict_classes(X_pred)[0][0]\n",
        "pred_proba = model.predict_proba(X_pred)[0][0]\n",
        "print(pred_class)\n",
        "print(pred_proba)"
      ],
      "execution_count": 77,
      "outputs": [
        {
          "output_type": "stream",
          "text": [
            "0\n",
            "0.49979803\n"
          ],
          "name": "stdout"
        }
      ]
    },
    {
      "cell_type": "code",
      "metadata": {
        "id": "lUY-xQ0S4rcm",
        "colab_type": "code",
        "colab": {
          "base_uri": "https://localhost:8080/",
          "height": 70
        },
        "outputId": "1ed0c500-d78d-46e5-90ac-56bf36be0047"
      },
      "source": [
        "seq = 'jceltexjevuxjr'\n",
        "X_dga_pred = [valid_chars[y] for y in seq]\n",
        "X_dga_pred = sequence.pad_sequences([X_dga_pred], maxlen=maxlen)\n",
        "pred_class = model_dga.predict_classes(X_dga_pred)\n",
        "pred_proba = model_dga.predict_proba(X_dga_pred)\n",
        "print(family_dict[pred_class[0]])\n",
        "print(pred_proba[0][pred_class[0]])\n",
        "print(max(pred_proba[0]))"
      ],
      "execution_count": 82,
      "outputs": [
        {
          "output_type": "stream",
          "text": [
            "dircrypt\n",
            "0.10940719\n",
            "0.10940719\n"
          ],
          "name": "stdout"
        }
      ]
    },
    {
      "cell_type": "code",
      "metadata": {
        "id": "9m4JmWVFzlTU",
        "colab_type": "code",
        "colab": {}
      },
      "source": [
        "labels = ['legit','dga']\n",
        "# labels = list(family_dict.values())"
      ],
      "execution_count": 0,
      "outputs": []
    },
    {
      "cell_type": "code",
      "metadata": {
        "id": "KOwf-YZ_mQ9a",
        "colab_type": "code",
        "outputId": "79f26a2f-7047-4b35-d78e-61ee15725000",
        "colab": {
          "base_uri": "https://localhost:8080/",
          "height": 141
        }
      },
      "source": [
        "print(\"Accuracy score : \", accuracy_score(y_test, y_pred))\n",
        "print(\"Precision score : \", precision_score(y_test, y_pred))\n",
        "print(\"Recall score : \", recall_score(y_test, y_pred))\n",
        "print(\"F1 score : \", f1_score(y_test, y_pred))\n",
        "print(\"MCC score : \", matthews_corrcoef(y_test, y_pred))\n",
        "print(\"ROC AUC score : \", roc_auc_score(y_test, y_score))\n",
        "print(\"Average Precision score : \", average_precision_score(y_test, y_score))"
      ],
      "execution_count": 68,
      "outputs": [
        {
          "output_type": "stream",
          "text": [
            "Accuracy score :  0.9856411949166529\n",
            "Precision score :  0.9838471023427867\n",
            "Recall score :  0.9839684301393513\n",
            "F1 score :  0.9839077625007707\n",
            "MCC score :  0.9709452655018298\n",
            "ROC AUC score :  0.9978885776742813\n",
            "Average Precision score :  0.9975083006508099\n"
          ],
          "name": "stdout"
        }
      ]
    },
    {
      "cell_type": "markdown",
      "metadata": {
        "id": "hBAhp6iFwb7_",
        "colab_type": "text"
      },
      "source": [
        "Матрица ошибок (Confusion Matrix)"
      ]
    },
    {
      "cell_type": "code",
      "metadata": {
        "id": "1ptdb6x4mr-5",
        "colab_type": "code",
        "outputId": "5147a7fc-61f3-4f01-b866-e9ec2dffc1fb",
        "colab": {
          "base_uri": "https://localhost:8080/",
          "height": 296
        }
      },
      "source": [
        "cm = confusion_matrix(y_test, y_pred)\n",
        "np.set_printoptions(precision=2)\n",
        "\n",
        "cm = cm.astype('float') / cm.sum(axis=1).T[:, np.newaxis]\n",
        "\n",
        "plt.imshow(cm, interpolation='nearest', cmap=plt.cm.Blues)\n",
        "plt.title(\"Confusion Matrix\")\n",
        "plt.colorbar()\n",
        "plt.xticks([1, 0], labels, rotation=45)\n",
        "plt.yticks([1, 0], labels)\n",
        "\n",
        "fmt = '.2f'\n",
        "thresh = cm.max() / 2.\n",
        "for i, j in product(range(cm.shape[0]), range(cm.shape[1])):\n",
        "  plt.text(j, i, format(cm[i, j], fmt),\n",
        "  horizontalalignment=\"center\",\n",
        "  color=\"white\" if cm[i, j] > thresh else \"black\")\n",
        "\n",
        "plt.tight_layout()\n",
        "plt.ylabel('True label')\n",
        "plt.xlabel('Predicted label')\n",
        "plt.show()"
      ],
      "execution_count": 69,
      "outputs": [
        {
          "output_type": "display_data",
          "data": {
            "image/png": "[encoded data removed]",
            "text/plain": [
              "<Figure size 432x288 with 2 Axes>"
            ]
          },
          "metadata": {
            "tags": []
          }
        }
      ]
    },
    {
      "cell_type": "markdown",
      "metadata": {
        "id": "uichjuQw-Evj",
        "colab_type": "text"
      },
      "source": [
        "ROC-кривая"
      ]
    },
    {
      "cell_type": "code",
      "metadata": {
        "id": "60K0CZnl98cy",
        "colab_type": "code",
        "outputId": "f964df86-f7b2-490a-a9d5-52a9153c0cde",
        "colab": {
          "base_uri": "https://localhost:8080/",
          "height": 294
        }
      },
      "source": [
        "plt.figure()\n",
        "plt.plot([0, 1], [0, 1], '--', color=\"grey\")\n",
        "plt.axvline(0, linestyle=\"-\", c=\"black\", lw=1)\n",
        "plt.axvline(1, linestyle=\"--\", c=\"black\", lw=1)\n",
        "plt.axhline(1, linestyle=\"--\", c=\"black\", lw=1)\n",
        "fpr, tpr, thresholds = roc_curve(y_test, y_score)\n",
        "plt.plot(fpr, tpr, label='lstm')\n",
        "plt.grid(True)\n",
        "plt.xlabel('False positive rate')\n",
        "plt.ylabel('True positive rate')\n",
        "plt.title('ROC curve')\n",
        "plt.legend(loc='best')\n",
        "plt.show() "
      ],
      "execution_count": 70,
      "outputs": [
        {
          "output_type": "display_data",
          "data": {
            "image/png": "[encoded data removed]",
            "text/plain": [
              "<Figure size 432x288 with 1 Axes>"
            ]
          },
          "metadata": {
            "tags": []
          }
        }
      ]
    },
    {
      "cell_type": "markdown",
      "metadata": {
        "id": "Cm3zybx1-ZYr",
        "colab_type": "text"
      },
      "source": [
        "Кривая Точность-Полнота (Precision-Recall)"
      ]
    },
    {
      "cell_type": "code",
      "metadata": {
        "id": "zV-sYZ0w-b8k",
        "colab_type": "code",
        "outputId": "509dc4d3-3ba1-4bc7-a8f7-42ad2bbbe167",
        "colab": {
          "base_uri": "https://localhost:8080/",
          "height": 294
        }
      },
      "source": [
        "plt.figure()\n",
        "plt.plot([0, 1], [0, 1], '--', color=\"grey\")\n",
        "plt.axvline(0, linestyle=\"-\", c=\"black\", lw=1)\n",
        "plt.axvline(1, linestyle=\"--\", c=\"black\", lw=1)\n",
        "plt.axhline(1, linestyle=\"--\", c=\"black\", lw=1)\n",
        "fpr, tpr, thresholds = precision_recall_curve(y_test, y_score)\n",
        "plt.plot(fpr, tpr, label='lstm')\n",
        "plt.grid(True)\n",
        "plt.xlabel('False positive rate')\n",
        "plt.ylabel('True positive rate')\n",
        "plt.title('Precision Recall curve')\n",
        "plt.legend(loc='best')\n",
        "plt.show()"
      ],
      "execution_count": 72,
      "outputs": [
        {
          "output_type": "display_data",
          "data": {
            "image/png": "[encoded data removed]",
            "text/plain": [
              "<Figure size 432x288 with 1 Axes>"
            ]
          },
          "metadata": {
            "tags": []
          }
        }
      ]
    }
  ]
}