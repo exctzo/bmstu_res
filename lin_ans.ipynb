{
 "cells": [
  {
   "cell_type": "markdown",
   "metadata": {},
   "source": [
    "## Линейные и ансамблевые методы"
   ]
  },
  {
   "cell_type": "markdown",
   "metadata": {
    "collapsed": true
   },
   "source": [
    "### Обучение модели"
   ]
  },
  {
   "cell_type": "markdown",
   "metadata": {},
   "source": [
    "Подключаемые модули"
   ]
  },
  {
   "cell_type": "code",
   "execution_count": 1,
   "metadata": {},
   "outputs": [],
   "source": [
    "import pandas as pd\n",
    "import numpy as np\n",
    "import pickle"
   ]
  },
  {
   "cell_type": "code",
   "execution_count": 2,
   "metadata": {},
   "outputs": [],
   "source": [
    "from sklearn.feature_extraction.text import CountVectorizer"
   ]
  },
  {
   "cell_type": "markdown",
   "metadata": {},
   "source": [
    "Подгрузка данных о доменных именах с диска "
   ]
  },
  {
   "cell_type": "code",
   "execution_count": 3,
   "metadata": {},
   "outputs": [],
   "source": [
    "with open('input data/training_data.pkl', 'rb') as f:\n",
    "        training_data = pickle.load(f)"
   ]
  },
  {
   "cell_type": "markdown",
   "metadata": {},
   "source": [
    "Общая коллекция данных"
   ]
  },
  {
   "cell_type": "code",
   "execution_count": 4,
   "metadata": {},
   "outputs": [],
   "source": [
    "all_data_dict = pd.concat([training_data['legit'], training_data['dga']], ignore_index=True)"
   ]
  },
  {
   "cell_type": "markdown",
   "metadata": {},
   "source": [
    "Подсчет длин доменных имен (legit, dga)"
   ]
  },
  {
   "cell_type": "code",
   "execution_count": 5,
   "metadata": {},
   "outputs": [],
   "source": [
    "all_data_dict['length'] = [len(x) for x in all_data_dict['domain']]"
   ]
  },
  {
   "cell_type": "markdown",
   "metadata": {},
   "source": [
    "Отброс записей с длиной < 6"
   ]
  },
  {
   "cell_type": "code",
   "execution_count": 6,
   "metadata": {},
   "outputs": [],
   "source": [
    "# Поскольку результаты классификации для таких доменов показывают близкие результаты \n",
    "# и в DGA-доменах нет записей с длиной < 6, в модели такие записи не будут учитываться\n",
    "all_data_dict = all_data_dict[all_data_dict['length'] > 6]"
   ]
  },
  {
   "cell_type": "markdown",
   "metadata": {},
   "source": [
    "Создание модели для матрицы подсчета n-gram"
   ]
  },
  {
   "cell_type": "code",
   "execution_count": 7,
   "metadata": {},
   "outputs": [],
   "source": [
    "# Минимальная частота = 0,001% для всех доменов\n",
    "# Для 0,01% появляется много нулевых значений вхождений n-gram\n",
    "vectorizer = CountVectorizer(ngram_range=(3, 5), analyzer='char', min_df=1e-3, max_df=1.0)"
   ]
  },
  {
   "cell_type": "markdown",
   "metadata": {},
   "source": [
    "Подсчет вхождений n-gram в legit (создание словаря n-gram)"
   ]
  },
  {
   "cell_type": "code",
   "execution_count": 8,
   "metadata": {},
   "outputs": [],
   "source": [
    "# Результат в разреженной матрице (большинство вхождений нули)\n",
    "# \"(x,y) n\" означает \"(строка, столбец) значение\"\n",
    "# n - количество раз, когда в доменах появилась отдельная n-gram\n",
    "ngram_matrix = vectorizer.fit_transform(training_data['legit']['domain'])"
   ]
  },
  {
   "cell_type": "code",
   "execution_count": 9,
   "metadata": {},
   "outputs": [],
   "source": [
    "# Преобразование в плотную матрицу (сумма столбца),\n",
    "# затем в многомерный однородный массив\n",
    "ngram_counts = ngram_matrix.sum(axis=0).getA1()"
   ]
  },
  {
   "cell_type": "markdown",
   "metadata": {},
   "source": [
    "Подсчет вхождений n-gram в каждый домен коллекции"
   ]
  },
  {
   "cell_type": "code",
   "execution_count": 10,
   "metadata": {},
   "outputs": [],
   "source": [
    "# Соотношение доменного имени коллекции (разреженой транспонированной матрицы)\n",
    "# с массивом ngram_count (словарь) путем умножения векторов\n",
    "all_data_dict['occur_ngrams'] = ngram_counts * vectorizer.transform(all_data_dict['domain']).transpose()"
   ]
  },
  {
   "cell_type": "markdown",
   "metadata": {},
   "source": [
    "Массивы обучения"
   ]
  },
  {
   "cell_type": "code",
   "execution_count": 11,
   "metadata": {
    "collapsed": false
   },
   "outputs": [],
   "source": [
    "# Массив x хранит образцы обучения\n",
    "# В массиве y хранятся целевые значения (метки типов) для образцов обучения\n",
    "X = all_data_dict[['length', 'occur_ngrams']].values\n",
    "y = np.array(all_data_dict['type'].tolist())"
   ]
  },
  {
   "cell_type": "markdown",
   "metadata": {},
   "source": [
    "### Тестирование"
   ]
  },
  {
   "cell_type": "code",
   "execution_count": 12,
   "metadata": {},
   "outputs": [],
   "source": [
    "from sklearn.model_selection import cross_val_score, train_test_split"
   ]
  },
  {
   "cell_type": "code",
   "execution_count": 13,
   "metadata": {},
   "outputs": [],
   "source": [
    "from sklearn.linear_model import LogisticRegression\n",
    "from sklearn.naive_bayes import GaussianNB\n",
    "from sklearn.ensemble import RandomForestClassifier, ExtraTreesClassifier\n",
    "from sklearn.tree import DecisionTreeClassifier"
   ]
  },
  {
   "cell_type": "code",
   "execution_count": 14,
   "metadata": {},
   "outputs": [],
   "source": [
    "models = [LogisticRegression(solver='lbfgs'), RandomForestClassifier(n_estimators=20),\n",
    "          GaussianNB(), DecisionTreeClassifier(), ExtraTreesClassifier(n_estimators=20)]"
   ]
  },
  {
   "cell_type": "code",
   "execution_count": 15,
   "metadata": {},
   "outputs": [],
   "source": [
    "names = [\"Logistic Regression\", \"Random Forest\", \"Naive Bayes\", \"Decision Tree\", \"Extra Trees\"]"
   ]
  },
  {
   "cell_type": "markdown",
   "metadata": {},
   "source": [
    "#### Кросс-валидация (cross-validation)"
   ]
  },
  {
   "cell_type": "code",
   "execution_count": 16,
   "metadata": {
    "collapsed": false
   },
   "outputs": [
    {
     "name": "stdout",
     "output_type": "stream",
     "text": [
      "Logistic Regression\n"
     ]
    },
    {
     "name": "stdout",
     "output_type": "stream",
     "text": [
      "accuracy  :  0.6938783719650254\n"
     ]
    },
    {
     "name": "stdout",
     "output_type": "stream",
     "text": [
      "precision  :  0.6831276254116386\n"
     ]
    },
    {
     "name": "stdout",
     "output_type": "stream",
     "text": [
      "recall  :  0.9205260255615031\n"
     ]
    },
    {
     "name": "stdout",
     "output_type": "stream",
     "text": [
      "f1  :  0.7825943990437525\n"
     ]
    },
    {
     "name": "stdout",
     "output_type": "stream",
     "text": [
      "roc_auc  :  0.8247175887699184\n\n\nRandom Forest\n"
     ]
    },
    {
     "name": "stdout",
     "output_type": "stream",
     "text": [
      "accuracy  :  0.8925805619554865\n"
     ]
    },
    {
     "name": "stdout",
     "output_type": "stream",
     "text": [
      "precision  :  0.9185672058686561\n"
     ]
    },
    {
     "name": "stdout",
     "output_type": "stream",
     "text": [
      "recall  :  0.9032726598190731\n"
     ]
    },
    {
     "name": "stdout",
     "output_type": "stream",
     "text": [
      "f1  :  0.9091905243144451\n"
     ]
    },
    {
     "name": "stdout",
     "output_type": "stream",
     "text": [
      "roc_auc  :  0.9390293541633445\n\n\nNaive Bayes\n"
     ]
    },
    {
     "name": "stdout",
     "output_type": "stream",
     "text": [
      "accuracy  :  0.6349563635601466\n"
     ]
    },
    {
     "name": "stdout",
     "output_type": "stream",
     "text": [
      "precision  :  0.637816073914329\n"
     ]
    },
    {
     "name": "stdout",
     "output_type": "stream",
     "text": [
      "recall  :  0.9130875301214252\n"
     ]
    },
    {
     "name": "stdout",
     "output_type": "stream",
     "text": [
      "f1  :  0.7497202418300947\n"
     ]
    },
    {
     "name": "stdout",
     "output_type": "stream",
     "text": [
      "roc_auc  :  0.7115674046705571\n\n\nDecision Tree\n"
     ]
    },
    {
     "name": "stdout",
     "output_type": "stream",
     "text": [
      "accuracy  :  0.8902514468634617\n"
     ]
    },
    {
     "name": "stdout",
     "output_type": "stream",
     "text": [
      "precision  :  0.9206695712164299\n"
     ]
    },
    {
     "name": "stdout",
     "output_type": "stream",
     "text": [
      "recall  :  0.8966838511921184\n"
     ]
    },
    {
     "name": "stdout",
     "output_type": "stream",
     "text": [
      "f1  :  0.9069938816403796\n"
     ]
    },
    {
     "name": "stdout",
     "output_type": "stream",
     "text": [
      "roc_auc  :  0.906893478493506\n\n\nExtra Trees\n"
     ]
    },
    {
     "name": "stdout",
     "output_type": "stream",
     "text": [
      "accuracy  :  0.8910670302428512\n"
     ]
    },
    {
     "name": "stdout",
     "output_type": "stream",
     "text": [
      "precision  :  0.9207693538942404\n"
     ]
    },
    {
     "name": "stdout",
     "output_type": "stream",
     "text": [
      "recall  :  0.8979081508769692\n"
     ]
    },
    {
     "name": "stdout",
     "output_type": "stream",
     "text": [
      "f1  :  0.9076663245086612\n"
     ]
    },
    {
     "name": "stdout",
     "output_type": "stream",
     "text": [
      "roc_auc  :  0.9267344867373785\n\n\n"
     ]
    }
   ],
   "source": [
    "for model, name in zip(models, names):\n",
    "    print(name)\n",
    "    for score in [\"accuracy\", \"precision\", \"recall\", \"f1\", \"roc_auc\"]:\n",
    "        print(score, \" : \", cross_val_score(model, X, y, scoring=score, cv=10).mean())\n",
    "    print(\"\\n\")"
   ]
  },
  {
   "cell_type": "markdown",
   "metadata": {},
   "source": [
    "#### Отложенная выборка (held-out/hold-out set)"
   ]
  },
  {
   "cell_type": "code",
   "execution_count": 17,
   "metadata": {},
   "outputs": [],
   "source": [
    "# 20% для теста\n",
    "X_train, X_test, y_train, y_test = train_test_split(X, y, test_size=0.2, random_state=0)"
   ]
  },
  {
   "cell_type": "code",
   "execution_count": 18,
   "metadata": {},
   "outputs": [],
   "source": [
    "import matplotlib.pyplot as plt\n",
    "%matplotlib inline\n",
    "from sklearn.metrics import precision_score, recall_score, f1_score, confusion_matrix, \\\n",
    "    roc_curve, roc_auc_score, precision_recall_curve, average_precision_score\n",
    "from itertools import product\n"
   ]
  },
  {
   "cell_type": "code",
   "execution_count": 19,
   "metadata": {},
   "outputs": [],
   "source": [
    "modelLR = LogisticRegression(solver='lbfgs')\n",
    "modelLR.fit(X_train, y_train)\n",
    "y_predLR = modelLR.predict(X_test)\n",
    "y_scoreLR = modelLR.predict_proba(X_test)[:, 1]\n",
    "\n",
    "modelRF = RandomForestClassifier(n_estimators=20)\n",
    "modelRF.fit(X_train, y_train)\n",
    "y_predRF = modelRF.predict(X_test)\n",
    "y_scoreRF = modelRF.predict_proba(X_test)[:, 1]\n",
    "\n",
    "modelNB = GaussianNB()\n",
    "modelNB.fit(X_train, y_train)\n",
    "y_predNB = modelNB.predict(X_test)\n",
    "y_scoreNB = modelNB.predict_proba(X_test)[:, 1]\n",
    "\n",
    "modelDT = DecisionTreeClassifier()\n",
    "modelDT.fit(X_train, y_train)\n",
    "y_predDT = modelDT.predict(X_test)\n",
    "y_scoreDT = modelDT.predict_proba(X_test)[:, 1]\n",
    "\n",
    "modelET = ExtraTreesClassifier(n_estimators=20)\n",
    "modelET.fit(X_train, y_train)\n",
    "y_predET = modelET.predict(X_test)\n",
    "y_scoreET = modelET.predict_proba(X_test)[:, 1]"
   ]
  },
  {
   "cell_type": "code",
   "execution_count": 20,
   "metadata": {},
   "outputs": [],
   "source": [
    "y_pred = [y_predLR, y_predRF, y_predNB, y_predDT, y_predET]\n",
    "y_score = [y_scoreLR, y_scoreRF, y_scoreNB, y_scoreDT, y_scoreET]\n",
    "labels = ['legit', 'dga']"
   ]
  },
  {
   "cell_type": "markdown",
   "metadata": {},
   "source": [
    "Метрика точности (precision) "
   ]
  },
  {
   "cell_type": "code",
   "execution_count": 21,
   "metadata": {
    "collapsed": true
   },
   "outputs": [
    {
     "name": "stdout",
     "output_type": "stream",
     "text": [
      "Precision score\nLogistic Regression  :  0.6897609348098109\nRandom Forest  :  0.9251899288520491\nNaive Bayes"
     ]
    },
    {
     "name": "stdout",
     "output_type": "stream",
     "text": [
      "  :  0.647215089385896\nDecision Tree  :  0.9272666803110929\nExtra Trees  :  0.9272457786835498\n"
     ]
    }
   ],
   "source": [
    "print(\"Precision score\")\n",
    "for y_pr, name in zip(y_pred, names):\n",
    "    print(name, \" : \", precision_score(y_test, y_pr))"
   ]
  },
  {
   "cell_type": "markdown",
   "metadata": {},
   "source": [
    "Метрика полноты (recall) "
   ]
  },
  {
   "cell_type": "code",
   "execution_count": 22,
   "metadata": {
    "collapsed": true
   },
   "outputs": [
    {
     "name": "stdout",
     "output_type": "stream",
     "text": [
      "Recall score\n"
     ]
    },
    {
     "name": "stdout",
     "output_type": "stream",
     "text": [
      "Logistic Regression  :  0.9416373397724062\nRandom Forest  :  0.9361401525854761\n"
     ]
    },
    {
     "name": "stdout",
     "output_type": "stream",
     "text": [
      "Naive Bayes  :  0.9371933519997945\n"
     ]
    },
    {
     "name": "stdout",
     "output_type": "stream",
     "text": [
      "Decision Tree  :  0.9310539700480361\nExtra Trees  :  0.9320750597241131"
     ]
    },
    {
     "name": "stdout",
     "output_type": "stream",
     "text": [
      "\n"
     ]
    }
   ],
   "source": [
    "print(\"Recall score\")\n",
    "for y_pr, name in zip(y_pred, names):\n",
    "    print(name, \" : \", recall_score(y_test, y_pr))"
   ]
  },
  {
   "cell_type": "markdown",
   "metadata": {},
   "source": [
    "F-мера (среднее гармоническое точности и полноты)"
   ]
  },
  {
   "cell_type": "code",
   "execution_count": 23,
   "metadata": {
    "collapsed": true
   },
   "outputs": [
    {
     "name": "stdout",
     "output_type": "stream",
     "text": [
      "F1 score\n"
     ]
    },
    {
     "name": "stdout",
     "output_type": "stream",
     "text": [
      "Logistic Regression  :  0.7962551657100034\nRandom Forest  :  0.9306328305801612\n"
     ]
    },
    {
     "name": "stdout",
     "output_type": "stream",
     "text": [
      "Naive Bayes  :  0.7656683254678002\n"
     ]
    },
    {
     "name": "stdout",
     "output_type": "stream",
     "text": [
      "Decision Tree  :  0.929156465898458\nExtra Trees  :  0.9296541475709623\n"
     ]
    }
   ],
   "source": [
    "print(\"F1 score\")\n",
    "for y_pr, name in zip(y_pred, names):\n",
    "    print(name, \" : \", f1_score(y_test, y_pr))"
   ]
  },
  {
   "cell_type": "markdown",
   "metadata": {},
   "source": [
    "Матрица ошибок (Confusion Matrix)"
   ]
  },
  {
   "cell_type": "code",
   "execution_count": 24,
   "metadata": {
    "collapsed": false
   },
   "outputs": [
    {
     "data": {
      "image/png": "[encoded data removed]",
      "text/plain": [
       "<Figure size 432x288 with 2 Axes>"
      ]
     },
     "metadata": {},
     "output_type": "display_data"
    },
    {
     "data": {
      "image/png": "[encoded data removed]",
      "text/plain": [
       "<Figure size 432x288 with 2 Axes>"
      ]
     },
     "metadata": {},
     "output_type": "display_data"
    },
    {
     "data": {
      "image/png": "[encoded data removed]",
      "text/plain": [
       "<Figure size 432x288 with 2 Axes>"
      ]
     },
     "metadata": {},
     "output_type": "display_data"
    },
    {
     "data": {
      "image/png": "[encoded data removed]",
      "text/plain": [
       "<Figure size 432x288 with 2 Axes>"
      ]
     },
     "metadata": {},
     "output_type": "display_data"
    },
    {
     "data": {
      "image/png": "[encoded data removed]",
      "text/plain": [
       "<Figure size 432x288 with 2 Axes>"
      ]
     },
     "metadata": {},
     "output_type": "display_data"
    }
   ],
   "source": [
    "for y_pr, name in zip(y_pred, names):\n",
    "    cm = confusion_matrix(y_test, y_pr)\n",
    "    np.set_printoptions(precision=2)\n",
    "    \n",
    "    cm = cm.astype('float') / cm.sum(axis=1).T[:, np.newaxis]\n",
    "    \n",
    "    plt.imshow(cm, interpolation='nearest', cmap=plt.cm.Blues)\n",
    "    plt.title(\"Confusion Matrix (\" + name + \")\")\n",
    "    plt.colorbar()\n",
    "    plt.xticks([1, 0], labels, rotation=45)\n",
    "    plt.yticks([1, 0], labels)\n",
    "    \n",
    "    fmt = '.2f'\n",
    "    thresh = cm.max() / 2.\n",
    "    for i, j in product(range(cm.shape[0]), range(cm.shape[1])):\n",
    "        plt.text(j, i, format(cm[i, j], fmt),\n",
    "        horizontalalignment=\"center\",\n",
    "        color=\"white\" if cm[i, j] > thresh else \"black\")\n",
    "    \n",
    "    plt.tight_layout()\n",
    "    plt.ylabel('True label')\n",
    "    plt.xlabel('Predicted label')\n",
    "    plt.show()"
   ]
  },
  {
   "cell_type": "markdown",
   "metadata": {},
   "source": [
    "ROC-кривая "
   ]
  },
  {
   "cell_type": "code",
   "execution_count": 25,
   "metadata": {
    "collapsed": true
   },
   "outputs": [
    {
     "data": {
      "image/png": "[encoded data removed]",
      "text/plain": [
       "<Figure size 432x288 with 1 Axes>"
      ]
     },
     "metadata": {},
     "output_type": "display_data"
    }
   ],
   "source": [
    "plt.figure()\n",
    "plt.plot([0, 1], [0, 1], '--', color=\"grey\")\n",
    "plt.axvline(0, linestyle=\"-\", c=\"black\", lw=1)\n",
    "plt.axvline(1, linestyle=\"--\", c=\"black\", lw=1)\n",
    "plt.axhline(1, linestyle=\"--\", c=\"black\", lw=1)\n",
    "for y_sc, name in zip(y_score, names):\n",
    "    fpr, tpr, thresholds = roc_curve(y_test, y_sc)\n",
    "    plt.plot(fpr, tpr, label=name)\n",
    "plt.grid(True)\n",
    "plt.xlabel('False positive rate')\n",
    "plt.ylabel('True positive rate')\n",
    "plt.title('ROC curve')\n",
    "plt.legend(loc='best')\n",
    "plt.show() "
   ]
  },
  {
   "cell_type": "markdown",
   "metadata": {},
   "source": [
    "Показатель ROC AUC"
   ]
  },
  {
   "cell_type": "code",
   "execution_count": 26,
   "metadata": {
    "collapsed": false
   },
   "outputs": [
    {
     "name": "stdout",
     "output_type": "stream",
     "text": [
      "ROC AUC score\nLogistic Regression  :  0.8397871352196782\nRandom Forest  :  0.9541751536028023\n"
     ]
    },
    {
     "name": "stdout",
     "output_type": "stream",
     "text": [
      "Naive Bayes  :  0.7504953177041453\nDecision Tree  :  0.9266335559820092\nExtra Trees  :  0.9424370488458921\n"
     ]
    }
   ],
   "source": [
    "print(\"ROC AUC score\")\n",
    "for y_sc, name in zip(y_score, names):\n",
    "    print(name, \" : \", roc_auc_score(y_test, y_sc))"
   ]
  },
  {
   "cell_type": "markdown",
   "metadata": {},
   "source": [
    "Кривая Точность-Полнота (Precision-Recall)"
   ]
  },
  {
   "cell_type": "code",
   "execution_count": 27,
   "metadata": {},
   "outputs": [
    {
     "data": {
      "image/png": "[encoded data removed]",
      "text/plain": [
       "<Figure size 432x288 with 1 Axes>"
      ]
     },
     "metadata": {},
     "output_type": "display_data"
    }
   ],
   "source": [
    "plt.figure()\n",
    "plt.plot([0, 1], [0, 1], '--', color=\"grey\")\n",
    "plt.axvline(0, linestyle=\"-\", c=\"black\", lw=1)\n",
    "plt.axvline(1, linestyle=\"--\", c=\"black\", lw=1)\n",
    "plt.axhline(1, linestyle=\"--\", c=\"black\", lw=1)\n",
    "for y_sc, name in zip(y_score, names):\n",
    "    fpr, tpr, thresholds = precision_recall_curve(y_test, y_sc)\n",
    "    plt.plot(fpr, tpr, label=name)\n",
    "plt.grid(True)\n",
    "plt.xlabel('False positive rate')\n",
    "plt.ylabel('True positive rate')\n",
    "plt.title('Precision Recall curve')\n",
    "plt.legend(loc='best')\n",
    "plt.show()"
   ]
  },
  {
   "cell_type": "markdown",
   "metadata": {},
   "source": [
    "Показатель средней точности (Average Precision)"
   ]
  },
  {
   "cell_type": "code",
   "execution_count": 28,
   "metadata": {
    "collapsed": true
   },
   "outputs": [
    {
     "name": "stdout",
     "output_type": "stream",
     "text": [
      "Average Precision score\nLogistic Regression  :  0.8607108621326318\nRandom Forest  :  0.950214077883853\n"
     ]
    },
    {
     "name": "stdout",
     "output_type": "stream",
     "text": [
      "Naive Bayes  :  0.800868298895979\nDecision Tree  :  0.918420487348097\nExtra Trees  :  0.9356063513093749\n"
     ]
    }
   ],
   "source": [
    "print(\"Average Precision score\")\n",
    "for y_sc, name in zip(y_score, names):\n",
    "    print(name, \" : \", average_precision_score(y_test, y_sc))"
   ]
  }
 ],
 "metadata": {
  "kernelspec": {
   "display_name": "Python 2",
   "language": "python",
   "name": "python2"
  },
  "language_info": {
   "codemirror_mode": {
    "name": "ipython",
    "version": 2
   },
   "file_extension": ".py",
   "mimetype": "text/x-python",
   "name": "python",
   "nbconvert_exporter": "python",
   "pygments_lexer": "ipython2",
   "version": "2.7.6"
  }
 },
 "nbformat": 4,
 "nbformat_minor": 0
}
