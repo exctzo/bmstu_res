{
  "nbformat": 4,
  "nbformat_minor": 0,
  "metadata": {
    "colab": {
      "name": "lin_ans.ipynb",
      "version": "0.3.2",
      "provenance": [],
      "collapsed_sections": []
    },
    "kernelspec": {
      "name": "python3",
      "display_name": "Python 3"
    },
    "accelerator": "GPU"
  },
  "cells": [
    {
      "metadata": {
        "id": "xx4GP3dZStmK",
        "colab_type": "text"
      },
      "cell_type": "markdown",
      "source": [
        "## Линейные и ансамблевые методы"
      ]
    },
    {
      "metadata": {
        "collapsed": true,
        "id": "L4aWFGRNStmL",
        "colab_type": "text"
      },
      "cell_type": "markdown",
      "source": [
        "### Обучение модели"
      ]
    },
    {
      "metadata": {
        "id": "X1kSbMPpStmN",
        "colab_type": "text"
      },
      "cell_type": "markdown",
      "source": [
        "Подключаемые модули"
      ]
    },
    {
      "metadata": {
        "id": "NBMi4aDkStmP",
        "colab_type": "code",
        "cellView": "code",
        "colab": {}
      },
      "cell_type": "code",
      "source": [
        "import pandas as pd\n",
        "import numpy as np\n",
        "import pickle\n",
        "import math"
      ],
      "execution_count": 0,
      "outputs": []
    },
    {
      "metadata": {
        "id": "Izbztqc3StmT",
        "colab_type": "code",
        "colab": {}
      },
      "cell_type": "code",
      "source": [
        "from sklearn.feature_extraction.text import CountVectorizer"
      ],
      "execution_count": 0,
      "outputs": []
    },
    {
      "metadata": {
        "id": "m4Aj2XEEStmX",
        "colab_type": "text"
      },
      "cell_type": "markdown",
      "source": [
        "Подгрузка данных о доменных именах с диска "
      ]
    },
    {
      "metadata": {
        "id": "04NHuyCvS_AK",
        "colab_type": "code",
        "colab": {
          "base_uri": "https://localhost:8080/",
          "height": 34
        },
        "outputId": "8c1cf131-798f-45a2-c3d8-f8c121b59bd9"
      },
      "cell_type": "code",
      "source": [
        "from google.colab import drive\n",
        "drive.mount('/content/gdrive')"
      ],
      "execution_count": 3,
      "outputs": [
        {
          "output_type": "stream",
          "text": [
            "Drive already mounted at /content/gdrive; to attempt to forcibly remount, call drive.mount(\"/content/gdrive\", force_remount=True).\n"
          ],
          "name": "stdout"
        }
      ]
    },
    {
      "metadata": {
        "id": "yBYfC8HhStmX",
        "colab_type": "code",
        "colab": {}
      },
      "cell_type": "code",
      "source": [
        "with open('/content/gdrive/My Drive/Colab Notebooks/Res/input data/training_data.pkl', 'rb') as f:\n",
        "        training_data = pickle.load(f)"
      ],
      "execution_count": 0,
      "outputs": []
    },
    {
      "metadata": {
        "id": "RKCZxWYxStmb",
        "colab_type": "text"
      },
      "cell_type": "markdown",
      "source": [
        "Общая коллекция данных"
      ]
    },
    {
      "metadata": {
        "id": "b_m7MXs3Stmb",
        "colab_type": "code",
        "colab": {}
      },
      "cell_type": "code",
      "source": [
        "all_data_dict = pd.concat([training_data['legit'], training_data['dga']], ignore_index=True)"
      ],
      "execution_count": 0,
      "outputs": []
    },
    {
      "metadata": {
        "id": "BozcBQgfStmh",
        "colab_type": "text"
      },
      "cell_type": "markdown",
      "source": [
        "Подсчет длин доменных имен (legit, dga)"
      ]
    },
    {
      "metadata": {
        "id": "bA_1A1QgStmi",
        "colab_type": "code",
        "colab": {}
      },
      "cell_type": "code",
      "source": [
        "all_data_dict['length'] = [len(x) for x in all_data_dict['domain']]"
      ],
      "execution_count": 0,
      "outputs": []
    },
    {
      "metadata": {
        "id": "r2TFU91kStml",
        "colab_type": "text"
      },
      "cell_type": "markdown",
      "source": [
        "Отброс записей с длиной < 6"
      ]
    },
    {
      "metadata": {
        "id": "BvklOkmMStmm",
        "colab_type": "code",
        "colab": {}
      },
      "cell_type": "code",
      "source": [
        "# Поскольку результаты классификации для таких доменов показывают близкие результаты \n",
        "# и в DGA-доменах нет записей с длиной < 6, в модели такие записи не будут учитываться\n",
        "all_data_dict = all_data_dict[all_data_dict['length'] > 6]"
      ],
      "execution_count": 0,
      "outputs": []
    },
    {
      "metadata": {
        "id": "2fj4l6o7Stmp",
        "colab_type": "text"
      },
      "cell_type": "markdown",
      "source": [
        "Подсчет энтропии"
      ]
    },
    {
      "metadata": {
        "id": "WNG2hDtYStmq",
        "colab_type": "code",
        "colab": {}
      },
      "cell_type": "code",
      "source": [
        "def entropy(domain):\n",
        "    prob = [float(domain.count(c)) / len(domain) for c in dict.fromkeys(list(domain))]\n",
        "    ent = - sum([p * math.log(p) / math.log(2.0) for p in prob])\n",
        "    return ent"
      ],
      "execution_count": 0,
      "outputs": []
    },
    {
      "metadata": {
        "id": "CVFgZxXRStmt",
        "colab_type": "code",
        "colab": {}
      },
      "cell_type": "code",
      "source": [
        "all_data_dict['entropy'] = [entropy(x) for x in all_data_dict['domain']]"
      ],
      "execution_count": 0,
      "outputs": []
    },
    {
      "metadata": {
        "id": "R0rUBDBUStmw",
        "colab_type": "text"
      },
      "cell_type": "markdown",
      "source": [
        "Создание модели для матрицы подсчета n-gram"
      ]
    },
    {
      "metadata": {
        "id": "tC0HUlWmStmx",
        "colab_type": "code",
        "colab": {}
      },
      "cell_type": "code",
      "source": [
        "# Минимальная частота = 0,001% для всех доменов\n",
        "# Для 0,01% появляется много нулевых значений вхождений n-gram\n",
        "vectorizer = CountVectorizer(ngram_range=(3, 5), analyzer='char', min_df=1e-3, max_df=1.0)"
      ],
      "execution_count": 0,
      "outputs": []
    },
    {
      "metadata": {
        "id": "XPcSxa9UStm0",
        "colab_type": "text"
      },
      "cell_type": "markdown",
      "source": [
        "Подсчет вхождений n-gram в legit (создание словаря n-gram)"
      ]
    },
    {
      "metadata": {
        "id": "QWWHtn7yStm1",
        "colab_type": "code",
        "colab": {}
      },
      "cell_type": "code",
      "source": [
        "# Результат в разреженной матрице (большинство вхождений нули)\n",
        "# \"(x,y) n\" означает \"(строка, столбец) значение\"\n",
        "# n - количество раз, когда в доменах появилась отдельная n-gram\n",
        "ngram_matrix = vectorizer.fit_transform(training_data['legit']['domain'])"
      ],
      "execution_count": 0,
      "outputs": []
    },
    {
      "metadata": {
        "id": "TO3Y5tQeStm5",
        "colab_type": "code",
        "colab": {}
      },
      "cell_type": "code",
      "source": [
        "# Преобразование в плотную матрицу (сумма столбца),\n",
        "# затем в многомерный однородный массив\n",
        "ngram_counts = ngram_matrix.sum(axis=0).getA1()"
      ],
      "execution_count": 0,
      "outputs": []
    },
    {
      "metadata": {
        "id": "3U5_ZrjEStm-",
        "colab_type": "text"
      },
      "cell_type": "markdown",
      "source": [
        "Подсчет вхождений n-gram в каждый домен коллекции"
      ]
    },
    {
      "metadata": {
        "id": "CCjtxS0NStnA",
        "colab_type": "code",
        "colab": {}
      },
      "cell_type": "code",
      "source": [
        "# Соотношение доменного имени коллекции (разреженой транспонированной матрицы)\n",
        "# с массивом ngram_count (словарь) путем умножения векторов\n",
        "all_data_dict['occur_ngrams'] = ngram_counts * vectorizer.transform(all_data_dict['domain']).transpose()"
      ],
      "execution_count": 0,
      "outputs": []
    },
    {
      "metadata": {
        "id": "BOUtuaEZStnE",
        "colab_type": "text"
      },
      "cell_type": "markdown",
      "source": [
        "Массивы обучения"
      ]
    },
    {
      "metadata": {
        "id": "qrXYhCRrStnF",
        "colab_type": "code",
        "colab": {}
      },
      "cell_type": "code",
      "source": [
        "# Массив x хранит образцы обучения\n",
        "# В массиве y хранятся целевые значения (метки типов) для образцов обучения\n",
        "X = all_data_dict[['length', 'occur_ngrams', 'entropy']].values\n",
        "y = np.array(all_data_dict['type'].tolist())"
      ],
      "execution_count": 0,
      "outputs": []
    },
    {
      "metadata": {
        "id": "fD3RM_bh0uDt",
        "colab_type": "code",
        "colab": {
          "base_uri": "https://localhost:8080/",
          "height": 136
        },
        "outputId": "3fa60e84-aa0e-441d-b22e-08159044df4d"
      },
      "cell_type": "code",
      "source": [
        "X"
      ],
      "execution_count": 15,
      "outputs": [
        {
          "output_type": "execute_result",
          "data": {
            "text/plain": [
              "array([[7.00000000e+00, 7.87300000e+03, 2.80735492e+00],\n",
              "       [1.00000000e+01, 3.78950000e+04, 2.92192809e+00],\n",
              "       [9.00000000e+00, 9.41400000e+03, 2.94770278e+00],\n",
              "       ...,\n",
              "       [1.60000000e+01, 0.00000000e+00, 3.25000000e+00],\n",
              "       [1.60000000e+01, 1.53000000e+03, 3.03063906e+00],\n",
              "       [1.60000000e+01, 7.34600000e+03, 3.25000000e+00]])"
            ]
          },
          "metadata": {
            "tags": []
          },
          "execution_count": 15
        }
      ]
    },
    {
      "metadata": {
        "id": "EzVSjKoc0ux_",
        "colab_type": "code",
        "colab": {
          "base_uri": "https://localhost:8080/",
          "height": 34
        },
        "outputId": "eafa4bc9-4318-40c4-f6e2-a108c219cd5a"
      },
      "cell_type": "code",
      "source": [
        "y"
      ],
      "execution_count": 16,
      "outputs": [
        {
          "output_type": "execute_result",
          "data": {
            "text/plain": [
              "array([0, 0, 0, ..., 1, 1, 1])"
            ]
          },
          "metadata": {
            "tags": []
          },
          "execution_count": 16
        }
      ]
    },
    {
      "metadata": {
        "id": "MGmaA6_DStnJ",
        "colab_type": "text"
      },
      "cell_type": "markdown",
      "source": [
        "### Тестирование"
      ]
    },
    {
      "metadata": {
        "id": "cgl0EIaZStnL",
        "colab_type": "code",
        "colab": {}
      },
      "cell_type": "code",
      "source": [
        "from sklearn.model_selection import cross_val_score, train_test_split"
      ],
      "execution_count": 0,
      "outputs": []
    },
    {
      "metadata": {
        "id": "uG7LP8eoStnO",
        "colab_type": "code",
        "colab": {}
      },
      "cell_type": "code",
      "source": [
        "from sklearn.linear_model import LogisticRegression\n",
        "from sklearn.naive_bayes import GaussianNB\n",
        "from sklearn.ensemble import RandomForestClassifier, ExtraTreesClassifier"
      ],
      "execution_count": 0,
      "outputs": []
    },
    {
      "metadata": {
        "id": "2-HV9jCQStnR",
        "colab_type": "code",
        "colab": {}
      },
      "cell_type": "code",
      "source": [
        "# 33% для теста\n",
        "X_train, X_test, y_train, y_test = train_test_split(X, y, test_size=0.33, random_state=0)"
      ],
      "execution_count": 0,
      "outputs": []
    },
    {
      "metadata": {
        "id": "K7MRbQSsStnV",
        "colab_type": "code",
        "colab": {}
      },
      "cell_type": "code",
      "source": [
        "models = [LogisticRegression(solver='lbfgs'), GaussianNB(), RandomForestClassifier(n_estimators=20), ExtraTreesClassifier(n_estimators=20)]"
      ],
      "execution_count": 0,
      "outputs": []
    },
    {
      "metadata": {
        "id": "uJXWHQNzStnZ",
        "colab_type": "code",
        "colab": {}
      },
      "cell_type": "code",
      "source": [
        "names = [\"Logistic Regression\", \"Naive Bayes\", \"Random Forest\", \"Extra Trees\"]"
      ],
      "execution_count": 0,
      "outputs": []
    },
    {
      "metadata": {
        "id": "lfPlvA1uStnc",
        "colab_type": "text"
      },
      "cell_type": "markdown",
      "source": [
        "#### Кросс-валидация (cross-validation)"
      ]
    },
    {
      "metadata": {
        "id": "F7lsA25UStnd",
        "colab_type": "code",
        "colab": {
          "base_uri": "https://localhost:8080/",
          "height": 561
        },
        "outputId": "3bc8b749-a93a-4f55-c96a-e88fe69e06af"
      },
      "cell_type": "code",
      "source": [
        "for model, name in zip(models, names):\n",
        "    print(name)\n",
        "    for score in [\"accuracy\", \"precision\", \"recall\", \"f1\", \"roc_auc\"]:\n",
        "        print(score, \" : \", cross_val_score(model, X_train, y_train, scoring=score, cv=10).mean())\n",
        "    print(\"\\n\")"
      ],
      "execution_count": 22,
      "outputs": [
        {
          "output_type": "stream",
          "text": [
            "Logistic Regression\n",
            "accuracy  :  0.7222712090850049\n",
            "precision  :  0.710774729036349\n",
            "recall  :  0.9278421256709954\n",
            "f1  :  0.8032557721983953\n",
            "roc_auc  :  0.8401022246067088\n",
            "\n",
            "\n",
            "Naive Bayes\n",
            "accuracy  :  0.6500853608484067\n",
            "precision  :  0.6461856263788172\n",
            "recall  :  0.9371284179124778\n",
            "f1  :  0.7649255803674693\n",
            "roc_auc  :  0.7488339911927407\n",
            "\n",
            "\n",
            "Random Forest\n",
            "accuracy  :  0.9147408924737912\n",
            "precision  :  0.9228601234502538\n",
            "recall  :  0.9382286249041527\n",
            "f1  :  0.9303332226464303\n",
            "roc_auc  :  0.9572190417996126\n",
            "\n",
            "\n",
            "Extra Trees\n",
            "accuracy  :  0.9131938090773584\n",
            "precision  :  0.9233557451594832\n",
            "recall  :  0.9348702923485629\n",
            "f1  :  0.9289307882437846\n",
            "roc_auc  :  0.947359104273005\n",
            "\n",
            "\n"
          ],
          "name": "stdout"
        }
      ]
    },
    {
      "metadata": {
        "id": "3u_1fTMaStnj",
        "colab_type": "text"
      },
      "cell_type": "markdown",
      "source": [
        "#### Тест на отложенной выборке (held-out/hold-out set)"
      ]
    },
    {
      "metadata": {
        "id": "Hg0gW8hWStnk",
        "colab_type": "code",
        "colab": {}
      },
      "cell_type": "code",
      "source": [
        "import matplotlib.pyplot as plt\n",
        "%matplotlib inline\n",
        "from sklearn.metrics import precision_score, recall_score, f1_score, confusion_matrix, \\\n",
        "    roc_curve, roc_auc_score, precision_recall_curve, average_precision_score, matthews_corrcoef\n",
        "from itertools import product\n"
      ],
      "execution_count": 0,
      "outputs": []
    },
    {
      "metadata": {
        "id": "7jP1u4TY3_DC",
        "colab_type": "code",
        "colab": {}
      },
      "cell_type": "code",
      "source": [
        "modelLR = LogisticRegression(solver='lbfgs')\n",
        "modelLR.fit(X_train, y_train)\n",
        "y_predLR = modelLR.predict(X_test)\n",
        "y_scoreLR = modelLR.predict_proba(X_test)[:, 1]\n",
        "\n",
        "modelNB = GaussianNB()\n",
        "modelNB.fit(X_train, y_train)\n",
        "y_predNB = modelNB.predict(X_test)\n",
        "y_scoreNB = modelNB.predict_proba(X_test)[:, 1]\n",
        "\n",
        "modelRF = RandomForestClassifier(n_estimators=20)\n",
        "modelRF.fit(X_train, y_train)\n",
        "y_predRF = modelRF.predict(X_test)\n",
        "y_scoreRF = modelRF.predict_proba(X_test)[:, 1]\n",
        "\n",
        "modelET = ExtraTreesClassifier(n_estimators=20)\n",
        "modelET.fit(X_train, y_train)\n",
        "y_predET = modelET.predict(X_test)\n",
        "y_scoreET = modelET.predict_proba(X_test)[:, 1]"
      ],
      "execution_count": 0,
      "outputs": []
    },
    {
      "metadata": {
        "id": "DHM7XRjEStnt",
        "colab_type": "code",
        "colab": {}
      },
      "cell_type": "code",
      "source": [
        "y_pred = [y_predLR, y_predNB, y_predRF, y_predET]\n",
        "y_score = [y_scoreLR, y_scoreNB, y_scoreRF, y_scoreET]\n",
        "labels = ['legit', 'dga']"
      ],
      "execution_count": 0,
      "outputs": []
    },
    {
      "metadata": {
        "id": "_PmIdVoMStnw",
        "colab_type": "text"
      },
      "cell_type": "markdown",
      "source": [
        "Метрика точности (precision) "
      ]
    },
    {
      "metadata": {
        "id": "g3fXgkzFStnx",
        "colab_type": "code",
        "colab": {
          "base_uri": "https://localhost:8080/",
          "height": 102
        },
        "outputId": "bf8cce75-8c3f-4f40-de31-e5051ced7690"
      },
      "cell_type": "code",
      "source": [
        "print(\"Precision score\")\n",
        "for y_pr, name in zip(y_pred, names):\n",
        "    print(name, \" : \", precision_score(y_test, y_pr))"
      ],
      "execution_count": 28,
      "outputs": [
        {
          "output_type": "stream",
          "text": [
            "Precision score\n",
            "Logistic Regression  :  0.6885968162050943\n",
            "Naive Bayes  :  0.6475832513321826\n",
            "Random Forest  :  0.9242632767365278\n",
            "Extra Trees  :  0.9245996920708237\n"
          ],
          "name": "stdout"
        }
      ]
    },
    {
      "metadata": {
        "id": "mmsOEZGaStn5",
        "colab_type": "text"
      },
      "cell_type": "markdown",
      "source": [
        "Метрика полноты (recall) "
      ]
    },
    {
      "metadata": {
        "id": "aKpxGu83Stn6",
        "colab_type": "code",
        "colab": {
          "base_uri": "https://localhost:8080/",
          "height": 102
        },
        "outputId": "e2f4f3d3-e3d7-40d5-add5-da1be4fcc25b"
      },
      "cell_type": "code",
      "source": [
        "print(\"Recall score\")\n",
        "for y_pr, name in zip(y_pred, names):\n",
        "    print(name, \" : \", recall_score(y_test, y_pr))"
      ],
      "execution_count": 29,
      "outputs": [
        {
          "output_type": "stream",
          "text": [
            "Recall score\n",
            "Logistic Regression  :  0.9406703780122241\n",
            "Naive Bayes  :  0.9376961108732044\n",
            "Random Forest  :  0.9385876124109471\n",
            "Extra Trees  :  0.9351461828940709\n"
          ],
          "name": "stdout"
        }
      ]
    },
    {
      "metadata": {
        "id": "B0PEZXGcStn9",
        "colab_type": "text"
      },
      "cell_type": "markdown",
      "source": [
        "F-мера (среднее гармоническое точности и полноты)"
      ]
    },
    {
      "metadata": {
        "id": "oujY-60XStn-",
        "colab_type": "code",
        "colab": {
          "base_uri": "https://localhost:8080/",
          "height": 102
        },
        "outputId": "582a2b51-dbae-4e92-bde8-a1b830c9bdcc"
      },
      "cell_type": "code",
      "source": [
        "print(\"F1 score\")\n",
        "for y_pr, name in zip(y_pred, names):\n",
        "    print(name, \" : \", f1_score(y_test, y_pr))"
      ],
      "execution_count": 30,
      "outputs": [
        {
          "output_type": "stream",
          "text": [
            "F1 score\n",
            "Logistic Regression  :  0.7951337014538347\n",
            "Naive Bayes  :  0.7660937380728227\n",
            "Random Forest  :  0.9313703713003721\n",
            "Extra Trees  :  0.9298430332707531\n"
          ],
          "name": "stdout"
        }
      ]
    },
    {
      "metadata": {
        "id": "fZsGmqOXKIkz",
        "colab_type": "text"
      },
      "cell_type": "markdown",
      "source": [
        "Коэффициент корреляции Мэтьюса"
      ]
    },
    {
      "metadata": {
        "id": "bG68UK9ZKH6f",
        "colab_type": "code",
        "colab": {
          "base_uri": "https://localhost:8080/",
          "height": 102
        },
        "outputId": "7bd47e93-83d0-428b-9c29-819053ab535c"
      },
      "cell_type": "code",
      "source": [
        "print(\"MCC score\")\n",
        "for y_pr, name in zip(y_pred, names):\n",
        "    print(name, \" : \", matthews_corrcoef(y_test, y_pr))"
      ],
      "execution_count": 31,
      "outputs": [
        {
          "output_type": "stream",
          "text": [
            "MCC score\n",
            "Logistic Regression  :  0.3618770902169938\n",
            "Naive Bayes  :  0.21440509408517555\n",
            "Random Forest  :  0.8223287210538083\n",
            "Extra Trees  :  0.818873261560626\n"
          ],
          "name": "stdout"
        }
      ]
    },
    {
      "metadata": {
        "id": "3lIAlrZ6StoB",
        "colab_type": "text"
      },
      "cell_type": "markdown",
      "source": [
        "Матрица ошибок (Confusion Matrix)"
      ]
    },
    {
      "metadata": {
        "id": "oUI_5jPpStoB",
        "colab_type": "code",
        "colab": {
          "base_uri": "https://localhost:8080/",
          "height": 1193
        },
        "outputId": "e7b01608-4e3f-424d-fdbb-3b1b61ca5092"
      },
      "cell_type": "code",
      "source": [
        "for y_pr, name in zip(y_pred, names):\n",
        "    cm = confusion_matrix(y_test, y_pr)\n",
        "    np.set_printoptions(precision=2)\n",
        "    \n",
        "    cm = cm.astype('float') / cm.sum(axis=1).T[:, np.newaxis]\n",
        "    \n",
        "    plt.imshow(cm, interpolation='nearest', cmap=plt.cm.Blues)\n",
        "    plt.title(\"Confusion Matrix (\" + name + \")\")\n",
        "    plt.colorbar()\n",
        "    plt.xticks([1, 0], labels, rotation=45)\n",
        "    plt.yticks([1, 0], labels)\n",
        "    \n",
        "    fmt = '.2f'\n",
        "    thresh = cm.max() / 2.\n",
        "    for i, j in product(range(cm.shape[0]), range(cm.shape[1])):\n",
        "        plt.text(j, i, format(cm[i, j], fmt),\n",
        "        horizontalalignment=\"center\",\n",
        "        color=\"white\" if cm[i, j] > thresh else \"black\")\n",
        "    \n",
        "    plt.tight_layout()\n",
        "    plt.ylabel('True label')\n",
        "    plt.xlabel('Predicted label')\n",
        "    plt.show()"
      ],
      "execution_count": 32,
      "outputs": [
        {
          "output_type": "display_data",
          "data": {
            "image/png": "[encoded data removed]",
            "text/plain": [
              "<matplotlib.figure.Figure at 0x7fb5de1ca940>"
            ]
          },
          "metadata": {
            "tags": []
          }
        },
        {
          "output_type": "display_data",
          "data": {
            "image/png": "[encoded data removed]",
            "text/plain": [
              "<matplotlib.figure.Figure at 0x7fb5da0a9240>"
            ]
          },
          "metadata": {
            "tags": []
          }
        },
        {
          "output_type": "display_data",
          "data": {
            "image/png": "[encoded data removed]",
            "text/plain": [
              "<matplotlib.figure.Figure at 0x7fb5d9cc75f8>"
            ]
          },
          "metadata": {
            "tags": []
          }
        },
        {
          "output_type": "display_data",
          "data": {
            "image/png": "[encoded data removed]",
            "text/plain": [
              "<matplotlib.figure.Figure at 0x7fb5da565a90>"
            ]
          },
          "metadata": {
            "tags": []
          }
        }
      ]
    },
    {
      "metadata": {
        "id": "lc38qIwDStoF",
        "colab_type": "text"
      },
      "cell_type": "markdown",
      "source": [
        "ROC-кривая "
      ]
    },
    {
      "metadata": {
        "id": "FeKDL8FSStoF",
        "colab_type": "code",
        "colab": {
          "base_uri": "https://localhost:8080/",
          "height": 294
        },
        "outputId": "ae5191ce-d414-41f0-ebef-11a46a1bb33c"
      },
      "cell_type": "code",
      "source": [
        "plt.figure()\n",
        "plt.plot([0, 1], [0, 1], '--', color=\"grey\")\n",
        "plt.axvline(0, linestyle=\"-\", c=\"black\", lw=1)\n",
        "plt.axvline(1, linestyle=\"--\", c=\"black\", lw=1)\n",
        "plt.axhline(1, linestyle=\"--\", c=\"black\", lw=1)\n",
        "for y_sc, name in zip(y_score, names):\n",
        "    fpr, tpr, thresholds = roc_curve(y_test, y_sc)\n",
        "    plt.plot(fpr, tpr, label=name)\n",
        "plt.grid(True)\n",
        "plt.xlabel('False positive rate')\n",
        "plt.ylabel('True positive rate')\n",
        "plt.title('ROC curve')\n",
        "plt.legend(loc='best')\n",
        "plt.show() "
      ],
      "execution_count": 33,
      "outputs": [
        {
          "output_type": "display_data",
          "data": {
            "image/png": "[encoded data removed]",
            "text/plain": [
              "<matplotlib.figure.Figure at 0x7fb5dccec518>"
            ]
          },
          "metadata": {
            "tags": []
          }
        }
      ]
    },
    {
      "metadata": {
        "id": "9TtrWUnvStoJ",
        "colab_type": "text"
      },
      "cell_type": "markdown",
      "source": [
        "Показатель ROC AUC"
      ]
    },
    {
      "metadata": {
        "id": "10kVwiIbStoL",
        "colab_type": "code",
        "colab": {
          "base_uri": "https://localhost:8080/",
          "height": 102
        },
        "outputId": "d3e4ca1f-7ede-4c9a-ef98-ce726fb45938"
      },
      "cell_type": "code",
      "source": [
        "print(\"ROC AUC score\")\n",
        "for y_sc, name in zip(y_score, names):\n",
        "    print(name, \" : \", roc_auc_score(y_test, y_sc))"
      ],
      "execution_count": 34,
      "outputs": [
        {
          "output_type": "stream",
          "text": [
            "ROC AUC score\n",
            "Logistic Regression  :  0.836126256614747\n",
            "Naive Bayes  :  0.7501623278676377\n",
            "Random Forest  :  0.9579326281797299\n",
            "Extra Trees  :  0.9472469353175315\n"
          ],
          "name": "stdout"
        }
      ]
    },
    {
      "metadata": {
        "id": "EyKC_EOvStoP",
        "colab_type": "text"
      },
      "cell_type": "markdown",
      "source": [
        "Кривая Точность-Полнота (Precision-Recall)"
      ]
    },
    {
      "metadata": {
        "id": "L1GdmVLcStoP",
        "colab_type": "code",
        "colab": {
          "base_uri": "https://localhost:8080/",
          "height": 294
        },
        "outputId": "959bd389-90fd-4763-ffab-7d6f1954b73a"
      },
      "cell_type": "code",
      "source": [
        "plt.figure()\n",
        "plt.plot([0, 1], [0, 1], '--', color=\"grey\")\n",
        "plt.axvline(0, linestyle=\"-\", c=\"black\", lw=1)\n",
        "plt.axvline(1, linestyle=\"--\", c=\"black\", lw=1)\n",
        "plt.axhline(1, linestyle=\"--\", c=\"black\", lw=1)\n",
        "for y_sc, name in zip(y_score, names):\n",
        "    fpr, tpr, thresholds = precision_recall_curve(y_test, y_sc)\n",
        "    plt.plot(fpr, tpr, label=name)\n",
        "plt.grid(True)\n",
        "plt.xlabel('False positive rate')\n",
        "plt.ylabel('True positive rate')\n",
        "plt.title('Precision Recall curve')\n",
        "plt.legend(loc='best')\n",
        "plt.show()"
      ],
      "execution_count": 35,
      "outputs": [
        {
          "output_type": "display_data",
          "data": {
            "image/png": "[encoded data removed]",
            "text/plain": [
              "<matplotlib.figure.Figure at 0x7fb5dc7fdc50>"
            ]
          },
          "metadata": {
            "tags": []
          }
        }
      ]
    },
    {
      "metadata": {
        "id": "rLXWklTVStoV",
        "colab_type": "text"
      },
      "cell_type": "markdown",
      "source": [
        "Показатель средней точности (Average Precision)"
      ]
    },
    {
      "metadata": {
        "id": "JnwEh9NVStoV",
        "colab_type": "code",
        "colab": {
          "base_uri": "https://localhost:8080/",
          "height": 102
        },
        "outputId": "7e7ca4af-bddb-444e-f2b5-549f629b10a4"
      },
      "cell_type": "code",
      "source": [
        "print(\"Average Precision score\")\n",
        "for y_sc, name in zip(y_score, names):\n",
        "    print(name, \" : \", average_precision_score(y_test, y_sc))"
      ],
      "execution_count": 36,
      "outputs": [
        {
          "output_type": "stream",
          "text": [
            "Average Precision score\n",
            "Logistic Regression  :  0.8503848095901464\n",
            "Naive Bayes  :  0.7939801278156631\n",
            "Random Forest  :  0.957046988888919\n",
            "Extra Trees  :  0.9435680138919199\n"
          ],
          "name": "stdout"
        }
      ]
    }
  ]
}