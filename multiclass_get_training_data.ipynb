{
  "nbformat": 4,
  "nbformat_minor": 0,
  "metadata": {
    "colab": {
      "name": "Copy of get_training_data.ipynb",
      "provenance": [],
      "collapsed_sections": []
    },
    "kernelspec": {
      "name": "python3",
      "display_name": "Python 3"
    }
  },
  "cells": [
    {
      "cell_type": "markdown",
      "metadata": {
        "id": "OfO46ZMS2ink",
        "colab_type": "text"
      },
      "source": [
        "### Получение данных"
      ]
    },
    {
      "cell_type": "markdown",
      "metadata": {
        "id": "c7l04v0u2inl",
        "colab_type": "text"
      },
      "source": [
        "Подключаемые модули"
      ]
    },
    {
      "cell_type": "code",
      "metadata": {
        "id": "t6sQy36a2inn",
        "colab_type": "code",
        "colab": {}
      },
      "source": [
        "import os\n",
        "from io import BytesIO"
      ],
      "execution_count": 0,
      "outputs": []
    },
    {
      "cell_type": "code",
      "metadata": {
        "id": "ALDrCcKA2inr",
        "colab_type": "code",
        "colab": {}
      },
      "source": [
        "import pandas as pd\n",
        "import pickle\n",
        "from zipfile import ZipFile\n",
        "from urllib.request import urlopen, urlretrieve"
      ],
      "execution_count": 0,
      "outputs": []
    },
    {
      "cell_type": "markdown",
      "metadata": {
        "id": "o5s_gizz20QZ",
        "colab_type": "text"
      },
      "source": [
        "Подключение Gdrive"
      ]
    },
    {
      "cell_type": "code",
      "metadata": {
        "id": "yWf1GKFA2ymX",
        "colab_type": "code",
        "outputId": "61011bb0-39a1-4154-9758-c50e4f096cd0",
        "colab": {
          "base_uri": "https://localhost:8080/",
          "height": 34
        }
      },
      "source": [
        "from google.colab import drive\n",
        "drive.mount('/content/gdrive')"
      ],
      "execution_count": 3,
      "outputs": [
        {
          "output_type": "stream",
          "text": [
            "Drive already mounted at /content/gdrive; to attempt to forcibly remount, call drive.mount(\"/content/gdrive\", force_remount=True).\n"
          ],
          "name": "stdout"
        }
      ]
    },
    {
      "cell_type": "markdown",
      "metadata": {
        "id": "LputeLM_2inv",
        "colab_type": "text"
      },
      "source": [
        "Загрузка Cisco Umbrella Popularity List (legit)"
      ]
    },
    {
      "cell_type": "code",
      "metadata": {
        "id": "KSwFK6ff2inw",
        "colab_type": "code",
        "colab": {}
      },
      "source": [
        "if not os.path.isfile('/content/gdrive/My Drive/Colab Notebooks/Res/input data/top-1m.csv'):\n",
        "    resp = urlopen('http://s3-us-west-1.amazonaws.com/umbrella-static/top-1m.csv.zip')\n",
        "    zipfile = ZipFile(BytesIO(resp.read()))\n",
        "    zipfile.extractall(\"/content/gdrive/My Drive/Colab Notebooks/Res/input data\")"
      ],
      "execution_count": 0,
      "outputs": []
    },
    {
      "cell_type": "markdown",
      "metadata": {
        "id": "0VD06N_P2iny",
        "colab_type": "text"
      },
      "source": [
        "Загрузка Malware Domain by John Bambenek of Bambenek Consulting (dga)"
      ]
    },
    {
      "cell_type": "code",
      "metadata": {
        "id": "0EumdPP12inz",
        "colab_type": "code",
        "outputId": "ba7dd389-8bed-4370-9033-d629f100252d",
        "colab": {
          "base_uri": "https://localhost:8080/",
          "height": 52
        }
      },
      "source": [
        "urlretrieve('http://osint.bambenekconsulting.com/feeds/dga-feed.txt', '/content/gdrive/My Drive/Colab Notebooks/Res/input data/dga.csv')"
      ],
      "execution_count": 5,
      "outputs": [
        {
          "output_type": "execute_result",
          "data": {
            "text/plain": [
              "('/content/gdrive/My Drive/Colab Notebooks/Res/input data/dga.csv',\n",
              " <http.client.HTTPMessage at 0x7f3750706a90>)"
            ]
          },
          "metadata": {
            "tags": []
          },
          "execution_count": 5
        }
      ]
    },
    {
      "cell_type": "markdown",
      "metadata": {
        "id": "HB2WCBp52in5",
        "colab_type": "text"
      },
      "source": [
        "Конструкция данных обучения"
      ]
    },
    {
      "cell_type": "code",
      "metadata": {
        "id": "tgW3vvzw2in6",
        "colab_type": "code",
        "colab": {}
      },
      "source": [
        "training_data = {'legit': [], 'dga': []}"
      ],
      "execution_count": 0,
      "outputs": []
    },
    {
      "cell_type": "markdown",
      "metadata": {
        "id": "g1XY_Xni2in-",
        "colab_type": "text"
      },
      "source": [
        "Выделение второго уровная доменного имени"
      ]
    },
    {
      "cell_type": "code",
      "metadata": {
        "id": "umA8PkRQ2in_",
        "colab_type": "code",
        "colab": {}
      },
      "source": [
        "domain_list = pd.read_csv('/content/gdrive/My Drive/Colab Notebooks/Res/input data/top-1m.csv', names=['domain'])\n",
        "domain_list['domain'] = domain_list['domain'].map(lambda x: x.split('.')[-2:]).map(lambda x: x[0])\n",
        "domain_list['type'] = 0\n",
        "training_data['legit'] = domain_list"
      ],
      "execution_count": 0,
      "outputs": []
    },
    {
      "cell_type": "code",
      "metadata": {
        "id": "5h7HsWNk2ioC",
        "colab_type": "code",
        "outputId": "202911e8-af65-4fe0-9439-cc889dcf1f0d",
        "colab": {
          "base_uri": "https://localhost:8080/",
          "height": 406
        }
      },
      "source": [
        "training_data['legit']"
      ],
      "execution_count": 8,
      "outputs": [
        {
          "output_type": "execute_result",
          "data": {
            "text/html": [
              "<div>\n",
              "<style scoped>\n",
              "    .dataframe tbody tr th:only-of-type {\n",
              "        vertical-align: middle;\n",
              "    }\n",
              "\n",
              "    .dataframe tbody tr th {\n",
              "        vertical-align: top;\n",
              "    }\n",
              "\n",
              "    .dataframe thead th {\n",
              "        text-align: right;\n",
              "    }\n",
              "</style>\n",
              "<table border=\"1\" class=\"dataframe\">\n",
              "  <thead>\n",
              "    <tr style=\"text-align: right;\">\n",
              "      <th></th>\n",
              "      <th>domain</th>\n",
              "      <th>type</th>\n",
              "    </tr>\n",
              "  </thead>\n",
              "  <tbody>\n",
              "    <tr>\n",
              "      <th>1</th>\n",
              "      <td>netflix</td>\n",
              "      <td>0</td>\n",
              "    </tr>\n",
              "    <tr>\n",
              "      <th>2</th>\n",
              "      <td>netflix</td>\n",
              "      <td>0</td>\n",
              "    </tr>\n",
              "    <tr>\n",
              "      <th>3</th>\n",
              "      <td>netflix</td>\n",
              "      <td>0</td>\n",
              "    </tr>\n",
              "    <tr>\n",
              "      <th>4</th>\n",
              "      <td>netflix</td>\n",
              "      <td>0</td>\n",
              "    </tr>\n",
              "    <tr>\n",
              "      <th>5</th>\n",
              "      <td>google</td>\n",
              "      <td>0</td>\n",
              "    </tr>\n",
              "    <tr>\n",
              "      <th>...</th>\n",
              "      <td>...</td>\n",
              "      <td>...</td>\n",
              "    </tr>\n",
              "    <tr>\n",
              "      <th>999996</th>\n",
              "      <td>emltrk</td>\n",
              "      <td>0</td>\n",
              "    </tr>\n",
              "    <tr>\n",
              "      <th>999997</th>\n",
              "      <td>3000toys</td>\n",
              "      <td>0</td>\n",
              "    </tr>\n",
              "    <tr>\n",
              "      <th>999998</th>\n",
              "      <td>jakegame</td>\n",
              "      <td>0</td>\n",
              "    </tr>\n",
              "    <tr>\n",
              "      <th>999999</th>\n",
              "      <td>siteimproveanalytics</td>\n",
              "      <td>0</td>\n",
              "    </tr>\n",
              "    <tr>\n",
              "      <th>1000000</th>\n",
              "      <td>doubleclick</td>\n",
              "      <td>0</td>\n",
              "    </tr>\n",
              "  </tbody>\n",
              "</table>\n",
              "<p>1000000 rows × 2 columns</p>\n",
              "</div>"
            ],
            "text/plain": [
              "                       domain  type\n",
              "1                     netflix     0\n",
              "2                     netflix     0\n",
              "3                     netflix     0\n",
              "4                     netflix     0\n",
              "5                      google     0\n",
              "...                       ...   ...\n",
              "999996                 emltrk     0\n",
              "999997               3000toys     0\n",
              "999998               jakegame     0\n",
              "999999   siteimproveanalytics     0\n",
              "1000000           doubleclick     0\n",
              "\n",
              "[1000000 rows x 2 columns]"
            ]
          },
          "metadata": {
            "tags": []
          },
          "execution_count": 8
        }
      ]
    },
    {
      "cell_type": "code",
      "metadata": {
        "id": "AhIUH3Kf2ioH",
        "colab_type": "code",
        "colab": {}
      },
      "source": [
        "domain_list = pd.read_csv('/content/gdrive/My Drive/Colab Notebooks/Res/input data/dga.csv', names=['domain', 'family', 'data'], skiprows = 14, index_col=False)\n",
        "domain_list['domain'] = domain_list['domain'].map(lambda x: x.split('.')[0])\n",
        "domain_list['family'] = domain_list['family'].map(lambda x: x.split(' ')[3])\n",
        "domain_list['type'] = pd.factorize(domain_list.family)[0] + 1\n",
        "training_data['dga'] = domain_list"
      ],
      "execution_count": 0,
      "outputs": []
    },
    {
      "cell_type": "code",
      "metadata": {
        "id": "0QW_BZJt2ioK",
        "colab_type": "code",
        "outputId": "0b06d9fb-50ee-498e-ff12-79aad637f150",
        "colab": {
          "base_uri": "https://localhost:8080/",
          "height": 406
        }
      },
      "source": [
        "training_data['dga']"
      ],
      "execution_count": 11,
      "outputs": [
        {
          "output_type": "execute_result",
          "data": {
            "text/html": [
              "<div>\n",
              "<style scoped>\n",
              "    .dataframe tbody tr th:only-of-type {\n",
              "        vertical-align: middle;\n",
              "    }\n",
              "\n",
              "    .dataframe tbody tr th {\n",
              "        vertical-align: top;\n",
              "    }\n",
              "\n",
              "    .dataframe thead th {\n",
              "        text-align: right;\n",
              "    }\n",
              "</style>\n",
              "<table border=\"1\" class=\"dataframe\">\n",
              "  <thead>\n",
              "    <tr style=\"text-align: right;\">\n",
              "      <th></th>\n",
              "      <th>domain</th>\n",
              "      <th>family</th>\n",
              "      <th>data</th>\n",
              "      <th>type</th>\n",
              "    </tr>\n",
              "  </thead>\n",
              "  <tbody>\n",
              "    <tr>\n",
              "      <th>0</th>\n",
              "      <td>yfxihttvspowlj</td>\n",
              "      <td>Cryptolocker</td>\n",
              "      <td>2019-11-14</td>\n",
              "      <td>1</td>\n",
              "    </tr>\n",
              "    <tr>\n",
              "      <th>1</th>\n",
              "      <td>ibontoytrpwule</td>\n",
              "      <td>Cryptolocker</td>\n",
              "      <td>2019-11-14</td>\n",
              "      <td>1</td>\n",
              "    </tr>\n",
              "    <tr>\n",
              "      <th>2</th>\n",
              "      <td>vnnvwjuhiroolh</td>\n",
              "      <td>Cryptolocker</td>\n",
              "      <td>2019-11-14</td>\n",
              "      <td>1</td>\n",
              "    </tr>\n",
              "    <tr>\n",
              "      <th>3</th>\n",
              "      <td>jceltexjevuxjr</td>\n",
              "      <td>Cryptolocker</td>\n",
              "      <td>2019-11-14</td>\n",
              "      <td>1</td>\n",
              "    </tr>\n",
              "    <tr>\n",
              "      <th>4</th>\n",
              "      <td>wodtwytwuxmrsi</td>\n",
              "      <td>Cryptolocker</td>\n",
              "      <td>2019-11-14</td>\n",
              "      <td>1</td>\n",
              "    </tr>\n",
              "    <tr>\n",
              "      <th>...</th>\n",
              "      <td>...</td>\n",
              "      <td>...</td>\n",
              "      <td>...</td>\n",
              "      <td>...</td>\n",
              "    </tr>\n",
              "    <tr>\n",
              "      <th>817626</th>\n",
              "      <td>tkdnd</td>\n",
              "      <td>unknowndropper</td>\n",
              "      <td>2019-11-16</td>\n",
              "      <td>53</td>\n",
              "    </tr>\n",
              "    <tr>\n",
              "      <th>817627</th>\n",
              "      <td>tkndd</td>\n",
              "      <td>unknowndropper</td>\n",
              "      <td>2019-11-16</td>\n",
              "      <td>53</td>\n",
              "    </tr>\n",
              "    <tr>\n",
              "      <th>817628</th>\n",
              "      <td>tnddk</td>\n",
              "      <td>unknowndropper</td>\n",
              "      <td>2019-11-16</td>\n",
              "      <td>53</td>\n",
              "    </tr>\n",
              "    <tr>\n",
              "      <th>817629</th>\n",
              "      <td>tndkd</td>\n",
              "      <td>unknowndropper</td>\n",
              "      <td>2019-11-16</td>\n",
              "      <td>53</td>\n",
              "    </tr>\n",
              "    <tr>\n",
              "      <th>817630</th>\n",
              "      <td>tnkdd</td>\n",
              "      <td>unknowndropper</td>\n",
              "      <td>2019-11-16</td>\n",
              "      <td>53</td>\n",
              "    </tr>\n",
              "  </tbody>\n",
              "</table>\n",
              "<p>817631 rows × 4 columns</p>\n",
              "</div>"
            ],
            "text/plain": [
              "                domain          family        data  type\n",
              "0       yfxihttvspowlj    Cryptolocker  2019-11-14     1\n",
              "1       ibontoytrpwule    Cryptolocker  2019-11-14     1\n",
              "2       vnnvwjuhiroolh    Cryptolocker  2019-11-14     1\n",
              "3       jceltexjevuxjr    Cryptolocker  2019-11-14     1\n",
              "4       wodtwytwuxmrsi    Cryptolocker  2019-11-14     1\n",
              "...                ...             ...         ...   ...\n",
              "817626           tkdnd  unknowndropper  2019-11-16    53\n",
              "817627           tkndd  unknowndropper  2019-11-16    53\n",
              "817628           tnddk  unknowndropper  2019-11-16    53\n",
              "817629           tndkd  unknowndropper  2019-11-16    53\n",
              "817630           tnkdd  unknowndropper  2019-11-16    53\n",
              "\n",
              "[817631 rows x 4 columns]"
            ]
          },
          "metadata": {
            "tags": []
          },
          "execution_count": 11
        }
      ]
    },
    {
      "cell_type": "markdown",
      "metadata": {
        "id": "Kgq1EYT02ioN",
        "colab_type": "text"
      },
      "source": [
        "Сохранение данных на диск"
      ]
    },
    {
      "cell_type": "code",
      "metadata": {
        "id": "PBQJ32Oe2ioO",
        "colab_type": "code",
        "colab": {}
      },
      "source": [
        "with open('/content/gdrive/My Drive/Colab Notebooks/Res/input data/training_data.pkl', 'wb') as f:\n",
        "    pickle.dump(training_data, f, pickle.HIGHEST_PROTOCOL)"
      ],
      "execution_count": 0,
      "outputs": []
    }
  ]
}