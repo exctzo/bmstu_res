{
  "nbformat": 4,
  "nbformat_minor": 0,
  "metadata": {
    "colab": {
      "name": "neural.ipynb",
      "version": "0.3.2",
      "provenance": [],
      "collapsed_sections": []
    },
    "kernelspec": {
      "name": "python3",
      "display_name": "Python 3"
    },
    "accelerator": "GPU"
  },
  "cells": [
    {
      "metadata": {
        "collapsed": true,
        "id": "s-eV5CsdQQwz",
        "colab_type": "text"
      },
      "cell_type": "markdown",
      "source": [
        "## Методы на нейронных сетях"
      ]
    },
    {
      "metadata": {
        "id": "DDaEs29iQQw2",
        "colab_type": "text"
      },
      "cell_type": "markdown",
      "source": [
        "Подключаемые модули"
      ]
    },
    {
      "metadata": {
        "id": "SuWgDGaZQQw2",
        "colab_type": "code",
        "colab": {}
      },
      "cell_type": "code",
      "source": [
        "import pandas as pd\n",
        "import numpy as np\n",
        "import tensorflow as tf\n",
        "import pickle\n",
        "import math"
      ],
      "execution_count": 0,
      "outputs": []
    },
    {
      "metadata": {
        "id": "dVv09eQpQQw7",
        "colab_type": "text"
      },
      "cell_type": "markdown",
      "source": [
        "Подгрузка данных о доменных именах с диска "
      ]
    },
    {
      "metadata": {
        "id": "UEYGs7TBRGcZ",
        "colab_type": "code",
        "outputId": "4f98151f-6e3f-4155-8f76-3579d40764ff",
        "colab": {
          "base_uri": "https://localhost:8080/",
          "height": 122
        }
      },
      "cell_type": "code",
      "source": [
        "from google.colab import drive\n",
        "drive.mount('/content/gdrive')"
      ],
      "execution_count": 2,
      "outputs": [
        {
          "output_type": "stream",
          "text": [
            "Go to this URL in a browser: https://accounts.google.com/o/oauth2/auth?client_id=947318989803-6bn6qk8qdgf4n4g3pfee6491hc0brc4i.apps.googleusercontent.com&redirect_uri=urn%3Aietf%3Awg%3Aoauth%3A2.0%3Aoob&scope=email%20https%3A%2F%2Fwww.googleapis.com%2Fauth%2Fdocs.test%20https%3A%2F%2Fwww.googleapis.com%2Fauth%2Fdrive%20https%3A%2F%2Fwww.googleapis.com%2Fauth%2Fdrive.photos.readonly%20https%3A%2F%2Fwww.googleapis.com%2Fauth%2Fpeopleapi.readonly&response_type=code\n",
            "\n",
            "Enter your authorization code:\n",
            "··········\n",
            "Mounted at /content/gdrive\n"
          ],
          "name": "stdout"
        }
      ]
    },
    {
      "metadata": {
        "id": "CR3e-OXeQQw9",
        "colab_type": "code",
        "colab": {}
      },
      "cell_type": "code",
      "source": [
        "with open('/content/gdrive/My Drive/Colab Notebooks/input data/training_data.pkl', 'rb') as f:\n",
        "  training_data = pickle.load(f)"
      ],
      "execution_count": 0,
      "outputs": []
    },
    {
      "metadata": {
        "id": "O7tVwOQRQQxL",
        "colab_type": "text"
      },
      "cell_type": "markdown",
      "source": [
        "Общая коллекция данных"
      ]
    },
    {
      "metadata": {
        "id": "itBrrCEZQQxP",
        "colab_type": "code",
        "colab": {}
      },
      "cell_type": "code",
      "source": [
        "all_data_dict = pd.concat([training_data['legit'], training_data['dga']], ignore_index=True)"
      ],
      "execution_count": 0,
      "outputs": []
    },
    {
      "metadata": {
        "id": "TN5dTFRVQQxd",
        "colab_type": "text"
      },
      "cell_type": "markdown",
      "source": [
        "Массивы обучения"
      ]
    },
    {
      "metadata": {
        "id": "R39RaDUqQQxf",
        "colab_type": "code",
        "colab": {}
      },
      "cell_type": "code",
      "source": [
        "# Массив x хранит образцы обучения\n",
        "# В массиве y хранятся целевые значения (метки типов) для образцов обучения\n",
        "X = np.array(all_data_dict['domain'].tolist())\n",
        "y = np.array(all_data_dict['type'].tolist())"
      ],
      "execution_count": 0,
      "outputs": []
    },
    {
      "metadata": {
        "id": "T4ry34wkp1hv",
        "colab_type": "code",
        "colab": {
          "base_uri": "https://localhost:8080/",
          "height": 51
        },
        "outputId": "4e2713be-6abc-4def-84af-1c95bffc7dd6"
      },
      "cell_type": "code",
      "source": [
        "X"
      ],
      "execution_count": 6,
      "outputs": [
        {
          "output_type": "execute_result",
          "data": {
            "text/plain": [
              "array(['netflix', 'api-global', 'prod', ..., 'iumgkaoasgoyiccy',\n",
              "       'aemosuaokkwmqqmq', 'eimgukowkqeckykg'], dtype='<U63')"
            ]
          },
          "metadata": {
            "tags": []
          },
          "execution_count": 6
        }
      ]
    },
    {
      "metadata": {
        "id": "H7nG1eQZp2h6",
        "colab_type": "code",
        "colab": {
          "base_uri": "https://localhost:8080/",
          "height": 34
        },
        "outputId": "055bd322-f4ac-448c-83c0-51fe392b93d0"
      },
      "cell_type": "code",
      "source": [
        "y"
      ],
      "execution_count": 7,
      "outputs": [
        {
          "output_type": "execute_result",
          "data": {
            "text/plain": [
              "array([0, 0, 0, ..., 1, 1, 1])"
            ]
          },
          "metadata": {
            "tags": []
          },
          "execution_count": 7
        }
      ]
    },
    {
      "metadata": {
        "id": "LShZWT6TQQxu",
        "colab_type": "code",
        "colab": {}
      },
      "cell_type": "code",
      "source": [
        "from tensorflow.keras.preprocessing import sequence"
      ],
      "execution_count": 0,
      "outputs": []
    },
    {
      "metadata": {
        "id": "ngv8Qy1eQQxx",
        "colab_type": "code",
        "colab": {}
      },
      "cell_type": "code",
      "source": [
        "# Создание словаря действительных символов\n",
        "valid_chars = {x:idx+1 for idx, x in enumerate(set(''.join(X)))}"
      ],
      "execution_count": 0,
      "outputs": []
    },
    {
      "metadata": {
        "id": "-JkGMGXPpzG-",
        "colab_type": "code",
        "colab": {
          "base_uri": "https://localhost:8080/",
          "height": 646
        },
        "outputId": "6d11082b-da1f-4d8a-96c4-d34eeeaf3323"
      },
      "cell_type": "code",
      "source": [
        "valid_chars"
      ],
      "execution_count": 10,
      "outputs": [
        {
          "output_type": "execute_result",
          "data": {
            "text/plain": [
              "{'-': 27,\n",
              " '0': 7,\n",
              " '1': 36,\n",
              " '2': 10,\n",
              " '3': 11,\n",
              " '4': 12,\n",
              " '5': 4,\n",
              " '6': 18,\n",
              " '7': 1,\n",
              " '8': 19,\n",
              " '9': 29,\n",
              " 'a': 23,\n",
              " 'b': 37,\n",
              " 'c': 14,\n",
              " 'd': 3,\n",
              " 'e': 21,\n",
              " 'f': 20,\n",
              " 'g': 16,\n",
              " 'h': 28,\n",
              " 'i': 17,\n",
              " 'j': 30,\n",
              " 'k': 5,\n",
              " 'l': 26,\n",
              " 'm': 15,\n",
              " 'n': 35,\n",
              " 'o': 22,\n",
              " 'p': 25,\n",
              " 'q': 31,\n",
              " 'r': 24,\n",
              " 's': 34,\n",
              " 't': 33,\n",
              " 'u': 6,\n",
              " 'v': 2,\n",
              " 'w': 8,\n",
              " 'x': 32,\n",
              " 'y': 13,\n",
              " 'z': 9}"
            ]
          },
          "metadata": {
            "tags": []
          },
          "execution_count": 10
        }
      ]
    },
    {
      "metadata": {
        "id": "pQbdNJXhQQx7",
        "colab_type": "code",
        "colab": {}
      },
      "cell_type": "code",
      "source": [
        "# 38 уникальных символов\n",
        "max_features = len(valid_chars) + 1 "
      ],
      "execution_count": 0,
      "outputs": []
    },
    {
      "metadata": {
        "id": "KqMpgC50QQyE",
        "colab_type": "code",
        "colab": {}
      },
      "cell_type": "code",
      "source": [
        "# 63 макс последовательность символов\n",
        "maxlen = np.max([len(x) for x in X]) "
      ],
      "execution_count": 0,
      "outputs": []
    },
    {
      "metadata": {
        "id": "bQKNtWqlQQyM",
        "colab_type": "code",
        "colab": {}
      },
      "cell_type": "code",
      "source": [
        "# Преобразование символов в int и pad (последовательности одиннаковой длины)\n",
        "X = [[valid_chars[y] for y in x] for x in X]\n",
        "X = sequence.pad_sequences(X, maxlen=maxlen)"
      ],
      "execution_count": 0,
      "outputs": []
    },
    {
      "metadata": {
        "id": "Qo6EH5LCp4RS",
        "colab_type": "code",
        "colab": {
          "base_uri": "https://localhost:8080/",
          "height": 136
        },
        "outputId": "5abb316b-3507-403f-8688-2b57e64dd0eb"
      },
      "cell_type": "code",
      "source": [
        "X"
      ],
      "execution_count": 14,
      "outputs": [
        {
          "output_type": "execute_result",
          "data": {
            "text/plain": [
              "array([[ 0,  0,  0, ..., 26, 17, 32],\n",
              "       [ 0,  0,  0, ..., 37, 23, 26],\n",
              "       [ 0,  0,  0, ..., 24, 22,  3],\n",
              "       ...,\n",
              "       [ 0,  0,  0, ..., 14, 14, 13],\n",
              "       [ 0,  0,  0, ..., 31, 15, 31],\n",
              "       [ 0,  0,  0, ..., 13,  5, 16]], dtype=int32)"
            ]
          },
          "metadata": {
            "tags": []
          },
          "execution_count": 14
        }
      ]
    },
    {
      "metadata": {
        "id": "QkT1o9IWvw25",
        "colab_type": "text"
      },
      "cell_type": "markdown",
      "source": [
        "Построение модели"
      ]
    },
    {
      "metadata": {
        "id": "pvqshzI7DxPI",
        "colab_type": "code",
        "colab": {}
      },
      "cell_type": "code",
      "source": [
        "from tensorflow.keras.models import Sequential\n",
        "from tensorflow.keras.layers import Dense, Dropout, Activation, Embedding, LSTM\n",
        "from sklearn.model_selection import train_test_split\n",
        "from tensorflow.keras.callbacks import EarlyStopping"
      ],
      "execution_count": 0,
      "outputs": []
    },
    {
      "metadata": {
        "id": "k0O4sJGRQQym",
        "colab_type": "code",
        "colab": {}
      },
      "cell_type": "code",
      "source": [
        "# Метод Endgame (одиночный LSTM слой)\n",
        "model = Sequential()\n",
        "model.add(Embedding(max_features, 128, input_length=maxlen))\n",
        "model.add(LSTM(128))\n",
        "model.add(Dropout(0.5))\n",
        "model.add(Dense(1))\n",
        "model.add(Activation('sigmoid'))\n",
        "model.compile(loss='binary_crossentropy', optimizer='rmsprop', metrics=['accuracy'])"
      ],
      "execution_count": 0,
      "outputs": []
    },
    {
      "metadata": {
        "id": "0wbT82dE0b91",
        "colab_type": "code",
        "colab": {}
      },
      "cell_type": "code",
      "source": [
        "# 33% для теста\n",
        "X_train, X_test, y_train, y_test = train_test_split(X, y, test_size=0.33, random_state=0)"
      ],
      "execution_count": 0,
      "outputs": []
    },
    {
      "metadata": {
        "id": "ypZd01Kb1lcF",
        "colab_type": "code",
        "colab": {}
      },
      "cell_type": "code",
      "source": [
        "# Игнорирование предостережения о нехватке памяти\n",
        "import warnings\n",
        "warnings.filterwarnings('ignore')"
      ],
      "execution_count": 0,
      "outputs": []
    },
    {
      "metadata": {
        "id": "i7caSo4Sv3WF",
        "colab_type": "text"
      },
      "cell_type": "markdown",
      "source": [
        "Обучение + кросс-валидация"
      ]
    },
    {
      "metadata": {
        "id": "PRxyhBt3iIaZ",
        "colab_type": "code",
        "colab": {
          "base_uri": "https://localhost:8080/",
          "height": 221
        },
        "outputId": "36b60385-a3fc-4f8b-ba26-026f92ca9acd"
      },
      "cell_type": "code",
      "source": [
        "model.fit(X_train, y_train, validation_data=(X_test,y_test), epochs=25, batch_size=128, callbacks=[EarlyStopping(monitor='val_loss',min_delta=0.0001)])"
      ],
      "execution_count": 19,
      "outputs": [
        {
          "output_type": "stream",
          "text": [
            "Train on 1207116 samples, validate on 594551 samples\n",
            "Epoch 1/25\n",
            "1207116/1207116 [==============================] - 2089s 2ms/step - loss: 0.1175 - acc: 0.9574 - val_loss: 0.0837 - val_acc: 0.9710\n",
            "Epoch 2/25\n",
            "1207116/1207116 [==============================] - 2076s 2ms/step - loss: 0.0745 - acc: 0.9749 - val_loss: 0.0805 - val_acc: 0.9714\n",
            "Epoch 3/25\n",
            "1207116/1207116 [==============================] - 2078s 2ms/step - loss: 0.0666 - acc: 0.9777 - val_loss: 0.0600 - val_acc: 0.9798\n",
            "Epoch 4/25\n",
            "1207116/1207116 [==============================] - 2083s 2ms/step - loss: 0.0622 - acc: 0.9794 - val_loss: 0.0589 - val_acc: 0.9801\n",
            "Epoch 5/25\n",
            "1207116/1207116 [==============================] - 2081s 2ms/step - loss: 0.0594 - acc: 0.9804 - val_loss: 0.0605 - val_acc: 0.9795\n"
          ],
          "name": "stdout"
        },
        {
          "output_type": "execute_result",
          "data": {
            "text/plain": [
              "<tensorflow.python.keras.callbacks.History at 0x7f6f0852f4a8>"
            ]
          },
          "metadata": {
            "tags": []
          },
          "execution_count": 19
        }
      ]
    },
    {
      "metadata": {
        "id": "nfv1-vvcvndM",
        "colab_type": "text"
      },
      "cell_type": "markdown",
      "source": [
        "Тестирование на отложенной выборке"
      ]
    },
    {
      "metadata": {
        "id": "UYwHAGjWlFT1",
        "colab_type": "code",
        "colab": {}
      },
      "cell_type": "code",
      "source": [
        "import matplotlib.pyplot as plt\n",
        "%matplotlib inline\n",
        "from sklearn.metrics import accuracy_score, precision_score, recall_score, f1_score, \\\n",
        "    confusion_matrix, roc_curve, roc_auc_score, precision_recall_curve, average_precision_score\n",
        "from itertools import product"
      ],
      "execution_count": 0,
      "outputs": []
    },
    {
      "metadata": {
        "id": "XwFGTYJflNcB",
        "colab_type": "code",
        "colab": {}
      },
      "cell_type": "code",
      "source": [
        "y_score = model.predict_proba(X_test)\n",
        "y_pred = y_score.round()"
      ],
      "execution_count": 0,
      "outputs": []
    },
    {
      "metadata": {
        "id": "KOwf-YZ_mQ9a",
        "colab_type": "code",
        "colab": {
          "base_uri": "https://localhost:8080/",
          "height": 119
        },
        "outputId": "8f3ae27e-49e8-4b36-9247-35c3daddc3b7"
      },
      "cell_type": "code",
      "source": [
        "print(\"Accuracy score : \", accuracy_score(y_test, y_pred))\n",
        "print(\"Precision score : \", precision_score(y_test, y_pred))\n",
        "print(\"Recall score : \", recall_score(y_test, y_pred))\n",
        "print(\"F1 score : \", f1_score(y_test, y_pred))\n",
        "print(\"ROC AUC score : \", roc_auc_score(y_test, y_score))\n",
        "print(\"Average Precision score : \", average_precision_score(y_test, y_score))\n"
      ],
      "execution_count": 25,
      "outputs": [
        {
          "output_type": "stream",
          "text": [
            "Accuracy score :  0.9795358177851858\n",
            "Precision score :  0.9757809876980998\n",
            "Recall score :  0.9782646515990439\n",
            "F1 score :  0.9770212412344732\n",
            "ROC AUC score :  0.9973547174344399\n",
            "Average Precision score :  0.9963101273706325\n"
          ],
          "name": "stdout"
        }
      ]
    },
    {
      "metadata": {
        "id": "9m4JmWVFzlTU",
        "colab_type": "code",
        "colab": {}
      },
      "cell_type": "code",
      "source": [
        "labels = ['legit', 'dga']"
      ],
      "execution_count": 0,
      "outputs": []
    },
    {
      "metadata": {
        "id": "hBAhp6iFwb7_",
        "colab_type": "text"
      },
      "cell_type": "markdown",
      "source": [
        "Матрица ошибок (Confusion Matrix)"
      ]
    },
    {
      "metadata": {
        "id": "1ptdb6x4mr-5",
        "colab_type": "code",
        "colab": {
          "base_uri": "https://localhost:8080/",
          "height": 311
        },
        "outputId": "e8cdb8b4-dbe8-4226-cdde-ed2bea241924"
      },
      "cell_type": "code",
      "source": [
        "cm = confusion_matrix(y_test, y_pred)\n",
        "np.set_printoptions(precision=2)\n",
        "    \n",
        "cm = cm.astype('float') / cm.sum(axis=1).T[:, np.newaxis]\n",
        "    \n",
        "plt.imshow(cm, interpolation='nearest', cmap=plt.cm.Blues)\n",
        "plt.title(\"Confusion Matrix\")\n",
        "plt.colorbar()\n",
        "plt.xticks([1, 0], labels, rotation=45)\n",
        "plt.yticks([1, 0], labels)\n",
        "    \n",
        "fmt = '.2f'\n",
        "thresh = cm.max() / 2.\n",
        "for i, j in product(range(cm.shape[0]), range(cm.shape[1])):\n",
        "  plt.text(j, i, format(cm[i, j], fmt),\n",
        "  horizontalalignment=\"center\",\n",
        "  color=\"white\" if cm[i, j] > thresh else \"black\")\n",
        "    \n",
        "plt.tight_layout()\n",
        "plt.ylabel('True label')\n",
        "plt.xlabel('Predicted label')\n",
        "plt.show()"
      ],
      "execution_count": 27,
      "outputs": [
        {
          "output_type": "display_data",
          "data": {
            "image/png": "[encoded data removed]",
            "text/plain": [
              "<matplotlib.figure.Figure at 0x7f6effc0d9b0>"
            ]
          },
          "metadata": {
            "tags": []
          }
        }
      ]
    },
    {
      "metadata": {
        "id": "uichjuQw-Evj",
        "colab_type": "text"
      },
      "cell_type": "markdown",
      "source": [
        "ROC-кривая"
      ]
    },
    {
      "metadata": {
        "id": "60K0CZnl98cy",
        "colab_type": "code",
        "colab": {
          "base_uri": "https://localhost:8080/",
          "height": 294
        },
        "outputId": "e0fb0912-1e95-4e1f-e9cd-6e051d9dafaf"
      },
      "cell_type": "code",
      "source": [
        "plt.figure()\n",
        "plt.plot([0, 1], [0, 1], '--', color=\"grey\")\n",
        "plt.axvline(0, linestyle=\"-\", c=\"black\", lw=1)\n",
        "plt.axvline(1, linestyle=\"--\", c=\"black\", lw=1)\n",
        "plt.axhline(1, linestyle=\"--\", c=\"black\", lw=1)\n",
        "fpr, tpr, thresholds = roc_curve(y_test, y_score)\n",
        "plt.plot(fpr, tpr, label=\"lstm\")\n",
        "plt.grid(True)\n",
        "plt.xlabel('False positive rate')\n",
        "plt.ylabel('True positive rate')\n",
        "plt.title('ROC curve')\n",
        "plt.legend(loc='best')\n",
        "plt.show() "
      ],
      "execution_count": 28,
      "outputs": [
        {
          "output_type": "display_data",
          "data": {
            "image/png": "[encoded data removed]",
            "text/plain": [
              "<matplotlib.figure.Figure at 0x7f6effcb2358>"
            ]
          },
          "metadata": {
            "tags": []
          }
        }
      ]
    },
    {
      "metadata": {
        "id": "Cm3zybx1-ZYr",
        "colab_type": "text"
      },
      "cell_type": "markdown",
      "source": [
        "Кривая Точность-Полнота (Precision-Recall)"
      ]
    },
    {
      "metadata": {
        "id": "zV-sYZ0w-b8k",
        "colab_type": "code",
        "colab": {
          "base_uri": "https://localhost:8080/",
          "height": 294
        },
        "outputId": "3b170f58-31f1-4086-a6fb-05b8677bd966"
      },
      "cell_type": "code",
      "source": [
        "plt.figure()\n",
        "plt.plot([0, 1], [0, 1], '--', color=\"grey\")\n",
        "plt.axvline(0, linestyle=\"-\", c=\"black\", lw=1)\n",
        "plt.axvline(1, linestyle=\"--\", c=\"black\", lw=1)\n",
        "plt.axhline(1, linestyle=\"--\", c=\"black\", lw=1)\n",
        "fpr, tpr, thresholds = precision_recall_curve(y_test, y_score)\n",
        "plt.plot(fpr, tpr, label=\"lstm\")\n",
        "plt.grid(True)\n",
        "plt.xlabel('False positive rate')\n",
        "plt.ylabel('True positive rate')\n",
        "plt.title('Precision Recall curve')\n",
        "plt.legend(loc='best')\n",
        "plt.show()"
      ],
      "execution_count": 29,
      "outputs": [
        {
          "output_type": "display_data",
          "data": {
            "image/png": "[encoded data removed]",
            "text/plain": [
              "<matplotlib.figure.Figure at 0x7f6effcb2c88>"
            ]
          },
          "metadata": {
            "tags": []
          }
        }
      ]
    }
  ]
}