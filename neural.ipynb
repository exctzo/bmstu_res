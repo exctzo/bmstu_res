{
  "nbformat": 4,
  "nbformat_minor": 0,
  "metadata": {
    "colab": {
      "name": "neural.ipynb",
      "version": "0.3.2",
      "provenance": [],
      "collapsed_sections": []
    },
    "kernelspec": {
      "name": "python3",
      "display_name": "Python 3"
    },
    "accelerator": "GPU"
  },
  "cells": [
    {
      "metadata": {
        "collapsed": true,
        "id": "s-eV5CsdQQwz",
        "colab_type": "text"
      },
      "cell_type": "markdown",
      "source": [
        "## Методы на нейронных сетях"
      ]
    },
    {
      "metadata": {
        "id": "DDaEs29iQQw2",
        "colab_type": "text"
      },
      "cell_type": "markdown",
      "source": [
        "Подключаемые модули"
      ]
    },
    {
      "metadata": {
        "id": "SuWgDGaZQQw2",
        "colab_type": "code",
        "colab": {}
      },
      "cell_type": "code",
      "source": [
        "import pandas as pd\n",
        "import numpy as np\n",
        "import pickle\n",
        "import math"
      ],
      "execution_count": 1,
      "outputs": []
    },
    {
      "metadata": {
        "id": "dVv09eQpQQw7",
        "colab_type": "text"
      },
      "cell_type": "markdown",
      "source": [
        "Подгрузка данных о доменных именах с диска "
      ]
    },
    {
      "metadata": {
        "id": "UEYGs7TBRGcZ",
        "colab_type": "code",
        "colab": {}
      },
      "cell_type": "code",
      "source": [
        "from google.colab import drive\n",
        "drive.mount('/content/gdrive')"
      ],
      "execution_count": 2,
      "outputs": []
    },
    {
      "metadata": {
        "id": "CR3e-OXeQQw9",
        "colab_type": "code",
        "colab": {}
      },
      "cell_type": "code",
      "source": [
        "with open('/content/gdrive/My Drive/Colab Notebooks/Res/input data/training_data.pkl', 'rb') as f:\n",
        "  training_data = pickle.load(f)"
      ],
      "execution_count": 3,
      "outputs": []
    },
    {
      "metadata": {
        "id": "O7tVwOQRQQxL",
        "colab_type": "text"
      },
      "cell_type": "markdown",
      "source": [
        "Общая коллекция данных"
      ]
    },
    {
      "metadata": {
        "id": "itBrrCEZQQxP",
        "colab_type": "code",
        "colab": {}
      },
      "cell_type": "code",
      "source": [
        "all_data_dict = pd.concat([training_data['legit'], training_data['dga']], ignore_index=True)"
      ],
      "execution_count": 4,
      "outputs": []
    },
    {
      "metadata": {
        "id": "34WsXHS150Po",
        "colab_type": "code",
        "colab": {
          "base_uri": "https://localhost:8080/",
          "height": 1906
        },
        "outputId": "be2e9f4e-9f6b-40f8-f1fa-529efd14ec79"
      },
      "cell_type": "code",
      "source": [
        "all_data_dict"
      ],
      "execution_count": 5,
      "outputs": [
        {
          "output_type": "execute_result",
          "data": {
            "text/html": [
              "<div>\n",
              "<style scoped>\n",
              "    .dataframe tbody tr th:only-of-type {\n",
              "        vertical-align: middle;\n",
              "    }\n",
              "\n",
              "    .dataframe tbody tr th {\n",
              "        vertical-align: top;\n",
              "    }\n",
              "\n",
              "    .dataframe thead th {\n",
              "        text-align: right;\n",
              "    }\n",
              "</style>\n",
              "<table border=\"1\" class=\"dataframe\">\n",
              "  <thead>\n",
              "    <tr style=\"text-align: right;\">\n",
              "      <th></th>\n",
              "      <th>data</th>\n",
              "      <th>domain</th>\n",
              "      <th>family</th>\n",
              "      <th>type</th>\n",
              "    </tr>\n",
              "  </thead>\n",
              "  <tbody>\n",
              "    <tr>\n",
              "      <th>0</th>\n",
              "      <td>NaN</td>\n",
              "      <td>netflix</td>\n",
              "      <td>NaN</td>\n",
              "      <td>0</td>\n",
              "    </tr>\n",
              "    <tr>\n",
              "      <th>1</th>\n",
              "      <td>NaN</td>\n",
              "      <td>netflix</td>\n",
              "      <td>NaN</td>\n",
              "      <td>0</td>\n",
              "    </tr>\n",
              "    <tr>\n",
              "      <th>2</th>\n",
              "      <td>NaN</td>\n",
              "      <td>netflix</td>\n",
              "      <td>NaN</td>\n",
              "      <td>0</td>\n",
              "    </tr>\n",
              "    <tr>\n",
              "      <th>3</th>\n",
              "      <td>NaN</td>\n",
              "      <td>netflix</td>\n",
              "      <td>NaN</td>\n",
              "      <td>0</td>\n",
              "    </tr>\n",
              "    <tr>\n",
              "      <th>4</th>\n",
              "      <td>NaN</td>\n",
              "      <td>google</td>\n",
              "      <td>NaN</td>\n",
              "      <td>0</td>\n",
              "    </tr>\n",
              "    <tr>\n",
              "      <th>5</th>\n",
              "      <td>NaN</td>\n",
              "      <td>google</td>\n",
              "      <td>NaN</td>\n",
              "      <td>0</td>\n",
              "    </tr>\n",
              "    <tr>\n",
              "      <th>6</th>\n",
              "      <td>NaN</td>\n",
              "      <td>microsoft</td>\n",
              "      <td>NaN</td>\n",
              "      <td>0</td>\n",
              "    </tr>\n",
              "    <tr>\n",
              "      <th>7</th>\n",
              "      <td>NaN</td>\n",
              "      <td>doubleclick</td>\n",
              "      <td>NaN</td>\n",
              "      <td>0</td>\n",
              "    </tr>\n",
              "    <tr>\n",
              "      <th>8</th>\n",
              "      <td>NaN</td>\n",
              "      <td>netflix</td>\n",
              "      <td>NaN</td>\n",
              "      <td>0</td>\n",
              "    </tr>\n",
              "    <tr>\n",
              "      <th>9</th>\n",
              "      <td>NaN</td>\n",
              "      <td>facebook</td>\n",
              "      <td>NaN</td>\n",
              "      <td>0</td>\n",
              "    </tr>\n",
              "    <tr>\n",
              "      <th>10</th>\n",
              "      <td>NaN</td>\n",
              "      <td>doubleclick</td>\n",
              "      <td>NaN</td>\n",
              "      <td>0</td>\n",
              "    </tr>\n",
              "    <tr>\n",
              "      <th>11</th>\n",
              "      <td>NaN</td>\n",
              "      <td>googleapis</td>\n",
              "      <td>NaN</td>\n",
              "      <td>0</td>\n",
              "    </tr>\n",
              "    <tr>\n",
              "      <th>12</th>\n",
              "      <td>NaN</td>\n",
              "      <td>google-analytics</td>\n",
              "      <td>NaN</td>\n",
              "      <td>0</td>\n",
              "    </tr>\n",
              "    <tr>\n",
              "      <th>13</th>\n",
              "      <td>NaN</td>\n",
              "      <td>google</td>\n",
              "      <td>NaN</td>\n",
              "      <td>0</td>\n",
              "    </tr>\n",
              "    <tr>\n",
              "      <th>14</th>\n",
              "      <td>NaN</td>\n",
              "      <td>doubleclick</td>\n",
              "      <td>NaN</td>\n",
              "      <td>0</td>\n",
              "    </tr>\n",
              "    <tr>\n",
              "      <th>15</th>\n",
              "      <td>NaN</td>\n",
              "      <td>live</td>\n",
              "      <td>NaN</td>\n",
              "      <td>0</td>\n",
              "    </tr>\n",
              "    <tr>\n",
              "      <th>16</th>\n",
              "      <td>NaN</td>\n",
              "      <td>microsoft</td>\n",
              "      <td>NaN</td>\n",
              "      <td>0</td>\n",
              "    </tr>\n",
              "    <tr>\n",
              "      <th>17</th>\n",
              "      <td>NaN</td>\n",
              "      <td>apple</td>\n",
              "      <td>NaN</td>\n",
              "      <td>0</td>\n",
              "    </tr>\n",
              "    <tr>\n",
              "      <th>18</th>\n",
              "      <td>NaN</td>\n",
              "      <td>googleapis</td>\n",
              "      <td>NaN</td>\n",
              "      <td>0</td>\n",
              "    </tr>\n",
              "    <tr>\n",
              "      <th>19</th>\n",
              "      <td>NaN</td>\n",
              "      <td>googleapis</td>\n",
              "      <td>NaN</td>\n",
              "      <td>0</td>\n",
              "    </tr>\n",
              "    <tr>\n",
              "      <th>20</th>\n",
              "      <td>NaN</td>\n",
              "      <td>google-analytics</td>\n",
              "      <td>NaN</td>\n",
              "      <td>0</td>\n",
              "    </tr>\n",
              "    <tr>\n",
              "      <th>21</th>\n",
              "      <td>NaN</td>\n",
              "      <td>netflix</td>\n",
              "      <td>NaN</td>\n",
              "      <td>0</td>\n",
              "    </tr>\n",
              "    <tr>\n",
              "      <th>22</th>\n",
              "      <td>NaN</td>\n",
              "      <td>microsoft</td>\n",
              "      <td>NaN</td>\n",
              "      <td>0</td>\n",
              "    </tr>\n",
              "    <tr>\n",
              "      <th>23</th>\n",
              "      <td>NaN</td>\n",
              "      <td>googleusercontent</td>\n",
              "      <td>NaN</td>\n",
              "      <td>0</td>\n",
              "    </tr>\n",
              "    <tr>\n",
              "      <th>24</th>\n",
              "      <td>NaN</td>\n",
              "      <td>googleapis</td>\n",
              "      <td>NaN</td>\n",
              "      <td>0</td>\n",
              "    </tr>\n",
              "    <tr>\n",
              "      <th>25</th>\n",
              "      <td>NaN</td>\n",
              "      <td>amazonaws</td>\n",
              "      <td>NaN</td>\n",
              "      <td>0</td>\n",
              "    </tr>\n",
              "    <tr>\n",
              "      <th>26</th>\n",
              "      <td>NaN</td>\n",
              "      <td>youtube</td>\n",
              "      <td>NaN</td>\n",
              "      <td>0</td>\n",
              "    </tr>\n",
              "    <tr>\n",
              "      <th>27</th>\n",
              "      <td>NaN</td>\n",
              "      <td>netflix</td>\n",
              "      <td>NaN</td>\n",
              "      <td>0</td>\n",
              "    </tr>\n",
              "    <tr>\n",
              "      <th>28</th>\n",
              "      <td>NaN</td>\n",
              "      <td>facebook</td>\n",
              "      <td>NaN</td>\n",
              "      <td>0</td>\n",
              "    </tr>\n",
              "    <tr>\n",
              "      <th>29</th>\n",
              "      <td>NaN</td>\n",
              "      <td>googleapis</td>\n",
              "      <td>NaN</td>\n",
              "      <td>0</td>\n",
              "    </tr>\n",
              "    <tr>\n",
              "      <th>...</th>\n",
              "      <td>...</td>\n",
              "      <td>...</td>\n",
              "      <td>...</td>\n",
              "      <td>...</td>\n",
              "    </tr>\n",
              "    <tr>\n",
              "      <th>1835247</th>\n",
              "      <td>2019-02-15</td>\n",
              "      <td>knddt</td>\n",
              "      <td>unknowndropper</td>\n",
              "      <td>1</td>\n",
              "    </tr>\n",
              "    <tr>\n",
              "      <th>1835248</th>\n",
              "      <td>2019-02-15</td>\n",
              "      <td>kndtd</td>\n",
              "      <td>unknowndropper</td>\n",
              "      <td>1</td>\n",
              "    </tr>\n",
              "    <tr>\n",
              "      <th>1835249</th>\n",
              "      <td>2019-02-15</td>\n",
              "      <td>kntdd</td>\n",
              "      <td>unknowndropper</td>\n",
              "      <td>1</td>\n",
              "    </tr>\n",
              "    <tr>\n",
              "      <th>1835250</th>\n",
              "      <td>2019-02-15</td>\n",
              "      <td>ktddn</td>\n",
              "      <td>unknowndropper</td>\n",
              "      <td>1</td>\n",
              "    </tr>\n",
              "    <tr>\n",
              "      <th>1835251</th>\n",
              "      <td>2019-02-15</td>\n",
              "      <td>ktdnd</td>\n",
              "      <td>unknowndropper</td>\n",
              "      <td>1</td>\n",
              "    </tr>\n",
              "    <tr>\n",
              "      <th>1835252</th>\n",
              "      <td>2019-02-15</td>\n",
              "      <td>ktndd</td>\n",
              "      <td>unknowndropper</td>\n",
              "      <td>1</td>\n",
              "    </tr>\n",
              "    <tr>\n",
              "      <th>1835253</th>\n",
              "      <td>2019-02-15</td>\n",
              "      <td>nddkt</td>\n",
              "      <td>unknowndropper</td>\n",
              "      <td>1</td>\n",
              "    </tr>\n",
              "    <tr>\n",
              "      <th>1835254</th>\n",
              "      <td>2019-02-15</td>\n",
              "      <td>nddtk</td>\n",
              "      <td>unknowndropper</td>\n",
              "      <td>1</td>\n",
              "    </tr>\n",
              "    <tr>\n",
              "      <th>1835255</th>\n",
              "      <td>2019-02-15</td>\n",
              "      <td>ndkdt</td>\n",
              "      <td>unknowndropper</td>\n",
              "      <td>1</td>\n",
              "    </tr>\n",
              "    <tr>\n",
              "      <th>1835256</th>\n",
              "      <td>2019-02-15</td>\n",
              "      <td>ndktd</td>\n",
              "      <td>unknowndropper</td>\n",
              "      <td>1</td>\n",
              "    </tr>\n",
              "    <tr>\n",
              "      <th>1835257</th>\n",
              "      <td>2019-02-15</td>\n",
              "      <td>ndtdk</td>\n",
              "      <td>unknowndropper</td>\n",
              "      <td>1</td>\n",
              "    </tr>\n",
              "    <tr>\n",
              "      <th>1835258</th>\n",
              "      <td>2019-02-15</td>\n",
              "      <td>ndtkd</td>\n",
              "      <td>unknowndropper</td>\n",
              "      <td>1</td>\n",
              "    </tr>\n",
              "    <tr>\n",
              "      <th>1835259</th>\n",
              "      <td>2019-02-15</td>\n",
              "      <td>nkddt</td>\n",
              "      <td>unknowndropper</td>\n",
              "      <td>1</td>\n",
              "    </tr>\n",
              "    <tr>\n",
              "      <th>1835260</th>\n",
              "      <td>2019-02-15</td>\n",
              "      <td>nkdtd</td>\n",
              "      <td>unknowndropper</td>\n",
              "      <td>1</td>\n",
              "    </tr>\n",
              "    <tr>\n",
              "      <th>1835261</th>\n",
              "      <td>2019-02-15</td>\n",
              "      <td>nktdd</td>\n",
              "      <td>unknowndropper</td>\n",
              "      <td>1</td>\n",
              "    </tr>\n",
              "    <tr>\n",
              "      <th>1835262</th>\n",
              "      <td>2019-02-15</td>\n",
              "      <td>ntddk</td>\n",
              "      <td>unknowndropper</td>\n",
              "      <td>1</td>\n",
              "    </tr>\n",
              "    <tr>\n",
              "      <th>1835263</th>\n",
              "      <td>2019-02-15</td>\n",
              "      <td>ntdkd</td>\n",
              "      <td>unknowndropper</td>\n",
              "      <td>1</td>\n",
              "    </tr>\n",
              "    <tr>\n",
              "      <th>1835264</th>\n",
              "      <td>2019-02-15</td>\n",
              "      <td>ntkdd</td>\n",
              "      <td>unknowndropper</td>\n",
              "      <td>1</td>\n",
              "    </tr>\n",
              "    <tr>\n",
              "      <th>1835265</th>\n",
              "      <td>2019-02-15</td>\n",
              "      <td>tddkn</td>\n",
              "      <td>unknowndropper</td>\n",
              "      <td>1</td>\n",
              "    </tr>\n",
              "    <tr>\n",
              "      <th>1835266</th>\n",
              "      <td>2019-02-15</td>\n",
              "      <td>tddnk</td>\n",
              "      <td>unknowndropper</td>\n",
              "      <td>1</td>\n",
              "    </tr>\n",
              "    <tr>\n",
              "      <th>1835267</th>\n",
              "      <td>2019-02-15</td>\n",
              "      <td>tdkdn</td>\n",
              "      <td>unknowndropper</td>\n",
              "      <td>1</td>\n",
              "    </tr>\n",
              "    <tr>\n",
              "      <th>1835268</th>\n",
              "      <td>2019-02-15</td>\n",
              "      <td>tdknd</td>\n",
              "      <td>unknowndropper</td>\n",
              "      <td>1</td>\n",
              "    </tr>\n",
              "    <tr>\n",
              "      <th>1835269</th>\n",
              "      <td>2019-02-15</td>\n",
              "      <td>tdndk</td>\n",
              "      <td>unknowndropper</td>\n",
              "      <td>1</td>\n",
              "    </tr>\n",
              "    <tr>\n",
              "      <th>1835270</th>\n",
              "      <td>2019-02-15</td>\n",
              "      <td>tdnkd</td>\n",
              "      <td>unknowndropper</td>\n",
              "      <td>1</td>\n",
              "    </tr>\n",
              "    <tr>\n",
              "      <th>1835271</th>\n",
              "      <td>2019-02-15</td>\n",
              "      <td>tkddn</td>\n",
              "      <td>unknowndropper</td>\n",
              "      <td>1</td>\n",
              "    </tr>\n",
              "    <tr>\n",
              "      <th>1835272</th>\n",
              "      <td>2019-02-15</td>\n",
              "      <td>tkdnd</td>\n",
              "      <td>unknowndropper</td>\n",
              "      <td>1</td>\n",
              "    </tr>\n",
              "    <tr>\n",
              "      <th>1835273</th>\n",
              "      <td>2019-02-15</td>\n",
              "      <td>tkndd</td>\n",
              "      <td>unknowndropper</td>\n",
              "      <td>1</td>\n",
              "    </tr>\n",
              "    <tr>\n",
              "      <th>1835274</th>\n",
              "      <td>2019-02-15</td>\n",
              "      <td>tnddk</td>\n",
              "      <td>unknowndropper</td>\n",
              "      <td>1</td>\n",
              "    </tr>\n",
              "    <tr>\n",
              "      <th>1835275</th>\n",
              "      <td>2019-02-15</td>\n",
              "      <td>tndkd</td>\n",
              "      <td>unknowndropper</td>\n",
              "      <td>1</td>\n",
              "    </tr>\n",
              "    <tr>\n",
              "      <th>1835276</th>\n",
              "      <td>2019-02-15</td>\n",
              "      <td>tnkdd</td>\n",
              "      <td>unknowndropper</td>\n",
              "      <td>1</td>\n",
              "    </tr>\n",
              "  </tbody>\n",
              "</table>\n",
              "<p>1835277 rows × 4 columns</p>\n",
              "</div>"
            ],
            "text/plain": [
              "               data             domain          family  type\n",
              "0               NaN            netflix             NaN     0\n",
              "1               NaN            netflix             NaN     0\n",
              "2               NaN            netflix             NaN     0\n",
              "3               NaN            netflix             NaN     0\n",
              "4               NaN             google             NaN     0\n",
              "5               NaN             google             NaN     0\n",
              "6               NaN          microsoft             NaN     0\n",
              "7               NaN        doubleclick             NaN     0\n",
              "8               NaN            netflix             NaN     0\n",
              "9               NaN           facebook             NaN     0\n",
              "10              NaN        doubleclick             NaN     0\n",
              "11              NaN         googleapis             NaN     0\n",
              "12              NaN   google-analytics             NaN     0\n",
              "13              NaN             google             NaN     0\n",
              "14              NaN        doubleclick             NaN     0\n",
              "15              NaN               live             NaN     0\n",
              "16              NaN          microsoft             NaN     0\n",
              "17              NaN              apple             NaN     0\n",
              "18              NaN         googleapis             NaN     0\n",
              "19              NaN         googleapis             NaN     0\n",
              "20              NaN   google-analytics             NaN     0\n",
              "21              NaN            netflix             NaN     0\n",
              "22              NaN          microsoft             NaN     0\n",
              "23              NaN  googleusercontent             NaN     0\n",
              "24              NaN         googleapis             NaN     0\n",
              "25              NaN          amazonaws             NaN     0\n",
              "26              NaN            youtube             NaN     0\n",
              "27              NaN            netflix             NaN     0\n",
              "28              NaN           facebook             NaN     0\n",
              "29              NaN         googleapis             NaN     0\n",
              "...             ...                ...             ...   ...\n",
              "1835247  2019-02-15              knddt  unknowndropper     1\n",
              "1835248  2019-02-15              kndtd  unknowndropper     1\n",
              "1835249  2019-02-15              kntdd  unknowndropper     1\n",
              "1835250  2019-02-15              ktddn  unknowndropper     1\n",
              "1835251  2019-02-15              ktdnd  unknowndropper     1\n",
              "1835252  2019-02-15              ktndd  unknowndropper     1\n",
              "1835253  2019-02-15              nddkt  unknowndropper     1\n",
              "1835254  2019-02-15              nddtk  unknowndropper     1\n",
              "1835255  2019-02-15              ndkdt  unknowndropper     1\n",
              "1835256  2019-02-15              ndktd  unknowndropper     1\n",
              "1835257  2019-02-15              ndtdk  unknowndropper     1\n",
              "1835258  2019-02-15              ndtkd  unknowndropper     1\n",
              "1835259  2019-02-15              nkddt  unknowndropper     1\n",
              "1835260  2019-02-15              nkdtd  unknowndropper     1\n",
              "1835261  2019-02-15              nktdd  unknowndropper     1\n",
              "1835262  2019-02-15              ntddk  unknowndropper     1\n",
              "1835263  2019-02-15              ntdkd  unknowndropper     1\n",
              "1835264  2019-02-15              ntkdd  unknowndropper     1\n",
              "1835265  2019-02-15              tddkn  unknowndropper     1\n",
              "1835266  2019-02-15              tddnk  unknowndropper     1\n",
              "1835267  2019-02-15              tdkdn  unknowndropper     1\n",
              "1835268  2019-02-15              tdknd  unknowndropper     1\n",
              "1835269  2019-02-15              tdndk  unknowndropper     1\n",
              "1835270  2019-02-15              tdnkd  unknowndropper     1\n",
              "1835271  2019-02-15              tkddn  unknowndropper     1\n",
              "1835272  2019-02-15              tkdnd  unknowndropper     1\n",
              "1835273  2019-02-15              tkndd  unknowndropper     1\n",
              "1835274  2019-02-15              tnddk  unknowndropper     1\n",
              "1835275  2019-02-15              tndkd  unknowndropper     1\n",
              "1835276  2019-02-15              tnkdd  unknowndropper     1\n",
              "\n",
              "[1835277 rows x 4 columns]"
            ]
          },
          "metadata": {
            "tags": []
          },
          "execution_count": 5
        }
      ]
    },
    {
      "metadata": {
        "id": "TN5dTFRVQQxd",
        "colab_type": "text"
      },
      "cell_type": "markdown",
      "source": [
        "Массивы обучения"
      ]
    },
    {
      "metadata": {
        "id": "R39RaDUqQQxf",
        "colab_type": "code",
        "colab": {}
      },
      "cell_type": "code",
      "source": [
        "# Массив x хранит образцы обучения\n",
        "# В массиве y хранятся целевые значения (метки типов) для образцов обучения\n",
        "X = np.array(all_data_dict['domain'].tolist())\n",
        "y = np.array(all_data_dict['type'].tolist())"
      ],
      "execution_count": 6,
      "outputs": []
    },
    {
      "metadata": {
        "id": "T4ry34wkp1hv",
        "colab_type": "code",
        "outputId": "bacf3afe-1f6b-49ab-fb28-476428275724",
        "colab": {
          "base_uri": "https://localhost:8080/",
          "height": 52
        }
      },
      "cell_type": "code",
      "source": [
        "X"
      ],
      "execution_count": 7,
      "outputs": [
        {
          "output_type": "execute_result",
          "data": {
            "text/plain": [
              "array(['netflix', 'netflix', 'netflix', ..., 'tnddk', 'tndkd', 'tnkdd'],\n",
              "      dtype='<U51')"
            ]
          },
          "metadata": {
            "tags": []
          },
          "execution_count": 7
        }
      ]
    },
    {
      "metadata": {
        "id": "H7nG1eQZp2h6",
        "colab_type": "code",
        "outputId": "f5ff8586-d2f8-4793-b8a2-d88eb182cbe6",
        "colab": {
          "base_uri": "https://localhost:8080/",
          "height": 34
        }
      },
      "cell_type": "code",
      "source": [
        "y"
      ],
      "execution_count": 8,
      "outputs": [
        {
          "output_type": "execute_result",
          "data": {
            "text/plain": [
              "array([0, 0, 0, ..., 1, 1, 1])"
            ]
          },
          "metadata": {
            "tags": []
          },
          "execution_count": 8
        }
      ]
    },
    {
      "metadata": {
        "id": "LShZWT6TQQxu",
        "colab_type": "code",
        "colab": {}
      },
      "cell_type": "code",
      "source": [
        "from tensorflow.keras.preprocessing import sequence"
      ],
      "execution_count": 9,
      "outputs": []
    },
    {
      "metadata": {
        "id": "ngv8Qy1eQQxx",
        "colab_type": "code",
        "colab": {}
      },
      "cell_type": "code",
      "source": [
        "# Создание словаря действительных символов\n",
        "valid_chars = {x:idx+1 for idx, x in enumerate(set(''.join(X)))}"
      ],
      "execution_count": 10,
      "outputs": []
    },
    {
      "metadata": {
        "id": "-JkGMGXPpzG-",
        "colab_type": "code",
        "outputId": "8edb220e-b845-4c5c-9e0d-b281c42c6d02",
        "colab": {
          "base_uri": "https://localhost:8080/",
          "height": 674
        }
      },
      "cell_type": "code",
      "source": [
        "valid_chars"
      ],
      "execution_count": 11,
      "outputs": [
        {
          "output_type": "execute_result",
          "data": {
            "text/plain": [
              "{'-': 29,\n",
              " '0': 24,\n",
              " '1': 20,\n",
              " '2': 19,\n",
              " '3': 5,\n",
              " '4': 9,\n",
              " '5': 14,\n",
              " '6': 16,\n",
              " '7': 28,\n",
              " '8': 35,\n",
              " '9': 6,\n",
              " 'a': 22,\n",
              " 'b': 21,\n",
              " 'c': 3,\n",
              " 'd': 4,\n",
              " 'e': 1,\n",
              " 'f': 8,\n",
              " 'g': 37,\n",
              " 'h': 36,\n",
              " 'i': 2,\n",
              " 'j': 11,\n",
              " 'k': 26,\n",
              " 'l': 15,\n",
              " 'm': 17,\n",
              " 'n': 31,\n",
              " 'o': 25,\n",
              " 'p': 27,\n",
              " 'q': 18,\n",
              " 'r': 32,\n",
              " 's': 13,\n",
              " 't': 12,\n",
              " 'u': 33,\n",
              " 'v': 7,\n",
              " 'w': 34,\n",
              " 'x': 23,\n",
              " 'y': 30,\n",
              " 'z': 10}"
            ]
          },
          "metadata": {
            "tags": []
          },
          "execution_count": 11
        }
      ]
    },
    {
      "metadata": {
        "id": "pQbdNJXhQQx7",
        "colab_type": "code",
        "colab": {}
      },
      "cell_type": "code",
      "source": [
        "# Количество уникальных символов\n",
        "max_features = len(valid_chars) + 1 "
      ],
      "execution_count": 12,
      "outputs": []
    },
    {
      "metadata": {
        "id": "KqMpgC50QQyE",
        "colab_type": "code",
        "colab": {
          "base_uri": "https://localhost:8080/",
          "height": 34
        },
        "outputId": "57b6a192-ea48-48f5-a0db-f2d9a34a7627"
      },
      "cell_type": "code",
      "source": [
        "# Макс последовательность символов\n",
        "maxlen = np.max([len(x) for x in X])\n",
        "maxlen"
      ],
      "execution_count": 13,
      "outputs": [
        {
          "output_type": "execute_result",
          "data": {
            "text/plain": [
              "51"
            ]
          },
          "metadata": {
            "tags": []
          },
          "execution_count": 13
        }
      ]
    },
    {
      "metadata": {
        "id": "bQKNtWqlQQyM",
        "colab_type": "code",
        "colab": {}
      },
      "cell_type": "code",
      "source": [
        "# Преобразование символов в int и pad (последовательности одиннаковой длины)\n",
        "X = [[valid_chars[y] for y in x] for x in X]\n",
        "X = sequence.pad_sequences(X, maxlen=maxlen)"
      ],
      "execution_count": 14,
      "outputs": []
    },
    {
      "metadata": {
        "id": "Qo6EH5LCp4RS",
        "colab_type": "code",
        "outputId": "46db4388-9807-40da-b8d3-5ddb7fca152d",
        "colab": {
          "base_uri": "https://localhost:8080/",
          "height": 141
        }
      },
      "cell_type": "code",
      "source": [
        "X"
      ],
      "execution_count": 15,
      "outputs": [
        {
          "output_type": "execute_result",
          "data": {
            "text/plain": [
              "array([[ 0,  0,  0, ..., 15,  2, 23],\n",
              "       [ 0,  0,  0, ..., 15,  2, 23],\n",
              "       [ 0,  0,  0, ..., 15,  2, 23],\n",
              "       ...,\n",
              "       [ 0,  0,  0, ...,  4,  4, 26],\n",
              "       [ 0,  0,  0, ...,  4, 26,  4],\n",
              "       [ 0,  0,  0, ..., 26,  4,  4]], dtype=int32)"
            ]
          },
          "metadata": {
            "tags": []
          },
          "execution_count": 15
        }
      ]
    },
    {
      "metadata": {
        "id": "QkT1o9IWvw25",
        "colab_type": "text"
      },
      "cell_type": "markdown",
      "source": [
        "Построение модели"
      ]
    },
    {
      "metadata": {
        "id": "pvqshzI7DxPI",
        "colab_type": "code",
        "colab": {}
      },
      "cell_type": "code",
      "source": [
        "from tensorflow.keras.models import Sequential\n",
        "from tensorflow.keras.layers import Dense, Dropout, Activation, Embedding, LSTM, SimpleRNN, GRU, Convolution1D, GlobalMaxPooling1D\n",
        "from sklearn.model_selection import train_test_split\n",
        "from tensorflow.keras.callbacks import EarlyStopping"
      ],
      "execution_count": 16,
      "outputs": []
    },
    {
      "metadata": {
        "id": "0wbT82dE0b91",
        "colab_type": "code",
        "colab": {}
      },
      "cell_type": "code",
      "source": [
        "# 33% для теста\n",
        "X_train, X_test, y_train, y_test = train_test_split(X, y, test_size=0.33, random_state=0)"
      ],
      "execution_count": 17,
      "outputs": []
    },
    {
      "metadata": {
        "id": "k0O4sJGRQQym",
        "colab_type": "code",
        "colab": {
          "base_uri": "https://localhost:8080/",
          "height": 143
        },
        "outputId": "d7fd7d2e-0fb4-4dcc-e5fe-0a768d0319ae"
      },
      "cell_type": "code",
      "source": [
        "# Метод Endgame (LSTM)\n",
        "modelEnd = Sequential()\n",
        "modelEnd.add(Embedding(max_features, 128, input_length=maxlen))\n",
        "modelEnd.add(LSTM(128))\n",
        "modelEnd.add(Dropout(rate=0.5))\n",
        "modelEnd.add(Dense(1))\n",
        "modelEnd.add(Activation('sigmoid'))\n",
        "modelEnd.compile(loss='binary_crossentropy', optimizer='rmsprop', metrics=['accuracy'])"
      ],
      "execution_count": 18,
      "outputs": [
        {
          "output_type": "stream",
          "text": [
            "WARNING:tensorflow:From /usr/local/lib/python3.6/dist-packages/tensorflow/python/ops/resource_variable_ops.py:435: colocate_with (from tensorflow.python.framework.ops) is deprecated and will be removed in a future version.\n",
            "Instructions for updating:\n",
            "Colocations handled automatically by placer.\n",
            "WARNING:tensorflow:From /usr/local/lib/python3.6/dist-packages/tensorflow/python/keras/layers/core.py:143: calling dropout (from tensorflow.python.ops.nn_ops) with keep_prob is deprecated and will be removed in a future version.\n",
            "Instructions for updating:\n",
            "Please use `rate` instead of `keep_prob`. Rate should be set to `rate = 1 - keep_prob`.\n"
          ],
          "name": "stdout"
        }
      ]
    },
    {
      "metadata": {
        "id": "e9VeD2NPgx6r",
        "colab_type": "code",
        "colab": {}
      },
      "cell_type": "code",
      "source": [
        "# Метод 2 (SimpleRNN)\n",
        "modelSR = Sequential()\n",
        "modelSR.add(Embedding(max_features, 128, input_length=maxlen))\n",
        "modelSR.add(SimpleRNN(128))\n",
        "modelSR.add(Dropout(rate=0.5))\n",
        "modelSR.add(Dense(1))\n",
        "modelSR.add(Activation('sigmoid'))\n",
        "modelSR.compile(loss='binary_crossentropy', optimizer='rmsprop', metrics=['accuracy'])"
      ],
      "execution_count": 19,
      "outputs": []
    },
    {
      "metadata": {
        "id": "RLjl3SkhiVGu",
        "colab_type": "code",
        "colab": {}
      },
      "cell_type": "code",
      "source": [
        "# Метод 3 (GRU)\n",
        "modelGRU = Sequential()\n",
        "modelGRU.add(Embedding(max_features, 128, input_length=maxlen))\n",
        "modelGRU.add(GRU(128))\n",
        "modelGRU.add(Dropout(rate=0.5))\n",
        "modelGRU.add(Dense(1))\n",
        "modelGRU.add(Activation('sigmoid'))\n",
        "modelGRU.compile(loss='binary_crossentropy', optimizer='rmsprop', metrics=['accuracy'])"
      ],
      "execution_count": 20,
      "outputs": []
    },
    {
      "metadata": {
        "id": "Rn_0FvW8kXpX",
        "colab_type": "code",
        "colab": {}
      },
      "cell_type": "code",
      "source": [
        "# Метод 4 (CNN)\n",
        "modelCNN = Sequential()\n",
        "modelCNN.add(Embedding(max_features, 128, input_length=maxlen))\n",
        "modelCNN.add(Convolution1D(filters=32, kernel_size=4))\n",
        "modelCNN.add(GlobalMaxPooling1D())\n",
        "modelCNN.add(Dense(128))\n",
        "modelCNN.add(Dropout(rate=0.5))\n",
        "modelCNN.add(Activation('relu'))\n",
        "modelCNN.add(Dense(1))\n",
        "modelCNN.add(Activation('sigmoid'))\n",
        "modelCNN.compile(loss='binary_crossentropy', optimizer='rmsprop', metrics=['accuracy'])"
      ],
      "execution_count": 21,
      "outputs": []
    },
    {
      "metadata": {
        "id": "ypZd01Kb1lcF",
        "colab_type": "code",
        "colab": {}
      },
      "cell_type": "code",
      "source": [
        "# Игнорирование предостережения о нехватке памяти\n",
        "import warnings\n",
        "warnings.filterwarnings('ignore')"
      ],
      "execution_count": 22,
      "outputs": []
    },
    {
      "metadata": {
        "id": "i7caSo4Sv3WF",
        "colab_type": "text"
      },
      "cell_type": "markdown",
      "source": [
        "Обучение + кросс-валидация"
      ]
    },
    {
      "metadata": {
        "id": "-rkQJ8U8ahCp",
        "colab_type": "code",
        "colab": {}
      },
      "cell_type": "code",
      "source": [
        "names = [\"Endgame (LSTM)\", \"SimpleRNN\", \"GRU\", \"CNN\"]\n",
        "models = [modelEnd, modelSR, modelGRU, modelCNN]"
      ],
      "execution_count": 23,
      "outputs": []
    },
    {
      "metadata": {
        "id": "GGPCotEyaQNH",
        "colab_type": "code",
        "outputId": "598c00cd-507d-4d21-8d0d-f7c35d11addb",
        "colab": {
          "base_uri": "https://localhost:8080/",
          "height": 1174
        }
      },
      "cell_type": "code",
      "source": [
        "for model, name in zip(models, names):\n",
        "    print(name)\n",
        "    model.fit(X_train, y_train, validation_data=(X_test,y_test), epochs=10, batch_size=1024, callbacks=[EarlyStopping(monitor='val_loss',min_delta=0.0001)])\n",
        "    print(\"\\n\")"
      ],
      "execution_count": 24,
      "outputs": [
        {
          "output_type": "stream",
          "text": [
            "Endgame (LSTM)\n",
            "Train on 1229635 samples, validate on 605642 samples\n",
            "WARNING:tensorflow:From /usr/local/lib/python3.6/dist-packages/tensorflow/python/ops/math_ops.py:3066: to_int32 (from tensorflow.python.ops.math_ops) is deprecated and will be removed in a future version.\n",
            "Instructions for updating:\n",
            "Use tf.cast instead.\n",
            "Epoch 1/10\n",
            "1229635/1229635 [==============================] - 254s 206us/sample - loss: 0.1752 - acc: 0.9381 - val_loss: 0.1155 - val_acc: 0.9633\n",
            "Epoch 2/10\n",
            "1229635/1229635 [==============================] - 276s 224us/sample - loss: 0.1029 - acc: 0.9677 - val_loss: 0.0883 - val_acc: 0.9725\n",
            "Epoch 3/10\n",
            "1229635/1229635 [==============================] - 283s 230us/sample - loss: 0.0853 - acc: 0.9736 - val_loss: 0.0795 - val_acc: 0.9752\n",
            "Epoch 4/10\n",
            "1229635/1229635 [==============================] - 278s 226us/sample - loss: 0.0760 - acc: 0.9767 - val_loss: 0.0728 - val_acc: 0.9775\n",
            "Epoch 5/10\n",
            "1229635/1229635 [==============================] - 280s 228us/sample - loss: 0.0696 - acc: 0.9788 - val_loss: 0.0738 - val_acc: 0.9775\n",
            "\n",
            "\n",
            "SimpleRNN\n",
            "Train on 1229635 samples, validate on 605642 samples\n",
            "Epoch 1/10\n",
            "1229635/1229635 [==============================] - 135s 110us/sample - loss: 0.1724 - acc: 0.9383 - val_loss: 0.1138 - val_acc: 0.9633\n",
            "Epoch 2/10\n",
            "1229635/1229635 [==============================] - 136s 111us/sample - loss: 0.1099 - acc: 0.9652 - val_loss: 0.1054 - val_acc: 0.9669\n",
            "Epoch 3/10\n",
            "1229635/1229635 [==============================] - 134s 109us/sample - loss: 0.0957 - acc: 0.9704 - val_loss: 0.0872 - val_acc: 0.9728\n",
            "Epoch 4/10\n",
            "1229635/1229635 [==============================] - 131s 107us/sample - loss: 0.0882 - acc: 0.9728 - val_loss: 0.0885 - val_acc: 0.9728\n",
            "\n",
            "\n",
            "GRU\n",
            "Train on 1229635 samples, validate on 605642 samples\n",
            "Epoch 1/10\n",
            "1229635/1229635 [==============================] - 232s 189us/sample - loss: 0.1738 - acc: 0.9382 - val_loss: 0.1210 - val_acc: 0.9615\n",
            "Epoch 2/10\n",
            "1229635/1229635 [==============================] - 231s 188us/sample - loss: 0.0996 - acc: 0.9689 - val_loss: 0.0850 - val_acc: 0.9737\n",
            "Epoch 3/10\n",
            "1229635/1229635 [==============================] - 232s 188us/sample - loss: 0.0807 - acc: 0.9752 - val_loss: 0.0742 - val_acc: 0.9768\n",
            "Epoch 4/10\n",
            "1229635/1229635 [==============================] - 231s 187us/sample - loss: 0.0713 - acc: 0.9783 - val_loss: 0.0671 - val_acc: 0.9794\n",
            "Epoch 5/10\n",
            "1229635/1229635 [==============================] - 228s 185us/sample - loss: 0.0653 - acc: 0.9802 - val_loss: 0.0633 - val_acc: 0.9803\n",
            "Epoch 6/10\n",
            "1229635/1229635 [==============================] - 224s 182us/sample - loss: 0.0603 - acc: 0.9817 - val_loss: 0.0603 - val_acc: 0.9814\n",
            "Epoch 7/10\n",
            "1229635/1229635 [==============================] - 224s 182us/sample - loss: 0.0561 - acc: 0.9831 - val_loss: 0.0568 - val_acc: 0.9828\n",
            "Epoch 8/10\n",
            "1229635/1229635 [==============================] - 227s 185us/sample - loss: 0.0523 - acc: 0.9843 - val_loss: 0.0567 - val_acc: 0.9828\n",
            "\n",
            "\n",
            "CNN\n",
            "Train on 1229635 samples, validate on 605642 samples\n",
            "WARNING:tensorflow:From /usr/local/lib/python3.6/dist-packages/tensorflow/python/ops/math_grad.py:102: div (from tensorflow.python.ops.math_ops) is deprecated and will be removed in a future version.\n",
            "Instructions for updating:\n",
            "Deprecated in favor of operator or tf.math.divide.\n",
            "Epoch 1/10\n",
            "1229635/1229635 [==============================] - 25s 20us/sample - loss: 0.1500 - acc: 0.9469 - val_loss: 0.1083 - val_acc: 0.9635\n",
            "Epoch 2/10\n",
            "1229635/1229635 [==============================] - 22s 18us/sample - loss: 0.1064 - acc: 0.9658 - val_loss: 0.0985 - val_acc: 0.9685\n",
            "Epoch 3/10\n",
            "1229635/1229635 [==============================] - 22s 18us/sample - loss: 0.0992 - acc: 0.9686 - val_loss: 0.0932 - val_acc: 0.9711\n",
            "Epoch 4/10\n",
            "1229635/1229635 [==============================] - 22s 18us/sample - loss: 0.0955 - acc: 0.9703 - val_loss: 0.0947 - val_acc: 0.9712\n",
            "\n",
            "\n"
          ],
          "name": "stdout"
        }
      ]
    },
    {
      "metadata": {
        "id": "nfv1-vvcvndM",
        "colab_type": "text"
      },
      "cell_type": "markdown",
      "source": [
        "Тестирование на отложенной выборке"
      ]
    },
    {
      "metadata": {
        "id": "UYwHAGjWlFT1",
        "colab_type": "code",
        "colab": {}
      },
      "cell_type": "code",
      "source": [
        "import matplotlib.pyplot as plt\n",
        "%matplotlib inline\n",
        "from sklearn.metrics import accuracy_score, precision_score, recall_score, f1_score, \\\n",
        "    confusion_matrix, roc_curve, roc_auc_score, precision_recall_curve, average_precision_score, matthews_corrcoef\n",
        "from itertools import product"
      ],
      "execution_count": 25,
      "outputs": []
    },
    {
      "metadata": {
        "id": "E-d1PDXY44CP",
        "colab_type": "code",
        "colab": {}
      },
      "cell_type": "code",
      "source": [
        "y_scoreEnd = modelEnd.predict_proba(X_test)\n",
        "y_predEnd = y_scoreEnd.round()\n",
        "\n",
        "y_scoreSR = modelSR.predict_proba(X_test)\n",
        "y_predSR = y_scoreSR.round()\n",
        "\n",
        "y_scoreGRU = modelGRU.predict_proba(X_test)\n",
        "y_predGRU = y_scoreGRU.round()\n",
        "\n",
        "y_scoreCNN = modelCNN.predict_proba(X_test)\n",
        "y_predCNN = y_scoreCNN.round()"
      ],
      "execution_count": 26,
      "outputs": []
    },
    {
      "metadata": {
        "id": "9m4JmWVFzlTU",
        "colab_type": "code",
        "colab": {}
      },
      "cell_type": "code",
      "source": [
        "y_pred = [y_predEnd, y_predSR, y_predGRU, y_predCNN]\n",
        "y_score = [y_scoreEnd, y_scoreSR, y_scoreGRU, y_scoreCNN]\n",
        "labels = ['legit', 'dga']"
      ],
      "execution_count": 27,
      "outputs": []
    },
    {
      "metadata": {
        "id": "KOwf-YZ_mQ9a",
        "colab_type": "code",
        "outputId": "51baa7af-4e79-45ec-e53e-d4855c4b5c5e",
        "colab": {
          "base_uri": "https://localhost:8080/",
          "height": 727
        }
      },
      "cell_type": "code",
      "source": [
        "for y_pr, y_sc, name in zip(y_pred, y_score, names):\n",
        "    print(name)\n",
        "    print(\"Accuracy score : \", accuracy_score(y_test, y_pr))\n",
        "    print(\"Precision score : \", precision_score(y_test, y_pr))\n",
        "    print(\"Recall score : \", recall_score(y_test, y_pr))\n",
        "    print(\"F1 score : \", f1_score(y_test, y_pr))\n",
        "    print(\"MCC score : \", matthews_corrcoef(y_test, y_pr))\n",
        "    print(\"ROC AUC score : \", roc_auc_score(y_test, y_sc))\n",
        "    print(\"Average Precision score : \", average_precision_score(y_test, y_sc))\n",
        "    print(\"\\n\")\n"
      ],
      "execution_count": 28,
      "outputs": [
        {
          "output_type": "stream",
          "text": [
            "Endgame (LSTM)\n",
            "Accuracy score :  0.9775378854174578\n",
            "Precision score :  0.9896963123644251\n",
            "Recall score :  0.9606169729266646\n",
            "F1 score :  0.9749398549149494\n",
            "MCC score :  0.9549443904742658\n",
            "ROC AUC score :  0.9962651806612184\n",
            "Average Precision score :  0.9959154370474439\n",
            "\n",
            "\n",
            "SimpleRNN\n",
            "Accuracy score :  0.9728139726108823\n",
            "Precision score :  0.9868315696483281\n",
            "Recall score :  0.9529465575698614\n",
            "F1 score :  0.9695931034610121\n",
            "MCC score :  0.9454961927085006\n",
            "ROC AUC score :  0.9939843330960624\n",
            "Average Precision score :  0.9934254690707368\n",
            "\n",
            "\n",
            "GRU\n",
            "Accuracy score :  0.982838046238537\n",
            "Precision score :  0.9863603337810167\n",
            "Recall score :  0.9757617778810341\n",
            "F1 score :  0.9810324313671103\n",
            "MCC score :  0.9654100043010685\n",
            "ROC AUC score :  0.9974528931858281\n",
            "Average Precision score :  0.997126187288743\n",
            "\n",
            "\n",
            "CNN\n",
            "Accuracy score :  0.971154576465965\n",
            "Precision score :  0.9851267703091977\n",
            "Recall score :  0.9509391085910104\n",
            "F1 score :  0.967731091195224\n",
            "MCC score :  0.9421472433792025\n",
            "ROC AUC score :  0.9932526952087952\n",
            "Average Precision score :  0.9905251171091399\n",
            "\n",
            "\n"
          ],
          "name": "stdout"
        }
      ]
    },
    {
      "metadata": {
        "id": "hBAhp6iFwb7_",
        "colab_type": "text"
      },
      "cell_type": "markdown",
      "source": [
        "Матрица ошибок (Confusion Matrix)"
      ]
    },
    {
      "metadata": {
        "id": "1ptdb6x4mr-5",
        "colab_type": "code",
        "outputId": "c218104e-752f-471f-929f-ad14c2eb95b4",
        "colab": {
          "base_uri": "https://localhost:8080/",
          "height": 1194
        }
      },
      "cell_type": "code",
      "source": [
        "for y_pr, name in zip(y_pred, names):  \n",
        "    cm = confusion_matrix(y_test, y_pr)\n",
        "    np.set_printoptions(precision=2)\n",
        "\n",
        "    cm = cm.astype('float') / cm.sum(axis=1).T[:, np.newaxis]\n",
        "\n",
        "    plt.imshow(cm, interpolation='nearest', cmap=plt.cm.Blues)\n",
        "    plt.title(\"Confusion Matrix (\" + name + \")\")\n",
        "    plt.colorbar()\n",
        "    plt.xticks([1, 0], labels, rotation=45)\n",
        "    plt.yticks([1, 0], labels)\n",
        "\n",
        "    fmt = '.2f'\n",
        "    thresh = cm.max() / 2.\n",
        "    for i, j in product(range(cm.shape[0]), range(cm.shape[1])):\n",
        "      plt.text(j, i, format(cm[i, j], fmt),\n",
        "      horizontalalignment=\"center\",\n",
        "      color=\"white\" if cm[i, j] > thresh else \"black\")\n",
        "\n",
        "    plt.tight_layout()\n",
        "    plt.ylabel('True label')\n",
        "    plt.xlabel('Predicted label')\n",
        "    plt.show()"
      ],
      "execution_count": 29,
      "outputs": [
        {
          "output_type": "display_data",
          "data": {
            "image/png": "[encoded data removed]",
            "text/plain": [
              "<Figure size 432x288 with 2 Axes>"
            ]
          },
          "metadata": {
            "tags": []
          }
        },
        {
          "output_type": "display_data",
          "data": {
            "image/png": "[encoded data removed]",
            "text/plain": [
              "<Figure size 432x288 with 2 Axes>"
            ]
          },
          "metadata": {
            "tags": []
          }
        },
        {
          "output_type": "display_data",
          "data": {
            "image/png": "[encoded data removed]",
            "text/plain": [
              "<Figure size 432x288 with 2 Axes>"
            ]
          },
          "metadata": {
            "tags": []
          }
        },
        {
          "output_type": "display_data",
          "data": {
            "image/png": "[encoded data removed]",
            "text/plain": [
              "<Figure size 432x288 with 2 Axes>"
            ]
          },
          "metadata": {
            "tags": []
          }
        }
      ]
    },
    {
      "metadata": {
        "id": "uichjuQw-Evj",
        "colab_type": "text"
      },
      "cell_type": "markdown",
      "source": [
        "ROC-кривая"
      ]
    },
    {
      "metadata": {
        "id": "60K0CZnl98cy",
        "colab_type": "code",
        "outputId": "bd0bcf36-d3c8-45ef-d6b6-5cbbb37db955",
        "colab": {
          "base_uri": "https://localhost:8080/",
          "height": 293
        }
      },
      "cell_type": "code",
      "source": [
        "plt.figure()\n",
        "plt.plot([0, 1], [0, 1], '--', color=\"grey\")\n",
        "plt.axvline(0, linestyle=\"-\", c=\"black\", lw=1)\n",
        "plt.axvline(1, linestyle=\"--\", c=\"black\", lw=1)\n",
        "plt.axhline(1, linestyle=\"--\", c=\"black\", lw=1)\n",
        "for y_sc, name in zip(y_score, names):\n",
        "    fpr, tpr, thresholds = roc_curve(y_test, y_sc)\n",
        "    plt.plot(fpr, tpr, label=name)\n",
        "plt.grid(True)\n",
        "plt.xlabel('False positive rate')\n",
        "plt.ylabel('True positive rate')\n",
        "plt.title('ROC curve')\n",
        "plt.legend(loc='best')\n",
        "plt.show() "
      ],
      "execution_count": 30,
      "outputs": [
        {
          "output_type": "display_data",
          "data": {
            "image/png": "[encoded data removed]",
            "text/plain": [
              "<Figure size 432x288 with 1 Axes>"
            ]
          },
          "metadata": {
            "tags": []
          }
        }
      ]
    },
    {
      "metadata": {
        "id": "Cm3zybx1-ZYr",
        "colab_type": "text"
      },
      "cell_type": "markdown",
      "source": [
        "Кривая Точность-Полнота (Precision-Recall)"
      ]
    },
    {
      "metadata": {
        "id": "zV-sYZ0w-b8k",
        "colab_type": "code",
        "outputId": "64321186-e11f-4977-85d2-c604384368ff",
        "colab": {
          "base_uri": "https://localhost:8080/",
          "height": 293
        }
      },
      "cell_type": "code",
      "source": [
        "plt.figure()\n",
        "plt.plot([0, 1], [0, 1], '--', color=\"grey\")\n",
        "plt.axvline(0, linestyle=\"-\", c=\"black\", lw=1)\n",
        "plt.axvline(1, linestyle=\"--\", c=\"black\", lw=1)\n",
        "plt.axhline(1, linestyle=\"--\", c=\"black\", lw=1)\n",
        "for y_sc, name in zip(y_score, names):\n",
        "    fpr, tpr, thresholds = precision_recall_curve(y_test, y_sc)\n",
        "    plt.plot(fpr, tpr, label=name)\n",
        "plt.grid(True)\n",
        "plt.xlabel('False positive rate')\n",
        "plt.ylabel('True positive rate')\n",
        "plt.title('Precision Recall curve')\n",
        "plt.legend(loc='best')\n",
        "plt.show()"
      ],
      "execution_count": 31,
      "outputs": [
        {
          "output_type": "display_data",
          "data": {
            "image/png": "[encoded data removed]",
            "text/plain": [
              "<Figure size 432x288 with 1 Axes>"
            ]
          },
          "metadata": {
            "tags": []
          }
        }
      ]
    },
    {
      "metadata": {
        "id": "_jDRenlENSHv",
        "colab_type": "code",
        "colab": {}
      },
      "cell_type": "code",
      "source": [
        ""
      ],
      "execution_count": 0,
      "outputs": []
    }
  ]
}
