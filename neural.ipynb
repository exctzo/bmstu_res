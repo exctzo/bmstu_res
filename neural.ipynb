{
  "nbformat": 4,
  "nbformat_minor": 0,
  "metadata": {
    "colab": {
      "name": "neural.ipynb",
      "version": "0.3.2",
      "provenance": [],
      "collapsed_sections": []
    },
    "kernelspec": {
      "name": "python3",
      "display_name": "Python 3"
    },
    "accelerator": "GPU"
  },
  "cells": [
    {
      "metadata": {
        "collapsed": true,
        "id": "s-eV5CsdQQwz",
        "colab_type": "text"
      },
      "cell_type": "markdown",
      "source": [
        "## Методы на нейронных сетях"
      ]
    },
    {
      "metadata": {
        "id": "DDaEs29iQQw2",
        "colab_type": "text"
      },
      "cell_type": "markdown",
      "source": [
        "Подключаемые модули"
      ]
    },
    {
      "metadata": {
        "id": "SuWgDGaZQQw2",
        "colab_type": "code",
        "colab": {}
      },
      "cell_type": "code",
      "source": [
        "import pandas as pd\n",
        "import numpy as np\n",
        "import pickle\n",
        "import math"
      ],
      "execution_count": 0,
      "outputs": []
    },
    {
      "metadata": {
        "id": "dVv09eQpQQw7",
        "colab_type": "text"
      },
      "cell_type": "markdown",
      "source": [
        "Подгрузка данных о доменных именах с диска "
      ]
    },
    {
      "metadata": {
        "id": "UEYGs7TBRGcZ",
        "colab_type": "code",
        "outputId": "01b03370-81e6-49b8-acf2-e4d513afadaa",
        "colab": {
          "base_uri": "https://localhost:8080/",
          "height": 34
        }
      },
      "cell_type": "code",
      "source": [
        "from google.colab import drive\n",
        "drive.mount('/content/gdrive')"
      ],
      "execution_count": 2,
      "outputs": [
        {
          "output_type": "stream",
          "text": [
            "Drive already mounted at /content/gdrive; to attempt to forcibly remount, call drive.mount(\"/content/gdrive\", force_remount=True).\n"
          ],
          "name": "stdout"
        }
      ]
    },
    {
      "metadata": {
        "id": "CR3e-OXeQQw9",
        "colab_type": "code",
        "colab": {}
      },
      "cell_type": "code",
      "source": [
        "with open('/content/gdrive/My Drive/Colab Notebooks/input data/training_data.pkl', 'rb') as f:\n",
        "  training_data = pickle.load(f)"
      ],
      "execution_count": 0,
      "outputs": []
    },
    {
      "metadata": {
        "id": "O7tVwOQRQQxL",
        "colab_type": "text"
      },
      "cell_type": "markdown",
      "source": [
        "Общая коллекция данных"
      ]
    },
    {
      "metadata": {
        "id": "itBrrCEZQQxP",
        "colab_type": "code",
        "colab": {}
      },
      "cell_type": "code",
      "source": [
        "all_data_dict = pd.concat([training_data['legit'], training_data['dga']], ignore_index=True)"
      ],
      "execution_count": 0,
      "outputs": []
    },
    {
      "metadata": {
        "id": "TN5dTFRVQQxd",
        "colab_type": "text"
      },
      "cell_type": "markdown",
      "source": [
        "Массивы обучения"
      ]
    },
    {
      "metadata": {
        "id": "R39RaDUqQQxf",
        "colab_type": "code",
        "colab": {}
      },
      "cell_type": "code",
      "source": [
        "# Массив x хранит образцы обучения\n",
        "# В массиве y хранятся целевые значения (метки типов) для образцов обучения\n",
        "X = np.array(all_data_dict['domain'].tolist())\n",
        "y = np.array(all_data_dict['type'].tolist())"
      ],
      "execution_count": 0,
      "outputs": []
    },
    {
      "metadata": {
        "id": "T4ry34wkp1hv",
        "colab_type": "code",
        "colab": {
          "base_uri": "https://localhost:8080/",
          "height": 51
        },
        "outputId": "afb66005-fa5a-4e37-e32b-a5fa82a2898f"
      },
      "cell_type": "code",
      "source": [
        "X"
      ],
      "execution_count": 6,
      "outputs": [
        {
          "output_type": "execute_result",
          "data": {
            "text/plain": [
              "array(['netflix', 'api-global', 'prod', ..., 'iumgkaoasgoyiccy',\n",
              "       'aemosuaokkwmqqmq', 'eimgukowkqeckykg'], dtype='<U63')"
            ]
          },
          "metadata": {
            "tags": []
          },
          "execution_count": 6
        }
      ]
    },
    {
      "metadata": {
        "id": "H7nG1eQZp2h6",
        "colab_type": "code",
        "colab": {
          "base_uri": "https://localhost:8080/",
          "height": 34
        },
        "outputId": "424508b5-743d-4fdd-f6a9-eab5d8beb7cb"
      },
      "cell_type": "code",
      "source": [
        "y"
      ],
      "execution_count": 7,
      "outputs": [
        {
          "output_type": "execute_result",
          "data": {
            "text/plain": [
              "array([0, 0, 0, ..., 1, 1, 1])"
            ]
          },
          "metadata": {
            "tags": []
          },
          "execution_count": 7
        }
      ]
    },
    {
      "metadata": {
        "id": "LShZWT6TQQxu",
        "colab_type": "code",
        "colab": {}
      },
      "cell_type": "code",
      "source": [
        "from tensorflow.keras.preprocessing import sequence"
      ],
      "execution_count": 0,
      "outputs": []
    },
    {
      "metadata": {
        "id": "ngv8Qy1eQQxx",
        "colab_type": "code",
        "colab": {}
      },
      "cell_type": "code",
      "source": [
        "# Создание словаря действительных символов\n",
        "valid_chars = {x:idx+1 for idx, x in enumerate(set(''.join(X)))}"
      ],
      "execution_count": 0,
      "outputs": []
    },
    {
      "metadata": {
        "id": "-JkGMGXPpzG-",
        "colab_type": "code",
        "colab": {
          "base_uri": "https://localhost:8080/",
          "height": 646
        },
        "outputId": "7d3d9177-d43f-426e-cc3b-0b1c0be9a194"
      },
      "cell_type": "code",
      "source": [
        "valid_chars"
      ],
      "execution_count": 10,
      "outputs": [
        {
          "output_type": "execute_result",
          "data": {
            "text/plain": [
              "{'-': 15,\n",
              " '0': 20,\n",
              " '1': 6,\n",
              " '2': 26,\n",
              " '3': 36,\n",
              " '4': 29,\n",
              " '5': 5,\n",
              " '6': 12,\n",
              " '7': 10,\n",
              " '8': 31,\n",
              " '9': 25,\n",
              " 'a': 37,\n",
              " 'b': 18,\n",
              " 'c': 19,\n",
              " 'd': 21,\n",
              " 'e': 3,\n",
              " 'f': 11,\n",
              " 'g': 16,\n",
              " 'h': 28,\n",
              " 'i': 4,\n",
              " 'j': 34,\n",
              " 'k': 2,\n",
              " 'l': 13,\n",
              " 'm': 24,\n",
              " 'n': 33,\n",
              " 'o': 17,\n",
              " 'p': 30,\n",
              " 'q': 22,\n",
              " 'r': 23,\n",
              " 's': 14,\n",
              " 't': 9,\n",
              " 'u': 32,\n",
              " 'v': 8,\n",
              " 'w': 27,\n",
              " 'x': 35,\n",
              " 'y': 7,\n",
              " 'z': 1}"
            ]
          },
          "metadata": {
            "tags": []
          },
          "execution_count": 10
        }
      ]
    },
    {
      "metadata": {
        "id": "pQbdNJXhQQx7",
        "colab_type": "code",
        "colab": {}
      },
      "cell_type": "code",
      "source": [
        "# 38 уникальных символов\n",
        "max_features = len(valid_chars) + 1 "
      ],
      "execution_count": 0,
      "outputs": []
    },
    {
      "metadata": {
        "id": "KqMpgC50QQyE",
        "colab_type": "code",
        "colab": {}
      },
      "cell_type": "code",
      "source": [
        "# 63 макс последовательность символов\n",
        "maxlen = np.max([len(x) for x in X]) "
      ],
      "execution_count": 0,
      "outputs": []
    },
    {
      "metadata": {
        "id": "bQKNtWqlQQyM",
        "colab_type": "code",
        "colab": {}
      },
      "cell_type": "code",
      "source": [
        "# Преобразование символов в int и pad (последовательности одиннаковой длины)\n",
        "X = [[valid_chars[y] for y in x] for x in X]\n",
        "X = sequence.pad_sequences(X, maxlen=maxlen)"
      ],
      "execution_count": 0,
      "outputs": []
    },
    {
      "metadata": {
        "id": "Qo6EH5LCp4RS",
        "colab_type": "code",
        "colab": {
          "base_uri": "https://localhost:8080/",
          "height": 136
        },
        "outputId": "abce1009-925b-47a3-af1b-fc8a3c6f5179"
      },
      "cell_type": "code",
      "source": [
        "X"
      ],
      "execution_count": 14,
      "outputs": [
        {
          "output_type": "execute_result",
          "data": {
            "text/plain": [
              "array([[ 0,  0,  0, ..., 13,  4, 35],\n",
              "       [ 0,  0,  0, ..., 18, 37, 13],\n",
              "       [ 0,  0,  0, ..., 23, 17, 21],\n",
              "       ...,\n",
              "       [ 0,  0,  0, ..., 19, 19,  7],\n",
              "       [ 0,  0,  0, ..., 22, 24, 22],\n",
              "       [ 0,  0,  0, ...,  7,  2, 16]], dtype=int32)"
            ]
          },
          "metadata": {
            "tags": []
          },
          "execution_count": 14
        }
      ]
    },
    {
      "metadata": {
        "id": "QkT1o9IWvw25",
        "colab_type": "text"
      },
      "cell_type": "markdown",
      "source": [
        "Построение модели"
      ]
    },
    {
      "metadata": {
        "id": "pvqshzI7DxPI",
        "colab_type": "code",
        "colab": {}
      },
      "cell_type": "code",
      "source": [
        "from tensorflow.keras.models import Sequential\n",
        "from tensorflow.keras.layers import Dense, Dropout, Activation, Embedding, LSTM, SimpleRNN, GRU, Convolution1D, GlobalMaxPooling1D\n",
        "from sklearn.model_selection import train_test_split\n",
        "from tensorflow.keras.callbacks import EarlyStopping"
      ],
      "execution_count": 0,
      "outputs": []
    },
    {
      "metadata": {
        "id": "0wbT82dE0b91",
        "colab_type": "code",
        "colab": {}
      },
      "cell_type": "code",
      "source": [
        "# 33% для теста\n",
        "X_train, X_test, y_train, y_test = train_test_split(X, y, test_size=0.33, random_state=0)"
      ],
      "execution_count": 0,
      "outputs": []
    },
    {
      "metadata": {
        "id": "k0O4sJGRQQym",
        "colab_type": "code",
        "colab": {}
      },
      "cell_type": "code",
      "source": [
        "# Метод Endgame (LSTM)\n",
        "modelEnd = Sequential()\n",
        "modelEnd.add(Embedding(max_features, 128, input_length=maxlen))\n",
        "modelEnd.add(LSTM(128))\n",
        "modelEnd.add(Dropout(0.5))\n",
        "modelEnd.add(Dense(1))\n",
        "modelEnd.add(Activation('sigmoid'))\n",
        "modelEnd.compile(loss='binary_crossentropy', optimizer='rmsprop', metrics=['accuracy'])"
      ],
      "execution_count": 0,
      "outputs": []
    },
    {
      "metadata": {
        "id": "e9VeD2NPgx6r",
        "colab_type": "code",
        "colab": {}
      },
      "cell_type": "code",
      "source": [
        "# Метод 2 (SimpleRNN)\n",
        "modelSR = Sequential()\n",
        "modelSR.add(Embedding(max_features, 128, input_length=maxlen))\n",
        "modelSR.add(SimpleRNN(128))\n",
        "modelSR.add(Dropout(0.5))\n",
        "modelSR.add(Dense(1))\n",
        "modelSR.add(Activation('sigmoid'))\n",
        "modelSR.compile(loss='binary_crossentropy', optimizer='rmsprop', metrics=['accuracy'])"
      ],
      "execution_count": 0,
      "outputs": []
    },
    {
      "metadata": {
        "id": "RLjl3SkhiVGu",
        "colab_type": "code",
        "colab": {}
      },
      "cell_type": "code",
      "source": [
        "# Метод 3 (GRU)\n",
        "modelGRU = Sequential()\n",
        "modelGRU.add(Embedding(max_features, 128, input_length=maxlen))\n",
        "modelGRU.add(GRU(128))\n",
        "modelGRU.add(Dropout(0.5))\n",
        "modelGRU.add(Dense(1))\n",
        "modelGRU.add(Activation('sigmoid'))\n",
        "modelGRU.compile(loss='binary_crossentropy', optimizer='rmsprop', metrics=['accuracy'])"
      ],
      "execution_count": 0,
      "outputs": []
    },
    {
      "metadata": {
        "id": "Rn_0FvW8kXpX",
        "colab_type": "code",
        "colab": {}
      },
      "cell_type": "code",
      "source": [
        "# Метод 4 (CNN)\n",
        "modelCNN = Sequential()\n",
        "modelCNN.add(Embedding(max_features, 128, input_length=maxlen))\n",
        "modelCNN.add(Convolution1D(filters=32, kernel_size=4))\n",
        "modelCNN.add(GlobalMaxPooling1D())\n",
        "modelCNN.add(Dense(128))\n",
        "modelCNN.add(Dropout(0.5))\n",
        "modelCNN.add(Activation('relu'))\n",
        "modelCNN.add(Dense(1))\n",
        "modelCNN.add(Activation('sigmoid'))\n",
        "modelCNN.compile(loss='binary_crossentropy', optimizer='rmsprop', metrics=['accuracy'])"
      ],
      "execution_count": 0,
      "outputs": []
    },
    {
      "metadata": {
        "id": "ypZd01Kb1lcF",
        "colab_type": "code",
        "colab": {}
      },
      "cell_type": "code",
      "source": [
        "# Игнорирование предостережения о нехватке памяти\n",
        "import warnings\n",
        "warnings.filterwarnings('ignore')"
      ],
      "execution_count": 0,
      "outputs": []
    },
    {
      "metadata": {
        "id": "i7caSo4Sv3WF",
        "colab_type": "text"
      },
      "cell_type": "markdown",
      "source": [
        "Обучение + кросс-валидация"
      ]
    },
    {
      "metadata": {
        "id": "PRxyhBt3iIaZ",
        "colab_type": "code",
        "colab": {
          "base_uri": "https://localhost:8080/",
          "height": 391
        },
        "outputId": "808e8b75-4112-40c7-8b4d-a0fccab25a82"
      },
      "cell_type": "code",
      "source": [
        "modelEnd.fit(X_train, y_train, validation_data=(X_test,y_test), epochs=10, batch_size=1024, callbacks=[EarlyStopping(monitor='val_loss',min_delta=0.0001)])"
      ],
      "execution_count": 22,
      "outputs": [
        {
          "output_type": "stream",
          "text": [
            "Train on 1207116 samples, validate on 594551 samples\n",
            "Epoch 1/10\n",
            "1207116/1207116 [==============================] - 293s 242us/step - loss: 0.1861 - acc: 0.9270 - val_loss: 0.1424 - val_acc: 0.9451\n",
            "Epoch 2/10\n",
            "1207116/1207116 [==============================] - 290s 240us/step - loss: 0.1031 - acc: 0.9636 - val_loss: 0.0831 - val_acc: 0.9714\n",
            "Epoch 3/10\n",
            "1207116/1207116 [==============================] - 286s 237us/step - loss: 0.0828 - acc: 0.9718 - val_loss: 0.0736 - val_acc: 0.9746\n",
            "Epoch 4/10\n",
            "1207116/1207116 [==============================] - 282s 234us/step - loss: 0.0752 - acc: 0.9743 - val_loss: 0.0715 - val_acc: 0.9756\n",
            "Epoch 5/10\n",
            "1207116/1207116 [==============================] - 282s 234us/step - loss: 0.0701 - acc: 0.9761 - val_loss: 0.0639 - val_acc: 0.9779\n",
            "Epoch 6/10\n",
            "1207116/1207116 [==============================] - 282s 234us/step - loss: 0.0660 - acc: 0.9775 - val_loss: 0.0623 - val_acc: 0.9784\n",
            "Epoch 7/10\n",
            "1207116/1207116 [==============================] - 283s 235us/step - loss: 0.0625 - acc: 0.9787 - val_loss: 0.0590 - val_acc: 0.9798\n",
            "Epoch 8/10\n",
            "1207116/1207116 [==============================] - 283s 234us/step - loss: 0.0598 - acc: 0.9797 - val_loss: 0.0580 - val_acc: 0.9800\n",
            "Epoch 9/10\n",
            "1207116/1207116 [==============================] - 282s 234us/step - loss: 0.0573 - acc: 0.9806 - val_loss: 0.0569 - val_acc: 0.9805\n",
            "Epoch 10/10\n",
            "1207116/1207116 [==============================] - 283s 234us/step - loss: 0.0554 - acc: 0.9812 - val_loss: 0.0548 - val_acc: 0.9814\n"
          ],
          "name": "stdout"
        },
        {
          "output_type": "execute_result",
          "data": {
            "text/plain": [
              "<tensorflow.python.keras.callbacks.History at 0x7f7915e7bd30>"
            ]
          },
          "metadata": {
            "tags": []
          },
          "execution_count": 22
        }
      ]
    },
    {
      "metadata": {
        "id": "HFDUBdSYhmHv",
        "colab_type": "code",
        "colab": {
          "base_uri": "https://localhost:8080/",
          "height": 391
        },
        "outputId": "e7b9f1e7-260d-408a-c049-71d18abc28b6"
      },
      "cell_type": "code",
      "source": [
        "modelSR.fit(X_train, y_train, validation_data=(X_test,y_test), epochs=10, batch_size=1024, callbacks=[EarlyStopping(monitor='val_loss',min_delta=0.0001)])"
      ],
      "execution_count": 23,
      "outputs": [
        {
          "output_type": "stream",
          "text": [
            "Train on 1207116 samples, validate on 594551 samples\n",
            "Epoch 1/10\n",
            "1207116/1207116 [==============================] - 96s 79us/step - loss: 0.1614 - acc: 0.9391 - val_loss: 0.1102 - val_acc: 0.9610\n",
            "Epoch 2/10\n",
            "1207116/1207116 [==============================] - 98s 81us/step - loss: 0.1063 - acc: 0.9635 - val_loss: 0.0881 - val_acc: 0.9696\n",
            "Epoch 3/10\n",
            "1207116/1207116 [==============================] - 97s 80us/step - loss: 0.0945 - acc: 0.9679 - val_loss: 0.0861 - val_acc: 0.9698\n",
            "Epoch 4/10\n",
            "1207116/1207116 [==============================] - 98s 81us/step - loss: 0.0881 - acc: 0.9702 - val_loss: 0.0798 - val_acc: 0.9725\n",
            "Epoch 5/10\n",
            "1207116/1207116 [==============================] - 99s 82us/step - loss: 0.0838 - acc: 0.9716 - val_loss: 0.0762 - val_acc: 0.9740\n",
            "Epoch 6/10\n",
            "1207116/1207116 [==============================] - 99s 82us/step - loss: 0.0805 - acc: 0.9728 - val_loss: 0.0745 - val_acc: 0.9745\n",
            "Epoch 7/10\n",
            "1207116/1207116 [==============================] - 99s 82us/step - loss: 0.0781 - acc: 0.9736 - val_loss: 0.0738 - val_acc: 0.9747\n",
            "Epoch 8/10\n",
            "1207116/1207116 [==============================] - 98s 81us/step - loss: 0.0763 - acc: 0.9743 - val_loss: 0.0715 - val_acc: 0.9756\n",
            "Epoch 9/10\n",
            "1207116/1207116 [==============================] - 99s 82us/step - loss: 0.0749 - acc: 0.9747 - val_loss: 0.0705 - val_acc: 0.9758\n",
            "Epoch 10/10\n",
            "1207116/1207116 [==============================] - 99s 82us/step - loss: 0.0737 - acc: 0.9752 - val_loss: 0.0699 - val_acc: 0.9759\n"
          ],
          "name": "stdout"
        },
        {
          "output_type": "execute_result",
          "data": {
            "text/plain": [
              "<tensorflow.python.keras.callbacks.History at 0x7f790ce52ef0>"
            ]
          },
          "metadata": {
            "tags": []
          },
          "execution_count": 23
        }
      ]
    },
    {
      "metadata": {
        "id": "rDYownTNiikt",
        "colab_type": "code",
        "colab": {
          "base_uri": "https://localhost:8080/",
          "height": 391
        },
        "outputId": "77713c9f-5d8d-42c4-be8c-4ef702bf7cc1"
      },
      "cell_type": "code",
      "source": [
        "modelGRU.fit(X_train, y_train, validation_data=(X_test,y_test), epochs=10, batch_size=1024, callbacks=[EarlyStopping(monitor='val_loss',min_delta=0.0001)])"
      ],
      "execution_count": 24,
      "outputs": [
        {
          "output_type": "stream",
          "text": [
            "Train on 1207116 samples, validate on 594551 samples\n",
            "Epoch 1/10\n",
            "1207116/1207116 [==============================] - 232s 192us/step - loss: 0.1838 - acc: 0.9284 - val_loss: 0.1186 - val_acc: 0.9588\n",
            "Epoch 2/10\n",
            "1207116/1207116 [==============================] - 229s 190us/step - loss: 0.1042 - acc: 0.9641 - val_loss: 0.0877 - val_acc: 0.9695\n",
            "Epoch 3/10\n",
            "1207116/1207116 [==============================] - 230s 190us/step - loss: 0.0823 - acc: 0.9720 - val_loss: 0.0774 - val_acc: 0.9729\n",
            "Epoch 4/10\n",
            "1207116/1207116 [==============================] - 233s 193us/step - loss: 0.0735 - acc: 0.9752 - val_loss: 0.0742 - val_acc: 0.9742\n",
            "Epoch 5/10\n",
            "1207116/1207116 [==============================] - 237s 197us/step - loss: 0.0683 - acc: 0.9771 - val_loss: 0.0640 - val_acc: 0.9781\n",
            "Epoch 6/10\n",
            "1207116/1207116 [==============================] - 238s 197us/step - loss: 0.0641 - acc: 0.9784 - val_loss: 0.0628 - val_acc: 0.9786\n",
            "Epoch 7/10\n",
            "1207116/1207116 [==============================] - 237s 196us/step - loss: 0.0609 - acc: 0.9796 - val_loss: 0.0590 - val_acc: 0.9800\n",
            "Epoch 8/10\n",
            "1207116/1207116 [==============================] - 236s 196us/step - loss: 0.0579 - acc: 0.9807 - val_loss: 0.0571 - val_acc: 0.9807\n",
            "Epoch 9/10\n",
            "1207116/1207116 [==============================] - 235s 194us/step - loss: 0.0556 - acc: 0.9815 - val_loss: 0.0558 - val_acc: 0.9810\n",
            "Epoch 10/10\n",
            "1207116/1207116 [==============================] - 236s 196us/step - loss: 0.0535 - acc: 0.9821 - val_loss: 0.0561 - val_acc: 0.9809\n"
          ],
          "name": "stdout"
        },
        {
          "output_type": "execute_result",
          "data": {
            "text/plain": [
              "<tensorflow.python.keras.callbacks.History at 0x7f7915e7bcc0>"
            ]
          },
          "metadata": {
            "tags": []
          },
          "execution_count": 24
        }
      ]
    },
    {
      "metadata": {
        "id": "Bp1kMnr0lRAY",
        "colab_type": "code",
        "colab": {
          "base_uri": "https://localhost:8080/",
          "height": 323
        },
        "outputId": "8ddc2f09-672a-42e7-a5b9-b1e30e20f12c"
      },
      "cell_type": "code",
      "source": [
        "modelCNN.fit(X_train, y_train, validation_data=(X_test,y_test), epochs=10, batch_size=1024, callbacks=[EarlyStopping(monitor='val_loss',min_delta=0.0001)])"
      ],
      "execution_count": 34,
      "outputs": [
        {
          "output_type": "stream",
          "text": [
            "Train on 1207116 samples, validate on 594551 samples\n",
            "Epoch 1/10\n",
            "1207116/1207116 [==============================] - 22s 18us/step - loss: 0.1719 - acc: 0.9362 - val_loss: 0.1310 - val_acc: 0.9549\n",
            "Epoch 2/10\n",
            "1207116/1207116 [==============================] - 21s 17us/step - loss: 0.1245 - acc: 0.9568 - val_loss: 0.1117 - val_acc: 0.9616\n",
            "Epoch 3/10\n",
            "1207116/1207116 [==============================] - 21s 17us/step - loss: 0.1147 - acc: 0.9606 - val_loss: 0.1097 - val_acc: 0.9611\n",
            "Epoch 4/10\n",
            "1207116/1207116 [==============================] - 21s 17us/step - loss: 0.1090 - acc: 0.9627 - val_loss: 0.1025 - val_acc: 0.9640\n",
            "Epoch 5/10\n",
            "1207116/1207116 [==============================] - 21s 17us/step - loss: 0.1048 - acc: 0.9643 - val_loss: 0.1008 - val_acc: 0.9649\n",
            "Epoch 6/10\n",
            "1207116/1207116 [==============================] - 21s 17us/step - loss: 0.1020 - acc: 0.9655 - val_loss: 0.0967 - val_acc: 0.9669\n",
            "Epoch 7/10\n",
            "1207116/1207116 [==============================] - 21s 17us/step - loss: 0.0999 - acc: 0.9663 - val_loss: 0.0953 - val_acc: 0.9669\n",
            "Epoch 8/10\n",
            "1207116/1207116 [==============================] - 21s 17us/step - loss: 0.0985 - acc: 0.9667 - val_loss: 0.0989 - val_acc: 0.9661\n"
          ],
          "name": "stdout"
        },
        {
          "output_type": "execute_result",
          "data": {
            "text/plain": [
              "<tensorflow.python.keras.callbacks.History at 0x7f790bb3ce80>"
            ]
          },
          "metadata": {
            "tags": []
          },
          "execution_count": 34
        }
      ]
    },
    {
      "metadata": {
        "id": "nfv1-vvcvndM",
        "colab_type": "text"
      },
      "cell_type": "markdown",
      "source": [
        "Тестирование на отложенной выборке"
      ]
    },
    {
      "metadata": {
        "id": "UYwHAGjWlFT1",
        "colab_type": "code",
        "colab": {}
      },
      "cell_type": "code",
      "source": [
        "import matplotlib.pyplot as plt\n",
        "%matplotlib inline\n",
        "from sklearn.metrics import accuracy_score, precision_score, recall_score, f1_score, \\\n",
        "    confusion_matrix, roc_curve, roc_auc_score, precision_recall_curve, average_precision_score\n",
        "from itertools import product"
      ],
      "execution_count": 0,
      "outputs": []
    },
    {
      "metadata": {
        "id": "XwFGTYJflNcB",
        "colab_type": "code",
        "colab": {}
      },
      "cell_type": "code",
      "source": [
        "y_scoreEnd = modelEnd.predict_proba(X_test)\n",
        "y_predEnd = y_scoreEnd.round()"
      ],
      "execution_count": 0,
      "outputs": []
    },
    {
      "metadata": {
        "id": "S7A44Kz-ivAX",
        "colab_type": "code",
        "colab": {}
      },
      "cell_type": "code",
      "source": [
        "y_scoreSR = modelSR.predict_proba(X_test)\n",
        "y_predSR = y_scoreSR.round()"
      ],
      "execution_count": 0,
      "outputs": []
    },
    {
      "metadata": {
        "id": "3JQrqMgviw7h",
        "colab_type": "code",
        "colab": {}
      },
      "cell_type": "code",
      "source": [
        "y_scoreGRU = modelGRU.predict_proba(X_test)\n",
        "y_predGRU = y_scoreGRU.round()"
      ],
      "execution_count": 0,
      "outputs": []
    },
    {
      "metadata": {
        "id": "wAWMXPO3lL23",
        "colab_type": "code",
        "colab": {}
      },
      "cell_type": "code",
      "source": [
        "y_scoreCNN = modelCNN.predict_proba(X_test)\n",
        "y_predCNN = y_scoreCNN.round()"
      ],
      "execution_count": 0,
      "outputs": []
    },
    {
      "metadata": {
        "id": "9m4JmWVFzlTU",
        "colab_type": "code",
        "colab": {}
      },
      "cell_type": "code",
      "source": [
        "y_pred = [y_predEnd, y_predSR, y_predGRU, y_predCNN]\n",
        "y_score = [y_scoreEnd, y_scoreSR, y_scoreGRU, y_scoreCNN]\n",
        "labels = ['legit', 'dga']\n",
        "names = [\"Endgame (LSTM)\", \"SimpleRNN\", \"GRU\", \"CNN\"]"
      ],
      "execution_count": 0,
      "outputs": []
    },
    {
      "metadata": {
        "id": "KOwf-YZ_mQ9a",
        "colab_type": "code",
        "colab": {
          "base_uri": "https://localhost:8080/",
          "height": 629
        },
        "outputId": "999bb6e6-7533-422e-e5a2-5dd735bcd7c2"
      },
      "cell_type": "code",
      "source": [
        "for y_pr, y_sc, name in zip(y_pred, y_score, names):\n",
        "    print(name)\n",
        "    print(\"Accuracy score : \", accuracy_score(y_test, y_pr))\n",
        "    print(\"Precision score : \", precision_score(y_test, y_pr))\n",
        "    print(\"Recall score : \", recall_score(y_test, y_pr))\n",
        "    print(\"F1 score : \", f1_score(y_test, y_pr))\n",
        "    print(\"ROC AUC score : \", roc_auc_score(y_test, y_sc))\n",
        "    print(\"Average Precision score : \", average_precision_score(y_test, y_sc))\n",
        "    print(\"\\n\")\n"
      ],
      "execution_count": 44,
      "outputs": [
        {
          "output_type": "stream",
          "text": [
            "Endgame (LSTM)\n",
            "Accuracy score :  0.9813523146037935\n",
            "Precision score :  0.975661232598401\n",
            "Recall score :  0.9825799521950924\n",
            "F1 score :  0.9791083700307712\n",
            "ROC AUC score :  0.9976917077455616\n",
            "Average Precision score :  0.9968025110237764\n",
            "\n",
            "\n",
            "SimpleRNN\n",
            "Accuracy score :  0.9758742311424924\n",
            "Precision score :  0.9703138635611327\n",
            "Recall score :  0.975598317751354\n",
            "F1 score :  0.9729489152409402\n",
            "ROC AUC score :  0.9962873962327456\n",
            "Average Precision score :  0.9946028883211787\n",
            "\n",
            "\n",
            "GRU\n",
            "Accuracy score :  0.9809166917556273\n",
            "Precision score :  0.9711706746702613\n",
            "Recall score :  0.986369550089256\n",
            "F1 score :  0.978711108275761\n",
            "ROC AUC score :  0.99751316876609\n",
            "Average Precision score :  0.9965171075199565\n",
            "\n",
            "\n",
            "CNN\n",
            "Accuracy score :  0.9660550566730188\n",
            "Precision score :  0.9622515804216981\n",
            "Recall score :  0.9613854346313273\n",
            "F1 score :  0.9618183125290874\n",
            "ROC AUC score :  0.9927036178616817\n",
            "Average Precision score :  0.98868271237895\n",
            "\n",
            "\n"
          ],
          "name": "stdout"
        }
      ]
    },
    {
      "metadata": {
        "id": "hBAhp6iFwb7_",
        "colab_type": "text"
      },
      "cell_type": "markdown",
      "source": [
        "Матрица ошибок (Confusion Matrix)"
      ]
    },
    {
      "metadata": {
        "id": "1ptdb6x4mr-5",
        "colab_type": "code",
        "colab": {
          "base_uri": "https://localhost:8080/",
          "height": 1193
        },
        "outputId": "a5b5d615-4769-4e84-e6c5-7dfc49317625"
      },
      "cell_type": "code",
      "source": [
        "for y_pr, name in zip(y_pred, names):  \n",
        "    cm = confusion_matrix(y_test, y_pr)\n",
        "    np.set_printoptions(precision=2)\n",
        "\n",
        "    cm = cm.astype('float') / cm.sum(axis=1).T[:, np.newaxis]\n",
        "\n",
        "    plt.imshow(cm, interpolation='nearest', cmap=plt.cm.Blues)\n",
        "    plt.title(\"Confusion Matrix (\" + name + \")\")\n",
        "    plt.colorbar()\n",
        "    plt.xticks([1, 0], labels, rotation=45)\n",
        "    plt.yticks([1, 0], labels)\n",
        "\n",
        "    fmt = '.2f'\n",
        "    thresh = cm.max() / 2.\n",
        "    for i, j in product(range(cm.shape[0]), range(cm.shape[1])):\n",
        "      plt.text(j, i, format(cm[i, j], fmt),\n",
        "      horizontalalignment=\"center\",\n",
        "      color=\"white\" if cm[i, j] > thresh else \"black\")\n",
        "\n",
        "    plt.tight_layout()\n",
        "    plt.ylabel('True label')\n",
        "    plt.xlabel('Predicted label')\n",
        "    plt.show()"
      ],
      "execution_count": 40,
      "outputs": [
        {
          "output_type": "display_data",
          "data": {
            "image/png": "[encoded data removed]",
            "text/plain": [
              "<matplotlib.figure.Figure at 0x7f790b436748>"
            ]
          },
          "metadata": {
            "tags": []
          }
        },
        {
          "output_type": "display_data",
          "data": {
            "image/png": "[encoded data removed]",
            "text/plain": [
              "<matplotlib.figure.Figure at 0x7f790b3ecfd0>"
            ]
          },
          "metadata": {
            "tags": []
          }
        },
        {
          "output_type": "display_data",
          "data": {
            "image/png": "[encoded data removed]",
            "text/plain": [
              "<matplotlib.figure.Figure at 0x7f790b558358>"
            ]
          },
          "metadata": {
            "tags": []
          }
        },
        {
          "output_type": "display_data",
          "data": {
            "image/png": "[encoded data removed]",
            "text/plain": [
              "<matplotlib.figure.Figure at 0x7f790b4d3e80>"
            ]
          },
          "metadata": {
            "tags": []
          }
        }
      ]
    },
    {
      "metadata": {
        "id": "uichjuQw-Evj",
        "colab_type": "text"
      },
      "cell_type": "markdown",
      "source": [
        "ROC-кривая"
      ]
    },
    {
      "metadata": {
        "id": "60K0CZnl98cy",
        "colab_type": "code",
        "colab": {
          "base_uri": "https://localhost:8080/",
          "height": 294
        },
        "outputId": "420c7c24-7189-4723-aad7-5393e2473372"
      },
      "cell_type": "code",
      "source": [
        "plt.figure()\n",
        "plt.plot([0, 1], [0, 1], '--', color=\"grey\")\n",
        "plt.axvline(0, linestyle=\"-\", c=\"black\", lw=1)\n",
        "plt.axvline(1, linestyle=\"--\", c=\"black\", lw=1)\n",
        "plt.axhline(1, linestyle=\"--\", c=\"black\", lw=1)\n",
        "for y_sc, name in zip(y_score, names):\n",
        "    fpr, tpr, thresholds = roc_curve(y_test, y_sc)\n",
        "    plt.plot(fpr, tpr, label=name)\n",
        "plt.grid(True)\n",
        "plt.xlabel('False positive rate')\n",
        "plt.ylabel('True positive rate')\n",
        "plt.title('ROC curve')\n",
        "plt.legend(loc='best')\n",
        "plt.show() "
      ],
      "execution_count": 43,
      "outputs": [
        {
          "output_type": "display_data",
          "data": {
            "image/png": "[encoded data removed]",
            "text/plain": [
              "<matplotlib.figure.Figure at 0x7f7909218eb8>"
            ]
          },
          "metadata": {
            "tags": []
          }
        }
      ]
    },
    {
      "metadata": {
        "id": "Cm3zybx1-ZYr",
        "colab_type": "text"
      },
      "cell_type": "markdown",
      "source": [
        "Кривая Точность-Полнота (Precision-Recall)"
      ]
    },
    {
      "metadata": {
        "id": "zV-sYZ0w-b8k",
        "colab_type": "code",
        "colab": {
          "base_uri": "https://localhost:8080/",
          "height": 294
        },
        "outputId": "61d44ded-4c6b-4332-b4de-00c943edcd3e"
      },
      "cell_type": "code",
      "source": [
        "plt.figure()\n",
        "plt.plot([0, 1], [0, 1], '--', color=\"grey\")\n",
        "plt.axvline(0, linestyle=\"-\", c=\"black\", lw=1)\n",
        "plt.axvline(1, linestyle=\"--\", c=\"black\", lw=1)\n",
        "plt.axhline(1, linestyle=\"--\", c=\"black\", lw=1)\n",
        "for y_sc, name in zip(y_score, names):\n",
        "    fpr, tpr, thresholds = precision_recall_curve(y_test, y_sc)\n",
        "    plt.plot(fpr, tpr, label=name)\n",
        "plt.grid(True)\n",
        "plt.xlabel('False positive rate')\n",
        "plt.ylabel('True positive rate')\n",
        "plt.title('Precision Recall curve')\n",
        "plt.legend(loc='best')\n",
        "plt.show()"
      ],
      "execution_count": 42,
      "outputs": [
        {
          "output_type": "display_data",
          "data": {
            "image/png": "[encoded data removed]",
            "text/plain": [
              "<matplotlib.figure.Figure at 0x7f790929bf98>"
            ]
          },
          "metadata": {
            "tags": []
          }
        }
      ]
    }
  ]
}