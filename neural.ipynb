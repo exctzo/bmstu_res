{
  "nbformat": 4,
  "nbformat_minor": 0,
  "metadata": {
    "colab": {
      "name": "neural.ipynb",
      "version": "0.3.2",
      "provenance": [],
      "collapsed_sections": []
    },
    "kernelspec": {
      "name": "python3",
      "display_name": "Python 3"
    },
    "accelerator": "GPU"
  },
  "cells": [
    {
      "metadata": {
        "collapsed": true,
        "id": "s-eV5CsdQQwz",
        "colab_type": "text"
      },
      "cell_type": "markdown",
      "source": [
        "## Методы на нейронных сетях"
      ]
    },
    {
      "metadata": {
        "id": "DDaEs29iQQw2",
        "colab_type": "text"
      },
      "cell_type": "markdown",
      "source": [
        "Подключаемые модули"
      ]
    },
    {
      "metadata": {
        "id": "SuWgDGaZQQw2",
        "colab_type": "code",
        "colab": {}
      },
      "cell_type": "code",
      "source": [
        "import pandas as pd\n",
        "import numpy as np\n",
        "import pickle\n",
        "import math"
      ],
      "execution_count": 0,
      "outputs": []
    },
    {
      "metadata": {
        "id": "dVv09eQpQQw7",
        "colab_type": "text"
      },
      "cell_type": "markdown",
      "source": [
        "Подгрузка данных о доменных именах с диска "
      ]
    },
    {
      "metadata": {
        "id": "UEYGs7TBRGcZ",
        "colab_type": "code",
        "colab": {
          "base_uri": "https://localhost:8080/",
          "height": 34
        },
        "outputId": "d05f0521-941e-46be-e354-f0478285faa0"
      },
      "cell_type": "code",
      "source": [
        "from google.colab import drive\n",
        "drive.mount('/content/gdrive')"
      ],
      "execution_count": 2,
      "outputs": [
        {
          "output_type": "stream",
          "text": [
            "Drive already mounted at /content/gdrive; to attempt to forcibly remount, call drive.mount(\"/content/gdrive\", force_remount=True).\n"
          ],
          "name": "stdout"
        }
      ]
    },
    {
      "metadata": {
        "id": "CR3e-OXeQQw9",
        "colab_type": "code",
        "colab": {}
      },
      "cell_type": "code",
      "source": [
        "with open('/content/gdrive/My Drive/Colab Notebooks/Res/input data/training_data.pkl', 'rb') as f:\n",
        "  training_data = pickle.load(f)"
      ],
      "execution_count": 0,
      "outputs": []
    },
    {
      "metadata": {
        "id": "O7tVwOQRQQxL",
        "colab_type": "text"
      },
      "cell_type": "markdown",
      "source": [
        "Общая коллекция данных"
      ]
    },
    {
      "metadata": {
        "id": "itBrrCEZQQxP",
        "colab_type": "code",
        "colab": {}
      },
      "cell_type": "code",
      "source": [
        "all_data_dict = pd.concat([training_data['legit'], training_data['dga']], ignore_index=True)"
      ],
      "execution_count": 0,
      "outputs": []
    },
    {
      "metadata": {
        "id": "TN5dTFRVQQxd",
        "colab_type": "text"
      },
      "cell_type": "markdown",
      "source": [
        "Массивы обучения"
      ]
    },
    {
      "metadata": {
        "id": "R39RaDUqQQxf",
        "colab_type": "code",
        "colab": {}
      },
      "cell_type": "code",
      "source": [
        "# Массив x хранит образцы обучения\n",
        "# В массиве y хранятся целевые значения (метки типов) для образцов обучения\n",
        "X = np.array(all_data_dict['domain'].tolist())\n",
        "y = np.array(all_data_dict['type'].tolist())"
      ],
      "execution_count": 0,
      "outputs": []
    },
    {
      "metadata": {
        "id": "T4ry34wkp1hv",
        "colab_type": "code",
        "colab": {
          "base_uri": "https://localhost:8080/",
          "height": 51
        },
        "outputId": "cc7eec20-6bf7-456a-8043-e4b4229e320f"
      },
      "cell_type": "code",
      "source": [
        "X"
      ],
      "execution_count": 6,
      "outputs": [
        {
          "output_type": "execute_result",
          "data": {
            "text/plain": [
              "array(['netflix', 'api-global', 'prod', ..., 'iumgkaoasgoyiccy',\n",
              "       'aemosuaokkwmqqmq', 'eimgukowkqeckykg'], dtype='<U63')"
            ]
          },
          "metadata": {
            "tags": []
          },
          "execution_count": 6
        }
      ]
    },
    {
      "metadata": {
        "id": "H7nG1eQZp2h6",
        "colab_type": "code",
        "colab": {
          "base_uri": "https://localhost:8080/",
          "height": 34
        },
        "outputId": "7e3fc08e-b52a-4496-842d-4e4b53640828"
      },
      "cell_type": "code",
      "source": [
        "y"
      ],
      "execution_count": 7,
      "outputs": [
        {
          "output_type": "execute_result",
          "data": {
            "text/plain": [
              "array([0, 0, 0, ..., 1, 1, 1])"
            ]
          },
          "metadata": {
            "tags": []
          },
          "execution_count": 7
        }
      ]
    },
    {
      "metadata": {
        "id": "LShZWT6TQQxu",
        "colab_type": "code",
        "colab": {}
      },
      "cell_type": "code",
      "source": [
        "from tensorflow.keras.preprocessing import sequence"
      ],
      "execution_count": 0,
      "outputs": []
    },
    {
      "metadata": {
        "id": "ngv8Qy1eQQxx",
        "colab_type": "code",
        "colab": {}
      },
      "cell_type": "code",
      "source": [
        "# Создание словаря действительных символов\n",
        "valid_chars = {x:idx+1 for idx, x in enumerate(set(''.join(X)))}"
      ],
      "execution_count": 0,
      "outputs": []
    },
    {
      "metadata": {
        "id": "-JkGMGXPpzG-",
        "colab_type": "code",
        "colab": {
          "base_uri": "https://localhost:8080/",
          "height": 646
        },
        "outputId": "423e3ef9-1ab4-490b-c836-86bbcbbc6a6b"
      },
      "cell_type": "code",
      "source": [
        "valid_chars"
      ],
      "execution_count": 10,
      "outputs": [
        {
          "output_type": "execute_result",
          "data": {
            "text/plain": [
              "{'-': 24,\n",
              " '0': 29,\n",
              " '1': 16,\n",
              " '2': 4,\n",
              " '3': 32,\n",
              " '4': 30,\n",
              " '5': 9,\n",
              " '6': 2,\n",
              " '7': 1,\n",
              " '8': 23,\n",
              " '9': 14,\n",
              " 'a': 37,\n",
              " 'b': 19,\n",
              " 'c': 10,\n",
              " 'd': 25,\n",
              " 'e': 28,\n",
              " 'f': 11,\n",
              " 'g': 34,\n",
              " 'h': 17,\n",
              " 'i': 18,\n",
              " 'j': 26,\n",
              " 'k': 5,\n",
              " 'l': 12,\n",
              " 'm': 33,\n",
              " 'n': 15,\n",
              " 'o': 35,\n",
              " 'p': 3,\n",
              " 'q': 21,\n",
              " 'r': 31,\n",
              " 's': 8,\n",
              " 't': 13,\n",
              " 'u': 36,\n",
              " 'v': 6,\n",
              " 'w': 20,\n",
              " 'x': 22,\n",
              " 'y': 27,\n",
              " 'z': 7}"
            ]
          },
          "metadata": {
            "tags": []
          },
          "execution_count": 10
        }
      ]
    },
    {
      "metadata": {
        "id": "pQbdNJXhQQx7",
        "colab_type": "code",
        "colab": {}
      },
      "cell_type": "code",
      "source": [
        "# 38 уникальных символов\n",
        "max_features = len(valid_chars) + 1 "
      ],
      "execution_count": 0,
      "outputs": []
    },
    {
      "metadata": {
        "id": "KqMpgC50QQyE",
        "colab_type": "code",
        "colab": {}
      },
      "cell_type": "code",
      "source": [
        "# 63 макс последовательность символов\n",
        "maxlen = np.max([len(x) for x in X]) "
      ],
      "execution_count": 0,
      "outputs": []
    },
    {
      "metadata": {
        "id": "bQKNtWqlQQyM",
        "colab_type": "code",
        "colab": {}
      },
      "cell_type": "code",
      "source": [
        "# Преобразование символов в int и pad (последовательности одиннаковой длины)\n",
        "X = [[valid_chars[y] for y in x] for x in X]\n",
        "X = sequence.pad_sequences(X, maxlen=maxlen)"
      ],
      "execution_count": 0,
      "outputs": []
    },
    {
      "metadata": {
        "id": "Qo6EH5LCp4RS",
        "colab_type": "code",
        "colab": {
          "base_uri": "https://localhost:8080/",
          "height": 136
        },
        "outputId": "18fbcbc9-1ee1-4c33-bc7f-aa838846ecb3"
      },
      "cell_type": "code",
      "source": [
        "X"
      ],
      "execution_count": 14,
      "outputs": [
        {
          "output_type": "execute_result",
          "data": {
            "text/plain": [
              "array([[ 0,  0,  0, ..., 12, 18, 22],\n",
              "       [ 0,  0,  0, ..., 19, 37, 12],\n",
              "       [ 0,  0,  0, ..., 31, 35, 25],\n",
              "       ...,\n",
              "       [ 0,  0,  0, ..., 10, 10, 27],\n",
              "       [ 0,  0,  0, ..., 21, 33, 21],\n",
              "       [ 0,  0,  0, ..., 27,  5, 34]], dtype=int32)"
            ]
          },
          "metadata": {
            "tags": []
          },
          "execution_count": 14
        }
      ]
    },
    {
      "metadata": {
        "id": "QkT1o9IWvw25",
        "colab_type": "text"
      },
      "cell_type": "markdown",
      "source": [
        "Построение модели"
      ]
    },
    {
      "metadata": {
        "id": "pvqshzI7DxPI",
        "colab_type": "code",
        "colab": {}
      },
      "cell_type": "code",
      "source": [
        "from tensorflow.keras.models import Sequential\n",
        "from tensorflow.keras.layers import Dense, Dropout, Activation, Embedding, LSTM, SimpleRNN, GRU, Convolution1D, GlobalMaxPooling1D\n",
        "from sklearn.model_selection import train_test_split\n",
        "from tensorflow.keras.callbacks import EarlyStopping"
      ],
      "execution_count": 0,
      "outputs": []
    },
    {
      "metadata": {
        "id": "0wbT82dE0b91",
        "colab_type": "code",
        "colab": {}
      },
      "cell_type": "code",
      "source": [
        "# 33% для теста\n",
        "X_train, X_test, y_train, y_test = train_test_split(X, y, test_size=0.33, random_state=0)"
      ],
      "execution_count": 0,
      "outputs": []
    },
    {
      "metadata": {
        "id": "k0O4sJGRQQym",
        "colab_type": "code",
        "colab": {}
      },
      "cell_type": "code",
      "source": [
        "# Метод Endgame (LSTM)\n",
        "modelEnd = Sequential()\n",
        "modelEnd.add(Embedding(max_features, 128, input_length=maxlen))\n",
        "modelEnd.add(LSTM(128))\n",
        "modelEnd.add(Dropout(0.5))\n",
        "modelEnd.add(Dense(1))\n",
        "modelEnd.add(Activation('sigmoid'))\n",
        "modelEnd.compile(loss='binary_crossentropy', optimizer='rmsprop', metrics=['accuracy'])"
      ],
      "execution_count": 0,
      "outputs": []
    },
    {
      "metadata": {
        "id": "e9VeD2NPgx6r",
        "colab_type": "code",
        "colab": {}
      },
      "cell_type": "code",
      "source": [
        "# Метод 2 (SimpleRNN)\n",
        "modelSR = Sequential()\n",
        "modelSR.add(Embedding(max_features, 128, input_length=maxlen))\n",
        "modelSR.add(SimpleRNN(128))\n",
        "modelSR.add(Dropout(0.5))\n",
        "modelSR.add(Dense(1))\n",
        "modelSR.add(Activation('sigmoid'))\n",
        "modelSR.compile(loss='binary_crossentropy', optimizer='rmsprop', metrics=['accuracy'])"
      ],
      "execution_count": 0,
      "outputs": []
    },
    {
      "metadata": {
        "id": "RLjl3SkhiVGu",
        "colab_type": "code",
        "colab": {}
      },
      "cell_type": "code",
      "source": [
        "# Метод 3 (GRU)\n",
        "modelGRU = Sequential()\n",
        "modelGRU.add(Embedding(max_features, 128, input_length=maxlen))\n",
        "modelGRU.add(GRU(128))\n",
        "modelGRU.add(Dropout(0.5))\n",
        "modelGRU.add(Dense(1))\n",
        "modelGRU.add(Activation('sigmoid'))\n",
        "modelGRU.compile(loss='binary_crossentropy', optimizer='rmsprop', metrics=['accuracy'])"
      ],
      "execution_count": 0,
      "outputs": []
    },
    {
      "metadata": {
        "id": "Rn_0FvW8kXpX",
        "colab_type": "code",
        "colab": {}
      },
      "cell_type": "code",
      "source": [
        "# Метод 4 (CNN)\n",
        "modelCNN = Sequential()\n",
        "modelCNN.add(Embedding(max_features, 128, input_length=maxlen))\n",
        "modelCNN.add(Convolution1D(filters=32, kernel_size=4))\n",
        "modelCNN.add(GlobalMaxPooling1D())\n",
        "modelCNN.add(Dense(128))\n",
        "modelCNN.add(Dropout(0.5))\n",
        "modelCNN.add(Activation('relu'))\n",
        "modelCNN.add(Dense(1))\n",
        "modelCNN.add(Activation('sigmoid'))\n",
        "modelCNN.compile(loss='binary_crossentropy', optimizer='rmsprop', metrics=['accuracy'])"
      ],
      "execution_count": 0,
      "outputs": []
    },
    {
      "metadata": {
        "id": "ypZd01Kb1lcF",
        "colab_type": "code",
        "colab": {}
      },
      "cell_type": "code",
      "source": [
        "# Игнорирование предостережения о нехватке памяти\n",
        "import warnings\n",
        "warnings.filterwarnings('ignore')"
      ],
      "execution_count": 0,
      "outputs": []
    },
    {
      "metadata": {
        "id": "i7caSo4Sv3WF",
        "colab_type": "text"
      },
      "cell_type": "markdown",
      "source": [
        "Обучение + кросс-валидация"
      ]
    },
    {
      "metadata": {
        "id": "-rkQJ8U8ahCp",
        "colab_type": "code",
        "colab": {}
      },
      "cell_type": "code",
      "source": [
        "names = [\"Endgame (LSTM)\", \"SimpleRNN\", \"GRU\", \"CNN\"]\n",
        "models = [modelEnd, modelSR, modelGRU, modelCNN]"
      ],
      "execution_count": 0,
      "outputs": []
    },
    {
      "metadata": {
        "id": "GGPCotEyaQNH",
        "colab_type": "code",
        "colab": {
          "base_uri": "https://localhost:8080/",
          "height": 1105
        },
        "outputId": "31e82886-fd49-40d6-8aa6-7bd74bb24068"
      },
      "cell_type": "code",
      "source": [
        "for model, name in zip(models, names):\n",
        "    print(name)\n",
        "    model.fit(X_train, y_train, validation_data=(X_test,y_test), epochs=10, batch_size=1024, callbacks=[EarlyStopping(monitor='val_loss',min_delta=0.0001)])\n",
        "    print(\"\\n\")"
      ],
      "execution_count": 23,
      "outputs": [
        {
          "output_type": "stream",
          "text": [
            "Endgame (LSTM)\n",
            "Train on 1207116 samples, validate on 594551 samples\n",
            "Epoch 1/10\n",
            "1207116/1207116 [==============================] - 306s 254us/step - loss: 0.1825 - acc: 0.9279 - val_loss: 0.1201 - val_acc: 0.9551\n",
            "Epoch 2/10\n",
            "1207116/1207116 [==============================] - 303s 251us/step - loss: 0.1012 - acc: 0.9643 - val_loss: 0.0850 - val_acc: 0.9698\n",
            "Epoch 3/10\n",
            "1207116/1207116 [==============================] - 303s 251us/step - loss: 0.0823 - acc: 0.9717 - val_loss: 0.0733 - val_acc: 0.9747\n",
            "Epoch 4/10\n",
            "1207116/1207116 [==============================] - 303s 251us/step - loss: 0.0751 - acc: 0.9744 - val_loss: 0.0702 - val_acc: 0.9755\n",
            "Epoch 5/10\n",
            "1207116/1207116 [==============================] - 301s 249us/step - loss: 0.0695 - acc: 0.9761 - val_loss: 0.0635 - val_acc: 0.9782\n",
            "Epoch 6/10\n",
            "1207116/1207116 [==============================] - 299s 248us/step - loss: 0.0651 - acc: 0.9777 - val_loss: 0.0621 - val_acc: 0.9787\n",
            "Epoch 7/10\n",
            "1207116/1207116 [==============================] - 299s 248us/step - loss: 0.0617 - acc: 0.9790 - val_loss: 0.0623 - val_acc: 0.9784\n",
            "\n",
            "\n",
            "SimpleRNN\n",
            "Train on 1207116 samples, validate on 594551 samples\n",
            "Epoch 1/10\n",
            "1207116/1207116 [==============================] - 104s 86us/step - loss: 0.1673 - acc: 0.9356 - val_loss: 0.1086 - val_acc: 0.9613\n",
            "Epoch 2/10\n",
            "1207116/1207116 [==============================] - 105s 87us/step - loss: 0.1081 - acc: 0.9628 - val_loss: 0.0905 - val_acc: 0.9689\n",
            "Epoch 3/10\n",
            "1207116/1207116 [==============================] - 107s 89us/step - loss: 0.0958 - acc: 0.9677 - val_loss: 0.0831 - val_acc: 0.9711\n",
            "Epoch 4/10\n",
            "1207116/1207116 [==============================] - 107s 88us/step - loss: 0.0886 - acc: 0.9700 - val_loss: 0.0851 - val_acc: 0.9709\n",
            "\n",
            "\n",
            "GRU\n",
            "Train on 1207116 samples, validate on 594551 samples\n",
            "Epoch 1/10\n",
            "1207116/1207116 [==============================] - 245s 203us/step - loss: 0.1839 - acc: 0.9285 - val_loss: 0.1199 - val_acc: 0.9573\n",
            "Epoch 2/10\n",
            "1207116/1207116 [==============================] - 244s 202us/step - loss: 0.1013 - acc: 0.9650 - val_loss: 0.0838 - val_acc: 0.9710\n",
            "Epoch 3/10\n",
            "1207116/1207116 [==============================] - 246s 203us/step - loss: 0.0809 - acc: 0.9726 - val_loss: 0.0721 - val_acc: 0.9753\n",
            "Epoch 4/10\n",
            "1207116/1207116 [==============================] - 245s 203us/step - loss: 0.0729 - acc: 0.9753 - val_loss: 0.0664 - val_acc: 0.9775\n",
            "Epoch 5/10\n",
            "1207116/1207116 [==============================] - 252s 209us/step - loss: 0.0679 - acc: 0.9772 - val_loss: 0.0625 - val_acc: 0.9786\n",
            "Epoch 6/10\n",
            "1207116/1207116 [==============================] - 246s 204us/step - loss: 0.0640 - acc: 0.9785 - val_loss: 0.0606 - val_acc: 0.9794\n",
            "Epoch 7/10\n",
            "1207116/1207116 [==============================] - 246s 204us/step - loss: 0.0607 - acc: 0.9796 - val_loss: 0.0585 - val_acc: 0.9800\n",
            "Epoch 8/10\n",
            "1207116/1207116 [==============================] - 245s 203us/step - loss: 0.0579 - acc: 0.9806 - val_loss: 0.0568 - val_acc: 0.9809\n",
            "Epoch 9/10\n",
            "1207116/1207116 [==============================] - 244s 203us/step - loss: 0.0553 - acc: 0.9815 - val_loss: 0.0561 - val_acc: 0.9812\n",
            "Epoch 10/10\n",
            "1207116/1207116 [==============================] - 245s 203us/step - loss: 0.0535 - acc: 0.9822 - val_loss: 0.0553 - val_acc: 0.9813\n",
            "\n",
            "\n",
            "CNN\n",
            "Train on 1207116 samples, validate on 594551 samples\n",
            "Epoch 1/10\n",
            "1207116/1207116 [==============================] - 24s 20us/step - loss: 0.1747 - acc: 0.9351 - val_loss: 0.1288 - val_acc: 0.9546\n",
            "Epoch 2/10\n",
            "1207116/1207116 [==============================] - 21s 18us/step - loss: 0.1280 - acc: 0.9554 - val_loss: 0.1153 - val_acc: 0.9596\n",
            "Epoch 3/10\n",
            "1207116/1207116 [==============================] - 21s 18us/step - loss: 0.1171 - acc: 0.9596 - val_loss: 0.1261 - val_acc: 0.9529\n",
            "\n",
            "\n"
          ],
          "name": "stdout"
        }
      ]
    },
    {
      "metadata": {
        "id": "nfv1-vvcvndM",
        "colab_type": "text"
      },
      "cell_type": "markdown",
      "source": [
        "Тестирование на отложенной выборке"
      ]
    },
    {
      "metadata": {
        "id": "UYwHAGjWlFT1",
        "colab_type": "code",
        "colab": {}
      },
      "cell_type": "code",
      "source": [
        "import matplotlib.pyplot as plt\n",
        "%matplotlib inline\n",
        "from sklearn.metrics import accuracy_score, precision_score, recall_score, f1_score, \\\n",
        "    confusion_matrix, roc_curve, roc_auc_score, precision_recall_curve, average_precision_score, matthews_corrcoef\n",
        "from itertools import product"
      ],
      "execution_count": 0,
      "outputs": []
    },
    {
      "metadata": {
        "id": "E-d1PDXY44CP",
        "colab_type": "code",
        "colab": {}
      },
      "cell_type": "code",
      "source": [
        "y_scoreEnd = modelEnd.predict_proba(X_test)\n",
        "y_predEnd = y_scoreEnd.round()\n",
        "\n",
        "y_scoreSR = modelSR.predict_proba(X_test)\n",
        "y_predSR = y_scoreSR.round()\n",
        "\n",
        "y_scoreGRU = modelGRU.predict_proba(X_test)\n",
        "y_predGRU = y_scoreGRU.round()\n",
        "\n",
        "y_scoreCNN = modelCNN.predict_proba(X_test)\n",
        "y_predCNN = y_scoreCNN.round()"
      ],
      "execution_count": 0,
      "outputs": []
    },
    {
      "metadata": {
        "id": "9m4JmWVFzlTU",
        "colab_type": "code",
        "colab": {}
      },
      "cell_type": "code",
      "source": [
        "y_pred = [y_predEnd, y_predSR, y_predGRU, y_predCNN]\n",
        "y_score = [y_scoreEnd, y_scoreSR, y_scoreGRU, y_scoreCNN]\n",
        "labels = ['legit', 'dga']"
      ],
      "execution_count": 0,
      "outputs": []
    },
    {
      "metadata": {
        "id": "KOwf-YZ_mQ9a",
        "colab_type": "code",
        "colab": {
          "base_uri": "https://localhost:8080/",
          "height": 697
        },
        "outputId": "80c66504-4e37-4fc8-ef73-00221d3ffc60"
      },
      "cell_type": "code",
      "source": [
        "for y_pr, y_sc, name in zip(y_pred, y_score, names):\n",
        "    print(name)\n",
        "    print(\"Accuracy score : \", accuracy_score(y_test, y_pr))\n",
        "    print(\"Precision score : \", precision_score(y_test, y_pr))\n",
        "    print(\"Recall score : \", recall_score(y_test, y_pr))\n",
        "    print(\"F1 score : \", f1_score(y_test, y_pr))\n",
        "    print(\"MCC score : \", matthews_corrcoef(y_test, y_pr))\n",
        "    print(\"ROC AUC score : \", roc_auc_score(y_test, y_sc))\n",
        "    print(\"Average Precision score : \", average_precision_score(y_test, y_sc))\n",
        "    print(\"\\n\")\n"
      ],
      "execution_count": 27,
      "outputs": [
        {
          "output_type": "stream",
          "text": [
            "Endgame (LSTM)\n",
            "Accuracy score :  0.9784021892150547\n",
            "Precision score :  0.9763822768606153\n",
            "Recall score :  0.9750196665758979\n",
            "F1 score :  0.9757004959816218\n",
            "MCC score :  0.9562644971986172\n",
            "ROC AUC score :  0.9971796031497594\n",
            "Average Precision score :  0.9960199115891647\n",
            "\n",
            "\n",
            "SimpleRNN\n",
            "Accuracy score :  0.9708805468328201\n",
            "Precision score :  0.9517722042029744\n",
            "Recall score :  0.9844028924994705\n",
            "F1 score :  0.9678125830806443\n",
            "MCC score :  0.9416867024066099\n",
            "ROC AUC score :  0.9950345327311597\n",
            "Average Precision score :  0.992505204066698\n",
            "\n",
            "\n",
            "GRU\n",
            "Accuracy score :  0.9812850369438451\n",
            "Precision score :  0.9714572901736687\n",
            "Recall score :  0.9869141629602736\n",
            "F1 score :  0.9791247282012221\n",
            "MCC score :  0.962265246599642\n",
            "ROC AUC score :  0.9975686581695942\n",
            "Average Precision score :  0.9965676473681415\n",
            "\n",
            "\n",
            "CNN\n",
            "Accuracy score :  0.95286358949863\n",
            "Precision score :  0.9158846277001896\n",
            "Recall score :  0.9844180206347766\n",
            "F1 score :  0.94891551418973\n",
            "MCC score :  0.907297645163936\n",
            "ROC AUC score :  0.9903400589034106\n",
            "Average Precision score :  0.9848881161735266\n",
            "\n",
            "\n"
          ],
          "name": "stdout"
        }
      ]
    },
    {
      "metadata": {
        "id": "hBAhp6iFwb7_",
        "colab_type": "text"
      },
      "cell_type": "markdown",
      "source": [
        "Матрица ошибок (Confusion Matrix)"
      ]
    },
    {
      "metadata": {
        "id": "1ptdb6x4mr-5",
        "colab_type": "code",
        "colab": {
          "base_uri": "https://localhost:8080/",
          "height": 1193
        },
        "outputId": "51a3b9c8-83a5-4065-ae37-00589f605fa6"
      },
      "cell_type": "code",
      "source": [
        "for y_pr, name in zip(y_pred, names):  \n",
        "    cm = confusion_matrix(y_test, y_pr)\n",
        "    np.set_printoptions(precision=2)\n",
        "\n",
        "    cm = cm.astype('float') / cm.sum(axis=1).T[:, np.newaxis]\n",
        "\n",
        "    plt.imshow(cm, interpolation='nearest', cmap=plt.cm.Blues)\n",
        "    plt.title(\"Confusion Matrix (\" + name + \")\")\n",
        "    plt.colorbar()\n",
        "    plt.xticks([1, 0], labels, rotation=45)\n",
        "    plt.yticks([1, 0], labels)\n",
        "\n",
        "    fmt = '.2f'\n",
        "    thresh = cm.max() / 2.\n",
        "    for i, j in product(range(cm.shape[0]), range(cm.shape[1])):\n",
        "      plt.text(j, i, format(cm[i, j], fmt),\n",
        "      horizontalalignment=\"center\",\n",
        "      color=\"white\" if cm[i, j] > thresh else \"black\")\n",
        "\n",
        "    plt.tight_layout()\n",
        "    plt.ylabel('True label')\n",
        "    plt.xlabel('Predicted label')\n",
        "    plt.show()"
      ],
      "execution_count": 28,
      "outputs": [
        {
          "output_type": "display_data",
          "data": {
            "image/png": "[encoded data removed]",
            "text/plain": [
              "<matplotlib.figure.Figure at 0x7faad0246e80>"
            ]
          },
          "metadata": {
            "tags": []
          }
        },
        {
          "output_type": "display_data",
          "data": {
            "image/png": "[encoded data removed]",
            "text/plain": [
              "<matplotlib.figure.Figure at 0x7faad00453c8>"
            ]
          },
          "metadata": {
            "tags": []
          }
        },
        {
          "output_type": "display_data",
          "data": {
            "image/png": "[encoded data removed]",
            "text/plain": [
              "<matplotlib.figure.Figure at 0x7faacfee55f8>"
            ]
          },
          "metadata": {
            "tags": []
          }
        },
        {
          "output_type": "display_data",
          "data": {
            "image/png": "[encoded data removed]",
            "text/plain": [
              "<matplotlib.figure.Figure at 0x7faacffe3390>"
            ]
          },
          "metadata": {
            "tags": []
          }
        }
      ]
    },
    {
      "metadata": {
        "id": "uichjuQw-Evj",
        "colab_type": "text"
      },
      "cell_type": "markdown",
      "source": [
        "ROC-кривая"
      ]
    },
    {
      "metadata": {
        "id": "60K0CZnl98cy",
        "colab_type": "code",
        "colab": {
          "base_uri": "https://localhost:8080/",
          "height": 294
        },
        "outputId": "323bc475-97ba-4b6c-bf21-e3d81456aaff"
      },
      "cell_type": "code",
      "source": [
        "plt.figure()\n",
        "plt.plot([0, 1], [0, 1], '--', color=\"grey\")\n",
        "plt.axvline(0, linestyle=\"-\", c=\"black\", lw=1)\n",
        "plt.axvline(1, linestyle=\"--\", c=\"black\", lw=1)\n",
        "plt.axhline(1, linestyle=\"--\", c=\"black\", lw=1)\n",
        "for y_sc, name in zip(y_score, names):\n",
        "    fpr, tpr, thresholds = roc_curve(y_test, y_sc)\n",
        "    plt.plot(fpr, tpr, label=name)\n",
        "plt.grid(True)\n",
        "plt.xlabel('False positive rate')\n",
        "plt.ylabel('True positive rate')\n",
        "plt.title('ROC curve')\n",
        "plt.legend(loc='best')\n",
        "plt.show() "
      ],
      "execution_count": 29,
      "outputs": [
        {
          "output_type": "display_data",
          "data": {
            "image/png": "[encoded data removed]",
            "text/plain": [
              "<matplotlib.figure.Figure at 0x7faacddcbf98>"
            ]
          },
          "metadata": {
            "tags": []
          }
        }
      ]
    },
    {
      "metadata": {
        "id": "Cm3zybx1-ZYr",
        "colab_type": "text"
      },
      "cell_type": "markdown",
      "source": [
        "Кривая Точность-Полнота (Precision-Recall)"
      ]
    },
    {
      "metadata": {
        "id": "zV-sYZ0w-b8k",
        "colab_type": "code",
        "colab": {
          "base_uri": "https://localhost:8080/",
          "height": 294
        },
        "outputId": "4e20bbae-fabc-482c-e528-bbb1995b59e0"
      },
      "cell_type": "code",
      "source": [
        "plt.figure()\n",
        "plt.plot([0, 1], [0, 1], '--', color=\"grey\")\n",
        "plt.axvline(0, linestyle=\"-\", c=\"black\", lw=1)\n",
        "plt.axvline(1, linestyle=\"--\", c=\"black\", lw=1)\n",
        "plt.axhline(1, linestyle=\"--\", c=\"black\", lw=1)\n",
        "for y_sc, name in zip(y_score, names):\n",
        "    fpr, tpr, thresholds = precision_recall_curve(y_test, y_sc)\n",
        "    plt.plot(fpr, tpr, label=name)\n",
        "plt.grid(True)\n",
        "plt.xlabel('False positive rate')\n",
        "plt.ylabel('True positive rate')\n",
        "plt.title('Precision Recall curve')\n",
        "plt.legend(loc='best')\n",
        "plt.show()"
      ],
      "execution_count": 30,
      "outputs": [
        {
          "output_type": "display_data",
          "data": {
            "image/png": "[encoded data removed]",
            "text/plain": [
              "<matplotlib.figure.Figure at 0x7faad00bc908>"
            ]
          },
          "metadata": {
            "tags": []
          }
        }
      ]
    }
  ]
}